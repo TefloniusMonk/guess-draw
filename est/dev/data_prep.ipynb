{
 "cells": [
  {
   "cell_type": "code",
   "execution_count": 1,
   "metadata": {
    "collapsed": true
   },
   "outputs": [],
   "source": [
    "import numpy as np\n",
    "import pandas as pd\n",
    "from os import walk, mkdir\n",
    "\n",
    "def build_filename(path, cat, index, ext = ''):\n",
    "    return path + cat + \"\\\\\" + cat + \"_\" + str(index) + ext\n",
    "\n",
    "def split_files(path = 'F:\\\\doodles\\\\', batch_num = 250, path_to_save='E:\\\\doodles\\\\'):\n",
    "    _, _, filenames = next(walk(path))\n",
    "    for filename in filenames:\n",
    "        category = filename.split('.')[0]\n",
    "        buckets = np.array_split(np.load(file=path + filename) , batch_num)\n",
    "        mkdir(path_to_save + category)\n",
    "        print(\"Creating directory {}\".format(path_to_save + category))\n",
    "        for index, bucket in enumerate(buckets):\n",
    "            np.save(build_filename(path_to_save, category, index), bucket)\n"
   ]
  },
  {
   "cell_type": "code",
   "execution_count": null,
   "metadata": {
    "pycharm": {
     "name": "#%%\n"
    }
   },
   "outputs": [],
   "source": [
    "split_files()\n"
   ]
  },
  {
   "cell_type": "code",
   "execution_count": 2,
   "metadata": {
    "pycharm": {
     "name": "#%%\n"
    }
   },
   "outputs": [],
   "source": [
    "from tqdm import tqdm\n",
    "\n",
    "def markup(arr, category):\n",
    "    return np.append(arr, np.array([[category] * arr.shape[0]]).T, axis=1)\n",
    "\n",
    "def join_categories(path_to_files = 'E:\\\\doodles\\\\', batch_num = 250, path_to_save='F:\\\\doodles\\\\'):\n",
    "    _, dirnames, _ = next(walk(path_to_files))\n",
    "    for i in tqdm(range(147, batch_num)):\n",
    "        res = None\n",
    "        for category in dirnames:\n",
    "            loaded = np.load(file=build_filename(path_to_files, category, i, ext='.npy'))\n",
    "            df = pd.DataFrame(loaded)\n",
    "            df['category'] = category\n",
    "            if res is None:\n",
    "                res = df\n",
    "            else:\n",
    "                res = res.append(df)\n",
    "        res.to_csv(path_to_save + \"bucket_\" + str(i) + '.csv')\n"
   ]
  },
  {
   "cell_type": "code",
   "execution_count": 3,
   "metadata": {
    "pycharm": {
     "name": "#%%\n"
    }
   },
   "outputs": [
    {
     "name": "stderr",
     "output_type": "stream",
     "text": [
      "100%|██████████| 103/103 [38:07<00:00, 22.21s/it]\n"
     ]
    }
   ],
   "source": [
    "join_categories()"
   ]
  },
  {
   "cell_type": "code",
   "execution_count": 8,
   "metadata": {
    "pycharm": {
     "name": "#%%\n"
    }
   },
   "outputs": [
    {
     "name": "stdout",
     "output_type": "stream",
     "text": [
      "<class 'pandas.core.frame.DataFrame'>\n",
      "RangeIndex: 173452 entries, 0 to 173451\n",
      "Columns: 786 entries, Unnamed: 0 to category\n",
      "dtypes: int64(785), object(1)\n",
      "memory usage: 1.0+ GB\n"
     ]
    }
   ],
   "source": [
    "ds =pd.read_csv('F:\\\\doodles\\\\bucket_0.csv')\n",
    "ds.info()\n"
   ]
  }
 ],
 "metadata": {
  "kernelspec": {
   "display_name": "Python 3",
   "language": "python",
   "name": "python3"
  },
  "language_info": {
   "codemirror_mode": {
    "name": "ipython",
    "version": 3
   },
   "file_extension": ".py",
   "mimetype": "text/x-python",
   "name": "python",
   "nbconvert_exporter": "python",
   "pygments_lexer": "ipython3",
   "version": "3.8.7"
  }
 },
 "nbformat": 4,
 "nbformat_minor": 1
}