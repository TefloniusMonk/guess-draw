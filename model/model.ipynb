{
 "cells": [
  {
   "cell_type": "markdown",
   "metadata": {
    "pycharm": {
     "name": "#%% md\n"
    }
   },
   "source": [
    "### В данном ноутбуке попробуем построить модель для классификации изображений с сайта https://quickdraw.withgoogle.com/. Данные взяты с формате .npy и представляют из себя 784 пикселя(Ниже примеры). Для моделирования будем использовать библиотеку tensorflow и keras, catboost, "
   ]
  },
  {
   "cell_type": "code",
   "execution_count": 1,
   "metadata": {},
   "outputs": [],
   "source": [
    "import pandas as pd\n",
    "import numpy as np\n",
    "from matplotlib import pyplot as plt\n",
    "import seaborn as sns\n",
    "from os import walk\n",
    "import re\n",
    "from tqdm import tqdm\n",
    "import uuid"
   ]
  },
  {
   "cell_type": "code",
   "execution_count": 29,
   "metadata": {
    "pycharm": {
     "name": "#%%\n"
    }
   },
   "outputs": [],
   "source": [
    "df = pd.read_csv('F:\\\\doodles\\\\bucket_31.csv', dtype=dict(zip(range(784), [np.uint8]*784)))\n",
    "df.drop(columns=['Unnamed: 0'], inplace= True)"
   ]
  },
  {
   "cell_type": "code",
   "execution_count": 30,
   "metadata": {},
   "outputs": [
    {
     "name": "stdout",
     "output_type": "stream",
     "text": [
      "<class 'pandas.core.frame.DataFrame'>\n",
      "RangeIndex: 173405 entries, 0 to 173404\n",
      "Columns: 785 entries, 0 to category\n",
      "dtypes: int64(1), object(1), uint8(783)\n",
      "memory usage: 132.1+ MB\n"
     ]
    }
   ],
   "source": [
    "df.info()"
   ]
  },
  {
   "cell_type": "code",
   "execution_count": 31,
   "metadata": {
    "pycharm": {
     "name": "#%%\n"
    }
   },
   "outputs": [
    {
     "data": {
      "text/html": [
       "<div>\n",
       "<style scoped>\n",
       "    .dataframe tbody tr th:only-of-type {\n",
       "        vertical-align: middle;\n",
       "    }\n",
       "\n",
       "    .dataframe tbody tr th {\n",
       "        vertical-align: top;\n",
       "    }\n",
       "\n",
       "    .dataframe thead th {\n",
       "        text-align: right;\n",
       "    }\n",
       "</style>\n",
       "<table border=\"1\" class=\"dataframe\">\n",
       "  <thead>\n",
       "    <tr style=\"text-align: right;\">\n",
       "      <th></th>\n",
       "      <th>0</th>\n",
       "      <th>1</th>\n",
       "      <th>2</th>\n",
       "      <th>3</th>\n",
       "      <th>4</th>\n",
       "      <th>5</th>\n",
       "      <th>6</th>\n",
       "      <th>7</th>\n",
       "      <th>8</th>\n",
       "      <th>9</th>\n",
       "      <th>...</th>\n",
       "      <th>774</th>\n",
       "      <th>775</th>\n",
       "      <th>776</th>\n",
       "      <th>777</th>\n",
       "      <th>778</th>\n",
       "      <th>779</th>\n",
       "      <th>780</th>\n",
       "      <th>781</th>\n",
       "      <th>782</th>\n",
       "      <th>783</th>\n",
       "    </tr>\n",
       "    <tr>\n",
       "      <th>category</th>\n",
       "      <th></th>\n",
       "      <th></th>\n",
       "      <th></th>\n",
       "      <th></th>\n",
       "      <th></th>\n",
       "      <th></th>\n",
       "      <th></th>\n",
       "      <th></th>\n",
       "      <th></th>\n",
       "      <th></th>\n",
       "      <th></th>\n",
       "      <th></th>\n",
       "      <th></th>\n",
       "      <th></th>\n",
       "      <th></th>\n",
       "      <th></th>\n",
       "      <th></th>\n",
       "      <th></th>\n",
       "      <th></th>\n",
       "      <th></th>\n",
       "      <th></th>\n",
       "    </tr>\n",
       "  </thead>\n",
       "  <tbody>\n",
       "    <tr>\n",
       "      <th>airplane</th>\n",
       "      <td>607</td>\n",
       "      <td>607</td>\n",
       "      <td>607</td>\n",
       "      <td>607</td>\n",
       "      <td>607</td>\n",
       "      <td>607</td>\n",
       "      <td>607</td>\n",
       "      <td>607</td>\n",
       "      <td>607</td>\n",
       "      <td>607</td>\n",
       "      <td>...</td>\n",
       "      <td>607</td>\n",
       "      <td>607</td>\n",
       "      <td>607</td>\n",
       "      <td>607</td>\n",
       "      <td>607</td>\n",
       "      <td>607</td>\n",
       "      <td>607</td>\n",
       "      <td>607</td>\n",
       "      <td>607</td>\n",
       "      <td>607</td>\n",
       "    </tr>\n",
       "    <tr>\n",
       "      <th>ambulance</th>\n",
       "      <td>592</td>\n",
       "      <td>592</td>\n",
       "      <td>592</td>\n",
       "      <td>592</td>\n",
       "      <td>592</td>\n",
       "      <td>592</td>\n",
       "      <td>592</td>\n",
       "      <td>592</td>\n",
       "      <td>592</td>\n",
       "      <td>592</td>\n",
       "      <td>...</td>\n",
       "      <td>592</td>\n",
       "      <td>592</td>\n",
       "      <td>592</td>\n",
       "      <td>592</td>\n",
       "      <td>592</td>\n",
       "      <td>592</td>\n",
       "      <td>592</td>\n",
       "      <td>592</td>\n",
       "      <td>592</td>\n",
       "      <td>592</td>\n",
       "    </tr>\n",
       "    <tr>\n",
       "      <th>angel</th>\n",
       "      <td>599</td>\n",
       "      <td>599</td>\n",
       "      <td>599</td>\n",
       "      <td>599</td>\n",
       "      <td>599</td>\n",
       "      <td>599</td>\n",
       "      <td>599</td>\n",
       "      <td>599</td>\n",
       "      <td>599</td>\n",
       "      <td>599</td>\n",
       "      <td>...</td>\n",
       "      <td>599</td>\n",
       "      <td>599</td>\n",
       "      <td>599</td>\n",
       "      <td>599</td>\n",
       "      <td>599</td>\n",
       "      <td>599</td>\n",
       "      <td>599</td>\n",
       "      <td>599</td>\n",
       "      <td>599</td>\n",
       "      <td>599</td>\n",
       "    </tr>\n",
       "    <tr>\n",
       "      <th>ant</th>\n",
       "      <td>499</td>\n",
       "      <td>499</td>\n",
       "      <td>499</td>\n",
       "      <td>499</td>\n",
       "      <td>499</td>\n",
       "      <td>499</td>\n",
       "      <td>499</td>\n",
       "      <td>499</td>\n",
       "      <td>499</td>\n",
       "      <td>499</td>\n",
       "      <td>...</td>\n",
       "      <td>499</td>\n",
       "      <td>499</td>\n",
       "      <td>499</td>\n",
       "      <td>499</td>\n",
       "      <td>499</td>\n",
       "      <td>499</td>\n",
       "      <td>499</td>\n",
       "      <td>499</td>\n",
       "      <td>499</td>\n",
       "      <td>499</td>\n",
       "    </tr>\n",
       "    <tr>\n",
       "      <th>anvil</th>\n",
       "      <td>505</td>\n",
       "      <td>505</td>\n",
       "      <td>505</td>\n",
       "      <td>505</td>\n",
       "      <td>505</td>\n",
       "      <td>505</td>\n",
       "      <td>505</td>\n",
       "      <td>505</td>\n",
       "      <td>505</td>\n",
       "      <td>505</td>\n",
       "      <td>...</td>\n",
       "      <td>505</td>\n",
       "      <td>505</td>\n",
       "      <td>505</td>\n",
       "      <td>505</td>\n",
       "      <td>505</td>\n",
       "      <td>505</td>\n",
       "      <td>505</td>\n",
       "      <td>505</td>\n",
       "      <td>505</td>\n",
       "      <td>505</td>\n",
       "    </tr>\n",
       "    <tr>\n",
       "      <th>...</th>\n",
       "      <td>...</td>\n",
       "      <td>...</td>\n",
       "      <td>...</td>\n",
       "      <td>...</td>\n",
       "      <td>...</td>\n",
       "      <td>...</td>\n",
       "      <td>...</td>\n",
       "      <td>...</td>\n",
       "      <td>...</td>\n",
       "      <td>...</td>\n",
       "      <td>...</td>\n",
       "      <td>...</td>\n",
       "      <td>...</td>\n",
       "      <td>...</td>\n",
       "      <td>...</td>\n",
       "      <td>...</td>\n",
       "      <td>...</td>\n",
       "      <td>...</td>\n",
       "      <td>...</td>\n",
       "      <td>...</td>\n",
       "      <td>...</td>\n",
       "    </tr>\n",
       "    <tr>\n",
       "      <th>windmill</th>\n",
       "      <td>483</td>\n",
       "      <td>483</td>\n",
       "      <td>483</td>\n",
       "      <td>483</td>\n",
       "      <td>483</td>\n",
       "      <td>483</td>\n",
       "      <td>483</td>\n",
       "      <td>483</td>\n",
       "      <td>483</td>\n",
       "      <td>483</td>\n",
       "      <td>...</td>\n",
       "      <td>483</td>\n",
       "      <td>483</td>\n",
       "      <td>483</td>\n",
       "      <td>483</td>\n",
       "      <td>483</td>\n",
       "      <td>483</td>\n",
       "      <td>483</td>\n",
       "      <td>483</td>\n",
       "      <td>483</td>\n",
       "      <td>483</td>\n",
       "    </tr>\n",
       "    <tr>\n",
       "      <th>wristwatch</th>\n",
       "      <td>651</td>\n",
       "      <td>651</td>\n",
       "      <td>651</td>\n",
       "      <td>651</td>\n",
       "      <td>651</td>\n",
       "      <td>651</td>\n",
       "      <td>651</td>\n",
       "      <td>651</td>\n",
       "      <td>651</td>\n",
       "      <td>651</td>\n",
       "      <td>...</td>\n",
       "      <td>651</td>\n",
       "      <td>651</td>\n",
       "      <td>651</td>\n",
       "      <td>651</td>\n",
       "      <td>651</td>\n",
       "      <td>651</td>\n",
       "      <td>651</td>\n",
       "      <td>651</td>\n",
       "      <td>651</td>\n",
       "      <td>651</td>\n",
       "    </tr>\n",
       "    <tr>\n",
       "      <th>yoga</th>\n",
       "      <td>1122</td>\n",
       "      <td>1122</td>\n",
       "      <td>1122</td>\n",
       "      <td>1122</td>\n",
       "      <td>1122</td>\n",
       "      <td>1122</td>\n",
       "      <td>1122</td>\n",
       "      <td>1122</td>\n",
       "      <td>1122</td>\n",
       "      <td>1122</td>\n",
       "      <td>...</td>\n",
       "      <td>1122</td>\n",
       "      <td>1122</td>\n",
       "      <td>1122</td>\n",
       "      <td>1122</td>\n",
       "      <td>1122</td>\n",
       "      <td>1122</td>\n",
       "      <td>1122</td>\n",
       "      <td>1122</td>\n",
       "      <td>1122</td>\n",
       "      <td>1122</td>\n",
       "    </tr>\n",
       "    <tr>\n",
       "      <th>zebra</th>\n",
       "      <td>579</td>\n",
       "      <td>579</td>\n",
       "      <td>579</td>\n",
       "      <td>579</td>\n",
       "      <td>579</td>\n",
       "      <td>579</td>\n",
       "      <td>579</td>\n",
       "      <td>579</td>\n",
       "      <td>579</td>\n",
       "      <td>579</td>\n",
       "      <td>...</td>\n",
       "      <td>579</td>\n",
       "      <td>579</td>\n",
       "      <td>579</td>\n",
       "      <td>579</td>\n",
       "      <td>579</td>\n",
       "      <td>579</td>\n",
       "      <td>579</td>\n",
       "      <td>579</td>\n",
       "      <td>579</td>\n",
       "      <td>579</td>\n",
       "    </tr>\n",
       "    <tr>\n",
       "      <th>zigzag</th>\n",
       "      <td>481</td>\n",
       "      <td>481</td>\n",
       "      <td>481</td>\n",
       "      <td>481</td>\n",
       "      <td>481</td>\n",
       "      <td>481</td>\n",
       "      <td>481</td>\n",
       "      <td>481</td>\n",
       "      <td>481</td>\n",
       "      <td>481</td>\n",
       "      <td>...</td>\n",
       "      <td>481</td>\n",
       "      <td>481</td>\n",
       "      <td>481</td>\n",
       "      <td>481</td>\n",
       "      <td>481</td>\n",
       "      <td>481</td>\n",
       "      <td>481</td>\n",
       "      <td>481</td>\n",
       "      <td>481</td>\n",
       "      <td>481</td>\n",
       "    </tr>\n",
       "  </tbody>\n",
       "</table>\n",
       "<p>294 rows × 784 columns</p>\n",
       "</div>"
      ],
      "text/plain": [
       "               0     1     2     3     4     5     6     7     8     9  ...  \\\n",
       "category                                                                ...   \n",
       "airplane     607   607   607   607   607   607   607   607   607   607  ...   \n",
       "ambulance    592   592   592   592   592   592   592   592   592   592  ...   \n",
       "angel        599   599   599   599   599   599   599   599   599   599  ...   \n",
       "ant          499   499   499   499   499   499   499   499   499   499  ...   \n",
       "anvil        505   505   505   505   505   505   505   505   505   505  ...   \n",
       "...          ...   ...   ...   ...   ...   ...   ...   ...   ...   ...  ...   \n",
       "windmill     483   483   483   483   483   483   483   483   483   483  ...   \n",
       "wristwatch   651   651   651   651   651   651   651   651   651   651  ...   \n",
       "yoga        1122  1122  1122  1122  1122  1122  1122  1122  1122  1122  ...   \n",
       "zebra        579   579   579   579   579   579   579   579   579   579  ...   \n",
       "zigzag       481   481   481   481   481   481   481   481   481   481  ...   \n",
       "\n",
       "             774   775   776   777   778   779   780   781   782   783  \n",
       "category                                                                \n",
       "airplane     607   607   607   607   607   607   607   607   607   607  \n",
       "ambulance    592   592   592   592   592   592   592   592   592   592  \n",
       "angel        599   599   599   599   599   599   599   599   599   599  \n",
       "ant          499   499   499   499   499   499   499   499   499   499  \n",
       "anvil        505   505   505   505   505   505   505   505   505   505  \n",
       "...          ...   ...   ...   ...   ...   ...   ...   ...   ...   ...  \n",
       "windmill     483   483   483   483   483   483   483   483   483   483  \n",
       "wristwatch   651   651   651   651   651   651   651   651   651   651  \n",
       "yoga        1122  1122  1122  1122  1122  1122  1122  1122  1122  1122  \n",
       "zebra        579   579   579   579   579   579   579   579   579   579  \n",
       "zigzag       481   481   481   481   481   481   481   481   481   481  \n",
       "\n",
       "[294 rows x 784 columns]"
      ]
     },
     "execution_count": 31,
     "metadata": {},
     "output_type": "execute_result"
    }
   ],
   "source": [
    "df.groupby('category').count()"
   ]
  },
  {
   "cell_type": "code",
   "execution_count": 5,
   "metadata": {},
   "outputs": [
    {
     "data": {
      "image/png": "[encoded data removed]",
      "text/plain": [
       "<Figure size 108x108 with 1 Axes>"
      ]
     },
     "metadata": {
      "needs_background": "light"
     },
     "output_type": "display_data"
    },
    {
     "data": {
      "image/png": "[encoded data removed]",
      "text/plain": [
       "<Figure size 108x108 with 1 Axes>"
      ]
     },
     "metadata": {
      "needs_background": "light"
     },
     "output_type": "display_data"
    },
    {
     "data": {
      "image/png": "[encoded data removed]",
      "text/plain": [
       "<Figure size 108x108 with 1 Axes>"
      ]
     },
     "metadata": {
      "needs_background": "light"
     },
     "output_type": "display_data"
    },
    {
     "data": {
      "image/png": "[encoded data removed]",
      "text/plain": [
       "<Figure size 108x108 with 1 Axes>"
      ]
     },
     "metadata": {
      "needs_background": "light"
     },
     "output_type": "display_data"
    },
    {
     "data": {
      "image/png": "[encoded data removed]",
      "text/plain": [
       "<Figure size 108x108 with 1 Axes>"
      ]
     },
     "metadata": {
      "needs_background": "light"
     },
     "output_type": "display_data"
    }
   ],
   "source": [
    "categories = []\n",
    "for i in range(5):\n",
    "    sample = df.sample(1)\n",
    "    pixels = sample.drop(columns=['category']).values.reshape((28, 28))\n",
    "    categories.append(sample['category'].values[0])\n",
    "    plt.figure(figsize=(1.5, 1.5))\n",
    "    plt.imshow(pixels, cmap='gray')\n",
    "    plt.show()"
   ]
  },
  {
   "cell_type": "code",
   "execution_count": 6,
   "metadata": {},
   "outputs": [
    {
     "data": {
      "text/plain": [
       "['stethoscope', 'dishwasher', 'asparagus', 'chandelier', 'ladder']"
      ]
     },
     "execution_count": 6,
     "metadata": {},
     "output_type": "execute_result"
    }
   ],
   "source": [
    "categories"
   ]
  },
  {
   "cell_type": "code",
   "execution_count": 7,
   "metadata": {},
   "outputs": [],
   "source": [
    "from sklearn.model_selection import train_test_split\n",
    "from sklearn.preprocessing import LabelEncoder\n",
    "\n",
    "le = LabelEncoder()\n",
    "le.fit_transform(df['category'])\n",
    "df[\"category_enc\"] = le.transform(df['category'])\n",
    "y = df['category_enc']\n",
    "to_drop = ['category', 'category_enc']\n",
    "X_train, X_test, y_train, y_test = train_test_split(df.drop(columns=to_drop), y, test_size=0.3,random_state=42)"
   ]
  },
  {
   "cell_type": "code",
   "execution_count": null,
   "metadata": {
    "pycharm": {
     "is_executing": true,
     "name": "#%%\n"
    }
   },
   "outputs": [
    {
     "name": "stdout",
     "output_type": "stream",
     "text": [
      "Learning rate set to 0.216164\n",
      "0:\tlearn: 5.3450042\ttotal: 2.5s\tremaining: 41m 32s\n",
      "1:\tlearn: 5.1265753\ttotal: 5.05s\tremaining: 42m 1s\n",
      "2:\tlearn: 4.9418775\ttotal: 7.51s\tremaining: 41m 34s\n",
      "3:\tlearn: 4.8004240\ttotal: 10.1s\tremaining: 42m 4s\n",
      "4:\tlearn: 4.6884164\ttotal: 12.7s\tremaining: 42m 2s\n",
      "5:\tlearn: 4.5980428\ttotal: 14.9s\tremaining: 41m 13s\n",
      "6:\tlearn: 4.4999708\ttotal: 17.5s\tremaining: 41m 24s\n",
      "7:\tlearn: 4.4248363\ttotal: 19.9s\tremaining: 41m 7s\n",
      "8:\tlearn: 4.3535911\ttotal: 22.4s\tremaining: 41m 4s\n",
      "9:\tlearn: 4.2906769\ttotal: 24.6s\tremaining: 40m 39s\n",
      "10:\tlearn: 4.2282100\ttotal: 27.1s\tremaining: 40m 40s\n",
      "11:\tlearn: 4.1724970\ttotal: 29.6s\tremaining: 40m 35s\n",
      "12:\tlearn: 4.1109044\ttotal: 32s\tremaining: 40m 32s\n",
      "13:\tlearn: 4.0682544\ttotal: 34.3s\tremaining: 40m 18s\n",
      "14:\tlearn: 4.0158360\ttotal: 36.9s\tremaining: 40m 26s\n",
      "15:\tlearn: 3.9688694\ttotal: 39.6s\tremaining: 40m 33s\n",
      "16:\tlearn: 3.9325557\ttotal: 41.8s\tremaining: 40m 17s\n",
      "17:\tlearn: 3.8894705\ttotal: 44.4s\tremaining: 40m 19s\n",
      "18:\tlearn: 3.8500454\ttotal: 46.7s\tremaining: 40m 10s\n",
      "19:\tlearn: 3.8071860\ttotal: 49.2s\tremaining: 40m 12s\n",
      "20:\tlearn: 3.7720817\ttotal: 51.7s\tremaining: 40m 9s\n",
      "21:\tlearn: 3.7421539\ttotal: 54.1s\tremaining: 40m 3s\n",
      "22:\tlearn: 3.7166326\ttotal: 56.3s\tremaining: 39m 50s\n",
      "23:\tlearn: 3.6832399\ttotal: 58.8s\tremaining: 39m 50s\n",
      "24:\tlearn: 3.6586485\ttotal: 1m 1s\tremaining: 39m 42s\n",
      "25:\tlearn: 3.6238044\ttotal: 1m 3s\tremaining: 39m 41s\n",
      "26:\tlearn: 3.5964514\ttotal: 1m 5s\tremaining: 39m 36s\n",
      "27:\tlearn: 3.5702505\ttotal: 1m 8s\tremaining: 39m 33s\n",
      "28:\tlearn: 3.5464579\ttotal: 1m 10s\tremaining: 39m 31s\n",
      "29:\tlearn: 3.5204780\ttotal: 1m 13s\tremaining: 39m 30s\n",
      "30:\tlearn: 3.4970922\ttotal: 1m 15s\tremaining: 39m 23s\n",
      "31:\tlearn: 3.4797084\ttotal: 1m 17s\tremaining: 39m 16s\n",
      "32:\tlearn: 3.4528206\ttotal: 1m 20s\tremaining: 39m 17s\n",
      "33:\tlearn: 3.4326817\ttotal: 1m 22s\tremaining: 39m 16s\n",
      "34:\tlearn: 3.4098142\ttotal: 1m 25s\tremaining: 39m 19s\n",
      "35:\tlearn: 3.3903630\ttotal: 1m 28s\tremaining: 39m 17s\n",
      "36:\tlearn: 3.3707926\ttotal: 1m 30s\tremaining: 39m 13s\n",
      "37:\tlearn: 3.3483161\ttotal: 1m 32s\tremaining: 39m 10s\n",
      "38:\tlearn: 3.3316981\ttotal: 1m 35s\tremaining: 39m 6s\n",
      "39:\tlearn: 3.3179090\ttotal: 1m 37s\tremaining: 39m 1s\n",
      "40:\tlearn: 3.3046661\ttotal: 1m 39s\tremaining: 38m 56s\n",
      "41:\tlearn: 3.2881247\ttotal: 1m 42s\tremaining: 38m 52s\n",
      "42:\tlearn: 3.2687012\ttotal: 1m 44s\tremaining: 38m 53s\n",
      "43:\tlearn: 3.2483588\ttotal: 1m 47s\tremaining: 38m 53s\n",
      "44:\tlearn: 3.2302786\ttotal: 1m 49s\tremaining: 38m 51s\n",
      "45:\tlearn: 3.2191313\ttotal: 1m 51s\tremaining: 38m 42s\n",
      "46:\tlearn: 3.2103457\ttotal: 1m 54s\tremaining: 38m 34s\n",
      "47:\tlearn: 3.1941191\ttotal: 1m 56s\tremaining: 38m 34s\n",
      "48:\tlearn: 3.1815465\ttotal: 1m 59s\tremaining: 38m 31s\n",
      "49:\tlearn: 3.1698559\ttotal: 2m 1s\tremaining: 38m 25s\n",
      "50:\tlearn: 3.1537391\ttotal: 2m 3s\tremaining: 38m 22s\n",
      "51:\tlearn: 3.1440387\ttotal: 2m 5s\tremaining: 38m 16s\n",
      "52:\tlearn: 3.1311167\ttotal: 2m 8s\tremaining: 38m 12s\n",
      "53:\tlearn: 3.1250669\ttotal: 2m 10s\tremaining: 38m 3s\n",
      "54:\tlearn: 3.1107348\ttotal: 2m 12s\tremaining: 38m\n",
      "55:\tlearn: 3.0992199\ttotal: 2m 14s\tremaining: 37m 54s\n",
      "56:\tlearn: 3.0904933\ttotal: 2m 17s\tremaining: 37m 49s\n",
      "57:\tlearn: 3.0765752\ttotal: 2m 19s\tremaining: 37m 46s\n",
      "58:\tlearn: 3.0640246\ttotal: 2m 21s\tremaining: 37m 40s\n",
      "59:\tlearn: 3.0532206\ttotal: 2m 23s\tremaining: 37m 35s\n",
      "60:\tlearn: 3.0429425\ttotal: 2m 26s\tremaining: 37m 29s\n",
      "61:\tlearn: 3.0347137\ttotal: 2m 28s\tremaining: 37m 23s\n",
      "62:\tlearn: 3.0212363\ttotal: 2m 30s\tremaining: 37m 20s\n",
      "63:\tlearn: 3.0115118\ttotal: 2m 32s\tremaining: 37m 15s\n",
      "64:\tlearn: 3.0009337\ttotal: 2m 35s\tremaining: 37m 10s\n",
      "65:\tlearn: 2.9918786\ttotal: 2m 37s\tremaining: 37m 6s\n",
      "66:\tlearn: 2.9762836\ttotal: 2m 39s\tremaining: 37m 5s\n",
      "67:\tlearn: 2.9684465\ttotal: 2m 41s\tremaining: 36m 59s\n",
      "68:\tlearn: 2.9528309\ttotal: 2m 44s\tremaining: 36m 57s\n",
      "69:\tlearn: 2.9431202\ttotal: 2m 46s\tremaining: 36m 52s\n",
      "70:\tlearn: 2.9340294\ttotal: 2m 48s\tremaining: 36m 46s\n",
      "71:\tlearn: 2.9243448\ttotal: 2m 50s\tremaining: 36m 42s\n",
      "72:\tlearn: 2.9173823\ttotal: 2m 52s\tremaining: 36m 35s\n",
      "73:\tlearn: 2.9057784\ttotal: 2m 55s\tremaining: 36m 32s\n",
      "74:\tlearn: 2.9023028\ttotal: 2m 57s\tremaining: 36m 25s\n",
      "75:\tlearn: 2.8948426\ttotal: 2m 59s\tremaining: 36m 20s\n",
      "76:\tlearn: 2.8848655\ttotal: 3m 1s\tremaining: 36m 16s\n",
      "77:\tlearn: 2.8772072\ttotal: 3m 3s\tremaining: 36m 11s\n",
      "78:\tlearn: 2.8672076\ttotal: 3m 5s\tremaining: 36m 7s\n",
      "79:\tlearn: 2.8567522\ttotal: 3m 8s\tremaining: 36m 3s\n",
      "80:\tlearn: 2.8471155\ttotal: 3m 10s\tremaining: 36m\n",
      "81:\tlearn: 2.8403809\ttotal: 3m 12s\tremaining: 35m 55s\n",
      "82:\tlearn: 2.8321425\ttotal: 3m 14s\tremaining: 35m 51s\n",
      "83:\tlearn: 2.8236068\ttotal: 3m 16s\tremaining: 35m 47s\n",
      "84:\tlearn: 2.8133225\ttotal: 3m 19s\tremaining: 35m 44s\n",
      "85:\tlearn: 2.8038364\ttotal: 3m 21s\tremaining: 35m 41s\n",
      "86:\tlearn: 2.7947494\ttotal: 3m 23s\tremaining: 35m 38s\n",
      "87:\tlearn: 2.7865227\ttotal: 3m 25s\tremaining: 35m 33s\n",
      "88:\tlearn: 2.7778991\ttotal: 3m 28s\tremaining: 35m 29s\n",
      "89:\tlearn: 2.7716350\ttotal: 3m 30s\tremaining: 35m 24s\n",
      "90:\tlearn: 2.7647650\ttotal: 3m 32s\tremaining: 35m 20s\n",
      "91:\tlearn: 2.7555565\ttotal: 3m 34s\tremaining: 35m 17s\n",
      "92:\tlearn: 2.7486721\ttotal: 3m 36s\tremaining: 35m 14s\n",
      "93:\tlearn: 2.7404589\ttotal: 3m 39s\tremaining: 35m 10s\n",
      "94:\tlearn: 2.7341633\ttotal: 3m 41s\tremaining: 35m 6s\n",
      "95:\tlearn: 2.7281404\ttotal: 3m 43s\tremaining: 35m 2s\n",
      "96:\tlearn: 2.7157649\ttotal: 3m 45s\tremaining: 35m\n",
      "97:\tlearn: 2.7108120\ttotal: 3m 47s\tremaining: 34m 56s\n",
      "98:\tlearn: 2.6981796\ttotal: 3m 50s\tremaining: 34m 55s\n",
      "99:\tlearn: 2.6932762\ttotal: 3m 52s\tremaining: 34m 50s\n",
      "100:\tlearn: 2.6850259\ttotal: 3m 54s\tremaining: 34m 47s\n",
      "101:\tlearn: 2.6790359\ttotal: 3m 56s\tremaining: 34m 44s\n",
      "102:\tlearn: 2.6733325\ttotal: 3m 58s\tremaining: 34m 39s\n",
      "103:\tlearn: 2.6617010\ttotal: 4m 1s\tremaining: 34m 37s\n",
      "104:\tlearn: 2.6556152\ttotal: 4m 3s\tremaining: 34m 34s\n",
      "105:\tlearn: 2.6468188\ttotal: 4m 5s\tremaining: 34m 32s\n",
      "106:\tlearn: 2.6420568\ttotal: 4m 7s\tremaining: 34m 28s\n",
      "107:\tlearn: 2.6375729\ttotal: 4m 9s\tremaining: 34m 23s\n",
      "108:\tlearn: 2.6320832\ttotal: 4m 11s\tremaining: 34m 19s\n",
      "109:\tlearn: 2.6269110\ttotal: 4m 14s\tremaining: 34m 15s\n",
      "110:\tlearn: 2.6217582\ttotal: 4m 16s\tremaining: 34m 11s\n",
      "111:\tlearn: 2.6134344\ttotal: 4m 18s\tremaining: 34m 8s\n",
      "112:\tlearn: 2.6087186\ttotal: 4m 20s\tremaining: 34m 5s\n",
      "113:\tlearn: 2.6027221\ttotal: 4m 22s\tremaining: 34m 2s\n",
      "114:\tlearn: 2.5987319\ttotal: 4m 24s\tremaining: 33m 57s\n",
      "115:\tlearn: 2.5941538\ttotal: 4m 26s\tremaining: 33m 54s\n",
      "116:\tlearn: 2.5904803\ttotal: 4m 29s\tremaining: 33m 50s\n",
      "117:\tlearn: 2.5876830\ttotal: 4m 31s\tremaining: 33m 46s\n",
      "118:\tlearn: 2.5820685\ttotal: 4m 33s\tremaining: 33m 42s\n",
      "119:\tlearn: 2.5789400\ttotal: 4m 35s\tremaining: 33m 38s\n",
      "120:\tlearn: 2.5720377\ttotal: 4m 37s\tremaining: 33m 35s\n",
      "121:\tlearn: 2.5703844\ttotal: 4m 39s\tremaining: 33m 29s\n",
      "122:\tlearn: 2.5661402\ttotal: 4m 41s\tremaining: 33m 26s\n",
      "123:\tlearn: 2.5597379\ttotal: 4m 43s\tremaining: 33m 23s\n",
      "124:\tlearn: 2.5556566\ttotal: 4m 45s\tremaining: 33m 19s\n",
      "125:\tlearn: 2.5513065\ttotal: 4m 47s\tremaining: 33m 15s\n",
      "126:\tlearn: 2.5461649\ttotal: 4m 49s\tremaining: 33m 11s\n",
      "127:\tlearn: 2.5428989\ttotal: 4m 51s\tremaining: 33m 7s\n",
      "128:\tlearn: 2.5362898\ttotal: 4m 53s\tremaining: 33m 4s\n",
      "129:\tlearn: 2.5322871\ttotal: 4m 56s\tremaining: 33m 1s\n",
      "130:\tlearn: 2.5304892\ttotal: 4m 57s\tremaining: 32m 56s\n",
      "131:\tlearn: 2.5253826\ttotal: 5m\tremaining: 32m 53s\n",
      "132:\tlearn: 2.5236791\ttotal: 5m 2s\tremaining: 32m 49s\n",
      "133:\tlearn: 2.5170410\ttotal: 5m 4s\tremaining: 32m 46s\n",
      "134:\tlearn: 2.5130426\ttotal: 5m 6s\tremaining: 32m 43s\n",
      "135:\tlearn: 2.5102402\ttotal: 5m 8s\tremaining: 32m 40s\n",
      "136:\tlearn: 2.5077942\ttotal: 5m 10s\tremaining: 32m 36s\n",
      "137:\tlearn: 2.5035218\ttotal: 5m 12s\tremaining: 32m 33s\n",
      "138:\tlearn: 2.5004835\ttotal: 5m 14s\tremaining: 32m 29s\n",
      "139:\tlearn: 2.4965024\ttotal: 5m 16s\tremaining: 32m 26s\n",
      "140:\tlearn: 2.4913898\ttotal: 5m 19s\tremaining: 32m 23s\n",
      "141:\tlearn: 2.4867588\ttotal: 5m 21s\tremaining: 32m 21s\n",
      "142:\tlearn: 2.4827899\ttotal: 5m 23s\tremaining: 32m 17s\n",
      "143:\tlearn: 2.4782414\ttotal: 5m 25s\tremaining: 32m 14s\n",
      "144:\tlearn: 2.4771277\ttotal: 5m 27s\tremaining: 32m 10s\n",
      "145:\tlearn: 2.4715397\ttotal: 5m 29s\tremaining: 32m 7s\n",
      "146:\tlearn: 2.4692784\ttotal: 5m 31s\tremaining: 32m 3s\n",
      "147:\tlearn: 2.4625601\ttotal: 5m 33s\tremaining: 32m\n",
      "148:\tlearn: 2.4604413\ttotal: 5m 35s\tremaining: 31m 56s\n",
      "149:\tlearn: 2.4597414\ttotal: 5m 37s\tremaining: 31m 52s\n",
      "150:\tlearn: 2.4545978\ttotal: 5m 39s\tremaining: 31m 50s\n",
      "151:\tlearn: 2.4520324\ttotal: 5m 41s\tremaining: 31m 47s\n",
      "152:\tlearn: 2.4505140\ttotal: 5m 43s\tremaining: 31m 43s\n"
     ]
    },
    {
     "name": "stdout",
     "output_type": "stream",
     "text": [
      "153:\tlearn: 2.4468290\ttotal: 5m 46s\tremaining: 31m 40s\n",
      "154:\tlearn: 2.4434368\ttotal: 5m 48s\tremaining: 31m 37s\n",
      "155:\tlearn: 2.4402391\ttotal: 5m 50s\tremaining: 31m 34s\n",
      "156:\tlearn: 2.4367021\ttotal: 5m 52s\tremaining: 31m 31s\n",
      "157:\tlearn: 2.4336849\ttotal: 5m 54s\tremaining: 31m 28s\n",
      "158:\tlearn: 2.4294583\ttotal: 5m 56s\tremaining: 31m 25s\n",
      "159:\tlearn: 2.4276020\ttotal: 5m 58s\tremaining: 31m 21s\n",
      "160:\tlearn: 2.4258545\ttotal: 6m\tremaining: 31m 18s\n",
      "161:\tlearn: 2.4254221\ttotal: 6m 2s\tremaining: 31m 14s\n",
      "162:\tlearn: 2.4215245\ttotal: 6m 4s\tremaining: 31m 11s\n",
      "163:\tlearn: 2.4197795\ttotal: 6m 6s\tremaining: 31m 7s\n",
      "164:\tlearn: 2.4180425\ttotal: 6m 8s\tremaining: 31m 4s\n",
      "165:\tlearn: 2.4171356\ttotal: 6m 10s\tremaining: 31m\n",
      "166:\tlearn: 2.4131759\ttotal: 6m 12s\tremaining: 30m 58s\n",
      "167:\tlearn: 2.4096908\ttotal: 6m 14s\tremaining: 30m 55s\n",
      "168:\tlearn: 2.4068832\ttotal: 6m 16s\tremaining: 30m 52s\n",
      "169:\tlearn: 2.4050663\ttotal: 6m 18s\tremaining: 30m 48s\n",
      "170:\tlearn: 2.3991130\ttotal: 6m 20s\tremaining: 30m 46s\n",
      "171:\tlearn: 2.3958288\ttotal: 6m 22s\tremaining: 30m 43s\n",
      "172:\tlearn: 2.3929009\ttotal: 6m 24s\tremaining: 30m 40s\n",
      "173:\tlearn: 2.3915632\ttotal: 6m 26s\tremaining: 30m 36s\n",
      "174:\tlearn: 2.3851341\ttotal: 6m 29s\tremaining: 30m 34s\n",
      "175:\tlearn: 2.3845123\ttotal: 6m 30s\tremaining: 30m 30s\n",
      "176:\tlearn: 2.3827131\ttotal: 6m 32s\tremaining: 30m 27s\n",
      "177:\tlearn: 2.3802808\ttotal: 6m 35s\tremaining: 30m 24s\n",
      "178:\tlearn: 2.3784361\ttotal: 6m 36s\tremaining: 30m 20s\n",
      "179:\tlearn: 2.3753343\ttotal: 6m 39s\tremaining: 30m 17s\n",
      "180:\tlearn: 2.3709846\ttotal: 6m 41s\tremaining: 30m 15s\n",
      "181:\tlearn: 2.3695123\ttotal: 6m 43s\tremaining: 30m 12s\n",
      "182:\tlearn: 2.3662607\ttotal: 6m 45s\tremaining: 30m 9s\n",
      "183:\tlearn: 2.3640331\ttotal: 6m 47s\tremaining: 30m 5s\n",
      "184:\tlearn: 2.3630517\ttotal: 6m 49s\tremaining: 30m 2s\n",
      "185:\tlearn: 2.3607019\ttotal: 6m 51s\tremaining: 29m 58s\n",
      "186:\tlearn: 2.3566877\ttotal: 6m 53s\tremaining: 29m 56s\n",
      "187:\tlearn: 2.3534804\ttotal: 6m 55s\tremaining: 29m 54s\n",
      "188:\tlearn: 2.3475483\ttotal: 6m 57s\tremaining: 29m 53s\n",
      "189:\tlearn: 2.3442353\ttotal: 7m\tremaining: 29m 50s\n",
      "190:\tlearn: 2.3415384\ttotal: 7m 2s\tremaining: 29m 47s\n",
      "191:\tlearn: 2.3400666\ttotal: 7m 3s\tremaining: 29m 44s\n",
      "192:\tlearn: 2.3387773\ttotal: 7m 5s\tremaining: 29m 40s\n",
      "193:\tlearn: 2.3356172\ttotal: 7m 7s\tremaining: 29m 38s\n",
      "194:\tlearn: 2.3351013\ttotal: 7m 9s\tremaining: 29m 34s\n",
      "195:\tlearn: 2.3314767\ttotal: 7m 11s\tremaining: 29m 31s\n",
      "196:\tlearn: 2.3293375\ttotal: 7m 13s\tremaining: 29m 28s\n",
      "197:\tlearn: 2.3285881\ttotal: 7m 15s\tremaining: 29m 25s\n",
      "198:\tlearn: 2.3257764\ttotal: 7m 17s\tremaining: 29m 22s\n",
      "199:\tlearn: 2.3248087\ttotal: 7m 19s\tremaining: 29m 18s\n",
      "200:\tlearn: 2.3228787\ttotal: 7m 21s\tremaining: 29m 15s\n",
      "201:\tlearn: 2.3198362\ttotal: 7m 23s\tremaining: 29m 13s\n",
      "202:\tlearn: 2.3189950\ttotal: 7m 25s\tremaining: 29m 9s\n",
      "203:\tlearn: 2.3178670\ttotal: 7m 27s\tremaining: 29m 6s\n",
      "204:\tlearn: 2.3137006\ttotal: 7m 29s\tremaining: 29m 4s\n",
      "205:\tlearn: 2.3122226\ttotal: 7m 31s\tremaining: 29m 1s\n",
      "206:\tlearn: 2.3120359\ttotal: 7m 33s\tremaining: 28m 57s\n",
      "207:\tlearn: 2.3111067\ttotal: 7m 35s\tremaining: 28m 54s\n",
      "208:\tlearn: 2.3090234\ttotal: 7m 37s\tremaining: 28m 51s\n",
      "209:\tlearn: 2.3086127\ttotal: 7m 39s\tremaining: 28m 48s\n",
      "210:\tlearn: 2.3071514\ttotal: 7m 41s\tremaining: 28m 44s\n",
      "211:\tlearn: 2.3058519\ttotal: 7m 43s\tremaining: 28m 41s\n",
      "212:\tlearn: 2.3035301\ttotal: 7m 45s\tremaining: 28m 39s\n",
      "213:\tlearn: 2.3031128\ttotal: 7m 47s\tremaining: 28m 35s\n",
      "214:\tlearn: 2.3019512\ttotal: 7m 49s\tremaining: 28m 32s\n",
      "215:\tlearn: 2.3014152\ttotal: 7m 50s\tremaining: 28m 29s\n",
      "216:\tlearn: 2.2973202\ttotal: 7m 53s\tremaining: 28m 27s\n",
      "217:\tlearn: 2.2958271\ttotal: 7m 55s\tremaining: 28m 24s\n",
      "218:\tlearn: 2.2951600\ttotal: 7m 57s\tremaining: 28m 21s\n",
      "219:\tlearn: 2.2930094\ttotal: 7m 59s\tremaining: 28m 18s\n",
      "220:\tlearn: 2.2925949\ttotal: 8m\tremaining: 28m 15s\n",
      "221:\tlearn: 2.2901754\ttotal: 8m 3s\tremaining: 28m 12s\n",
      "222:\tlearn: 2.2895721\ttotal: 8m 4s\tremaining: 28m 9s\n",
      "223:\tlearn: 2.2865029\ttotal: 8m 7s\tremaining: 28m 7s\n",
      "224:\tlearn: 2.2855145\ttotal: 8m 9s\tremaining: 28m 4s\n",
      "225:\tlearn: 2.2841210\ttotal: 8m 11s\tremaining: 28m 1s\n",
      "226:\tlearn: 2.2834710\ttotal: 8m 12s\tremaining: 27m 58s\n",
      "227:\tlearn: 2.2808776\ttotal: 8m 15s\tremaining: 27m 56s\n",
      "228:\tlearn: 2.2803100\ttotal: 8m 16s\tremaining: 27m 53s\n",
      "229:\tlearn: 2.2768525\ttotal: 8m 19s\tremaining: 27m 50s\n",
      "230:\tlearn: 2.2756890\ttotal: 8m 20s\tremaining: 27m 47s\n",
      "231:\tlearn: 2.2750654\ttotal: 8m 22s\tremaining: 27m 44s\n",
      "232:\tlearn: 2.2721664\ttotal: 8m 24s\tremaining: 27m 42s\n",
      "233:\tlearn: 2.2697374\ttotal: 8m 26s\tremaining: 27m 39s\n",
      "234:\tlearn: 2.2687658\ttotal: 8m 28s\tremaining: 27m 36s\n",
      "235:\tlearn: 2.2674933\ttotal: 8m 30s\tremaining: 27m 33s\n",
      "236:\tlearn: 2.2650044\ttotal: 8m 32s\tremaining: 27m 31s\n",
      "237:\tlearn: 2.2603818\ttotal: 8m 35s\tremaining: 27m 29s\n",
      "238:\tlearn: 2.2580357\ttotal: 8m 37s\tremaining: 27m 27s\n",
      "239:\tlearn: 2.2557655\ttotal: 8m 39s\tremaining: 27m 24s\n",
      "240:\tlearn: 2.2549940\ttotal: 8m 41s\tremaining: 27m 21s\n",
      "241:\tlearn: 2.2535885\ttotal: 8m 43s\tremaining: 27m 18s\n",
      "242:\tlearn: 2.2526888\ttotal: 8m 45s\tremaining: 27m 15s\n",
      "243:\tlearn: 2.2495395\ttotal: 8m 47s\tremaining: 27m 13s\n",
      "244:\tlearn: 2.2491247\ttotal: 8m 49s\tremaining: 27m 10s\n",
      "245:\tlearn: 2.2481673\ttotal: 8m 50s\tremaining: 27m 7s\n",
      "246:\tlearn: 2.2476773\ttotal: 8m 52s\tremaining: 27m 4s\n",
      "247:\tlearn: 2.2465793\ttotal: 8m 54s\tremaining: 27m 1s\n",
      "248:\tlearn: 2.2432175\ttotal: 8m 56s\tremaining: 26m 59s\n",
      "249:\tlearn: 2.2420822\ttotal: 8m 58s\tremaining: 26m 56s\n",
      "250:\tlearn: 2.2408483\ttotal: 9m\tremaining: 26m 53s\n",
      "251:\tlearn: 2.2381722\ttotal: 9m 2s\tremaining: 26m 51s\n",
      "252:\tlearn: 2.2358510\ttotal: 9m 4s\tremaining: 26m 48s\n",
      "253:\tlearn: 2.2353929\ttotal: 9m 6s\tremaining: 26m 45s\n",
      "254:\tlearn: 2.2344738\ttotal: 9m 8s\tremaining: 26m 42s\n",
      "255:\tlearn: 2.2334983\ttotal: 9m 10s\tremaining: 26m 40s\n",
      "256:\tlearn: 2.2330441\ttotal: 9m 12s\tremaining: 26m 37s\n",
      "257:\tlearn: 2.2305933\ttotal: 9m 14s\tremaining: 26m 34s\n",
      "258:\tlearn: 2.2276610\ttotal: 9m 16s\tremaining: 26m 32s\n",
      "259:\tlearn: 2.2270434\ttotal: 9m 18s\tremaining: 26m 29s\n",
      "260:\tlearn: 2.2264575\ttotal: 9m 20s\tremaining: 26m 26s\n",
      "261:\tlearn: 2.2257397\ttotal: 9m 22s\tremaining: 26m 23s\n",
      "262:\tlearn: 2.2231496\ttotal: 9m 24s\tremaining: 26m 21s\n",
      "263:\tlearn: 2.2218572\ttotal: 9m 26s\tremaining: 26m 18s\n",
      "264:\tlearn: 2.2195619\ttotal: 9m 28s\tremaining: 26m 16s\n",
      "265:\tlearn: 2.2188670\ttotal: 9m 30s\tremaining: 26m 13s\n",
      "266:\tlearn: 2.2181744\ttotal: 9m 32s\tremaining: 26m 10s\n",
      "267:\tlearn: 2.2152290\ttotal: 9m 34s\tremaining: 26m 8s\n",
      "268:\tlearn: 2.2150649\ttotal: 9m 36s\tremaining: 26m 5s\n",
      "269:\tlearn: 2.2148192\ttotal: 9m 37s\tremaining: 26m 2s\n",
      "270:\tlearn: 2.2143892\ttotal: 9m 39s\tremaining: 25m 59s\n",
      "271:\tlearn: 2.2136819\ttotal: 9m 41s\tremaining: 25m 56s\n",
      "272:\tlearn: 2.2116846\ttotal: 9m 43s\tremaining: 25m 54s\n",
      "273:\tlearn: 2.2114141\ttotal: 9m 45s\tremaining: 25m 51s\n",
      "274:\tlearn: 2.2101514\ttotal: 9m 47s\tremaining: 25m 48s\n",
      "275:\tlearn: 2.2096600\ttotal: 9m 49s\tremaining: 25m 45s\n",
      "276:\tlearn: 2.2088447\ttotal: 9m 51s\tremaining: 25m 43s\n",
      "277:\tlearn: 2.2079136\ttotal: 9m 53s\tremaining: 25m 40s\n",
      "278:\tlearn: 2.2053951\ttotal: 9m 55s\tremaining: 25m 38s\n",
      "279:\tlearn: 2.2035342\ttotal: 9m 57s\tremaining: 25m 35s\n",
      "280:\tlearn: 2.2030365\ttotal: 9m 59s\tremaining: 25m 33s\n",
      "281:\tlearn: 2.2022679\ttotal: 10m 1s\tremaining: 25m 30s\n",
      "282:\tlearn: 2.1996908\ttotal: 10m 3s\tremaining: 25m 28s\n",
      "283:\tlearn: 2.1985469\ttotal: 10m 5s\tremaining: 25m 25s\n",
      "284:\tlearn: 2.1982623\ttotal: 10m 6s\tremaining: 25m 22s\n",
      "285:\tlearn: 2.1979402\ttotal: 10m 8s\tremaining: 25m 19s\n",
      "286:\tlearn: 2.1960877\ttotal: 10m 10s\tremaining: 25m 17s\n",
      "287:\tlearn: 2.1940070\ttotal: 10m 12s\tremaining: 25m 15s\n",
      "288:\tlearn: 2.1928376\ttotal: 10m 14s\tremaining: 25m 12s\n",
      "289:\tlearn: 2.1919917\ttotal: 10m 16s\tremaining: 25m 10s\n",
      "290:\tlearn: 2.1906078\ttotal: 10m 18s\tremaining: 25m 7s\n",
      "291:\tlearn: 2.1895673\ttotal: 10m 20s\tremaining: 25m 4s\n",
      "292:\tlearn: 2.1878419\ttotal: 10m 22s\tremaining: 25m 2s\n",
      "293:\tlearn: 2.1864235\ttotal: 10m 24s\tremaining: 25m\n",
      "294:\tlearn: 2.1851543\ttotal: 10m 26s\tremaining: 24m 57s\n",
      "295:\tlearn: 2.1826819\ttotal: 10m 28s\tremaining: 24m 55s\n",
      "296:\tlearn: 2.1823149\ttotal: 10m 30s\tremaining: 24m 53s\n",
      "297:\tlearn: 2.1799369\ttotal: 10m 33s\tremaining: 24m 51s\n",
      "298:\tlearn: 2.1791783\ttotal: 10m 34s\tremaining: 24m 48s\n",
      "299:\tlearn: 2.1785876\ttotal: 10m 36s\tremaining: 24m 45s\n",
      "300:\tlearn: 2.1763927\ttotal: 10m 38s\tremaining: 24m 43s\n",
      "301:\tlearn: 2.1762322\ttotal: 10m 40s\tremaining: 24m 41s\n",
      "302:\tlearn: 2.1734811\ttotal: 10m 42s\tremaining: 24m 38s\n"
     ]
    },
    {
     "name": "stdout",
     "output_type": "stream",
     "text": [
      "303:\tlearn: 2.1723547\ttotal: 10m 44s\tremaining: 24m 36s\n",
      "304:\tlearn: 2.1717255\ttotal: 10m 46s\tremaining: 24m 33s\n",
      "305:\tlearn: 2.1702777\ttotal: 10m 48s\tremaining: 24m 31s\n",
      "306:\tlearn: 2.1681402\ttotal: 10m 50s\tremaining: 24m 28s\n",
      "307:\tlearn: 2.1669767\ttotal: 10m 52s\tremaining: 24m 26s\n",
      "308:\tlearn: 2.1620582\ttotal: 10m 55s\tremaining: 24m 24s\n",
      "309:\tlearn: 2.1606441\ttotal: 10m 57s\tremaining: 24m 22s\n",
      "310:\tlearn: 2.1602353\ttotal: 10m 58s\tremaining: 24m 19s\n",
      "311:\tlearn: 2.1600749\ttotal: 11m\tremaining: 24m 17s\n",
      "312:\tlearn: 2.1594541\ttotal: 11m 2s\tremaining: 24m 14s\n",
      "313:\tlearn: 2.1580661\ttotal: 11m 4s\tremaining: 24m 12s\n",
      "314:\tlearn: 2.1547440\ttotal: 11m 6s\tremaining: 24m 10s\n",
      "315:\tlearn: 2.1539761\ttotal: 11m 8s\tremaining: 24m 7s\n",
      "316:\tlearn: 2.1538076\ttotal: 11m 10s\tremaining: 24m 4s\n",
      "317:\tlearn: 2.1530077\ttotal: 11m 12s\tremaining: 24m 2s\n",
      "318:\tlearn: 2.1522574\ttotal: 11m 14s\tremaining: 23m 59s\n",
      "319:\tlearn: 2.1515665\ttotal: 11m 16s\tremaining: 23m 57s\n",
      "320:\tlearn: 2.1511199\ttotal: 11m 18s\tremaining: 23m 54s\n",
      "321:\tlearn: 2.1507012\ttotal: 11m 20s\tremaining: 23m 52s\n",
      "322:\tlearn: 2.1474132\ttotal: 11m 22s\tremaining: 23m 50s\n",
      "323:\tlearn: 2.1470047\ttotal: 11m 24s\tremaining: 23m 47s\n",
      "324:\tlearn: 2.1468751\ttotal: 11m 26s\tremaining: 23m 44s\n",
      "325:\tlearn: 2.1443449\ttotal: 11m 28s\tremaining: 23m 42s\n",
      "326:\tlearn: 2.1434120\ttotal: 11m 30s\tremaining: 23m 40s\n",
      "327:\tlearn: 2.1422841\ttotal: 11m 32s\tremaining: 23m 38s\n",
      "328:\tlearn: 2.1414669\ttotal: 11m 34s\tremaining: 23m 35s\n",
      "329:\tlearn: 2.1407227\ttotal: 11m 35s\tremaining: 23m 32s\n",
      "330:\tlearn: 2.1399059\ttotal: 11m 37s\tremaining: 23m 30s\n",
      "331:\tlearn: 2.1390340\ttotal: 11m 39s\tremaining: 23m 28s\n",
      "332:\tlearn: 2.1383893\ttotal: 11m 41s\tremaining: 23m 25s\n",
      "333:\tlearn: 2.1375756\ttotal: 11m 43s\tremaining: 23m 23s\n",
      "334:\tlearn: 2.1349951\ttotal: 11m 45s\tremaining: 23m 21s\n",
      "335:\tlearn: 2.1347047\ttotal: 11m 47s\tremaining: 23m 18s\n",
      "336:\tlearn: 2.1341443\ttotal: 11m 49s\tremaining: 23m 16s\n",
      "337:\tlearn: 2.1334336\ttotal: 11m 51s\tremaining: 23m 13s\n",
      "338:\tlearn: 2.1329904\ttotal: 11m 53s\tremaining: 23m 11s\n",
      "339:\tlearn: 2.1321268\ttotal: 11m 55s\tremaining: 23m 8s\n",
      "340:\tlearn: 2.1312626\ttotal: 11m 57s\tremaining: 23m 6s\n",
      "341:\tlearn: 2.1302831\ttotal: 11m 59s\tremaining: 23m 4s\n",
      "342:\tlearn: 2.1286860\ttotal: 12m 1s\tremaining: 23m 1s\n",
      "343:\tlearn: 2.1281263\ttotal: 12m 3s\tremaining: 22m 59s\n",
      "344:\tlearn: 2.1271794\ttotal: 12m 5s\tremaining: 22m 57s\n",
      "345:\tlearn: 2.1268528\ttotal: 12m 7s\tremaining: 22m 54s\n",
      "346:\tlearn: 2.1263520\ttotal: 12m 8s\tremaining: 22m 51s\n",
      "347:\tlearn: 2.1248728\ttotal: 12m 10s\tremaining: 22m 49s\n",
      "348:\tlearn: 2.1245512\ttotal: 12m 12s\tremaining: 22m 46s\n",
      "349:\tlearn: 2.1237587\ttotal: 12m 14s\tremaining: 22m 44s\n",
      "350:\tlearn: 2.1213183\ttotal: 12m 16s\tremaining: 22m 42s\n",
      "351:\tlearn: 2.1187254\ttotal: 12m 19s\tremaining: 22m 40s\n",
      "352:\tlearn: 2.1173123\ttotal: 12m 21s\tremaining: 22m 38s\n",
      "353:\tlearn: 2.1147430\ttotal: 12m 23s\tremaining: 22m 36s\n",
      "354:\tlearn: 2.1129559\ttotal: 12m 25s\tremaining: 22m 34s\n",
      "355:\tlearn: 2.1113259\ttotal: 12m 27s\tremaining: 22m 31s\n",
      "356:\tlearn: 2.1110235\ttotal: 12m 29s\tremaining: 22m 29s\n",
      "357:\tlearn: 2.1098315\ttotal: 12m 31s\tremaining: 22m 26s\n",
      "358:\tlearn: 2.1069026\ttotal: 12m 33s\tremaining: 22m 24s\n",
      "359:\tlearn: 2.1060456\ttotal: 12m 35s\tremaining: 22m 22s\n",
      "360:\tlearn: 2.1050307\ttotal: 12m 36s\tremaining: 22m 19s\n",
      "361:\tlearn: 2.1025906\ttotal: 12m 39s\tremaining: 22m 17s\n",
      "362:\tlearn: 2.1021653\ttotal: 12m 40s\tremaining: 22m 15s\n",
      "363:\tlearn: 2.1014165\ttotal: 12m 42s\tremaining: 22m 13s\n",
      "364:\tlearn: 2.1001447\ttotal: 12m 44s\tremaining: 22m 10s\n",
      "365:\tlearn: 2.0992944\ttotal: 12m 46s\tremaining: 22m 8s\n",
      "366:\tlearn: 2.0988153\ttotal: 12m 48s\tremaining: 22m 5s\n",
      "367:\tlearn: 2.0961207\ttotal: 12m 50s\tremaining: 22m 4s\n",
      "368:\tlearn: 2.0942574\ttotal: 12m 53s\tremaining: 22m 2s\n",
      "369:\tlearn: 2.0932700\ttotal: 12m 55s\tremaining: 21m 59s\n",
      "370:\tlearn: 2.0899920\ttotal: 12m 57s\tremaining: 21m 57s\n",
      "371:\tlearn: 2.0889057\ttotal: 12m 59s\tremaining: 21m 55s\n",
      "372:\tlearn: 2.0883742\ttotal: 13m 1s\tremaining: 21m 53s\n",
      "373:\tlearn: 2.0879801\ttotal: 13m 3s\tremaining: 21m 50s\n",
      "374:\tlearn: 2.0872323\ttotal: 13m 5s\tremaining: 21m 48s\n",
      "375:\tlearn: 2.0866460\ttotal: 13m 6s\tremaining: 21m 46s\n",
      "376:\tlearn: 2.0851092\ttotal: 13m 9s\tremaining: 21m 43s\n",
      "377:\tlearn: 2.0842404\ttotal: 13m 10s\tremaining: 21m 41s\n",
      "378:\tlearn: 2.0820050\ttotal: 13m 13s\tremaining: 21m 39s\n",
      "379:\tlearn: 2.0812443\ttotal: 13m 14s\tremaining: 21m 37s\n",
      "380:\tlearn: 2.0787666\ttotal: 13m 17s\tremaining: 21m 35s\n",
      "381:\tlearn: 2.0775959\ttotal: 13m 19s\tremaining: 21m 32s\n",
      "382:\tlearn: 2.0773271\ttotal: 13m 20s\tremaining: 21m 30s\n",
      "383:\tlearn: 2.0765980\ttotal: 13m 22s\tremaining: 21m 27s\n",
      "384:\tlearn: 2.0761602\ttotal: 13m 24s\tremaining: 21m 25s\n",
      "385:\tlearn: 2.0756321\ttotal: 13m 26s\tremaining: 21m 23s\n",
      "386:\tlearn: 2.0753332\ttotal: 13m 28s\tremaining: 21m 20s\n",
      "387:\tlearn: 2.0748051\ttotal: 13m 30s\tremaining: 21m 18s\n",
      "388:\tlearn: 2.0730939\ttotal: 13m 32s\tremaining: 21m 15s\n",
      "389:\tlearn: 2.0720404\ttotal: 13m 34s\tremaining: 21m 13s\n",
      "390:\tlearn: 2.0702762\ttotal: 13m 36s\tremaining: 21m 11s\n",
      "391:\tlearn: 2.0693533\ttotal: 13m 38s\tremaining: 21m 9s\n",
      "392:\tlearn: 2.0679063\ttotal: 13m 40s\tremaining: 21m 7s\n",
      "393:\tlearn: 2.0670727\ttotal: 13m 42s\tremaining: 21m 4s\n",
      "394:\tlearn: 2.0647716\ttotal: 13m 44s\tremaining: 21m 3s\n",
      "395:\tlearn: 2.0639129\ttotal: 13m 46s\tremaining: 21m\n",
      "396:\tlearn: 2.0633513\ttotal: 13m 48s\tremaining: 20m 58s\n",
      "397:\tlearn: 2.0628222\ttotal: 13m 50s\tremaining: 20m 56s\n",
      "398:\tlearn: 2.0622098\ttotal: 13m 52s\tremaining: 20m 53s\n",
      "399:\tlearn: 2.0606965\ttotal: 13m 54s\tremaining: 20m 51s\n",
      "400:\tlearn: 2.0582325\ttotal: 13m 56s\tremaining: 20m 49s\n",
      "401:\tlearn: 2.0574407\ttotal: 13m 58s\tremaining: 20m 47s\n",
      "402:\tlearn: 2.0548494\ttotal: 14m\tremaining: 20m 45s\n",
      "403:\tlearn: 2.0540230\ttotal: 14m 2s\tremaining: 20m 42s\n",
      "404:\tlearn: 2.0531734\ttotal: 14m 4s\tremaining: 20m 40s\n",
      "405:\tlearn: 2.0524235\ttotal: 14m 6s\tremaining: 20m 38s\n",
      "406:\tlearn: 2.0516903\ttotal: 14m 8s\tremaining: 20m 35s\n",
      "407:\tlearn: 2.0514626\ttotal: 14m 10s\tremaining: 20m 33s\n",
      "408:\tlearn: 2.0509466\ttotal: 14m 12s\tremaining: 20m 31s\n",
      "409:\tlearn: 2.0501765\ttotal: 14m 13s\tremaining: 20m 28s\n",
      "410:\tlearn: 2.0496144\ttotal: 14m 15s\tremaining: 20m 26s\n",
      "411:\tlearn: 2.0473809\ttotal: 14m 17s\tremaining: 20m 24s\n",
      "412:\tlearn: 2.0470826\ttotal: 14m 19s\tremaining: 20m 22s\n",
      "413:\tlearn: 2.0460751\ttotal: 14m 21s\tremaining: 20m 19s\n",
      "414:\tlearn: 2.0457393\ttotal: 14m 23s\tremaining: 20m 17s\n",
      "415:\tlearn: 2.0453582\ttotal: 14m 25s\tremaining: 20m 14s\n",
      "416:\tlearn: 2.0446626\ttotal: 14m 27s\tremaining: 20m 12s\n",
      "417:\tlearn: 2.0426356\ttotal: 14m 29s\tremaining: 20m 10s\n",
      "418:\tlearn: 2.0409356\ttotal: 14m 31s\tremaining: 20m 8s\n",
      "419:\tlearn: 2.0386877\ttotal: 14m 33s\tremaining: 20m 6s\n",
      "420:\tlearn: 2.0378652\ttotal: 14m 35s\tremaining: 20m 4s\n",
      "421:\tlearn: 2.0366082\ttotal: 14m 37s\tremaining: 20m 1s\n",
      "422:\tlearn: 2.0343443\ttotal: 14m 39s\tremaining: 19m 59s\n",
      "423:\tlearn: 2.0318839\ttotal: 14m 41s\tremaining: 19m 57s\n",
      "424:\tlearn: 2.0309260\ttotal: 14m 43s\tremaining: 19m 55s\n",
      "425:\tlearn: 2.0298279\ttotal: 14m 45s\tremaining: 19m 53s\n",
      "426:\tlearn: 2.0293046\ttotal: 14m 47s\tremaining: 19m 50s\n",
      "427:\tlearn: 2.0289510\ttotal: 14m 49s\tremaining: 19m 48s\n",
      "428:\tlearn: 2.0281538\ttotal: 14m 51s\tremaining: 19m 46s\n",
      "429:\tlearn: 2.0275416\ttotal: 14m 53s\tremaining: 19m 43s\n",
      "430:\tlearn: 2.0249429\ttotal: 14m 55s\tremaining: 19m 42s\n",
      "431:\tlearn: 2.0222362\ttotal: 14m 57s\tremaining: 19m 40s\n",
      "432:\tlearn: 2.0207272\ttotal: 14m 59s\tremaining: 19m 37s\n",
      "433:\tlearn: 2.0186887\ttotal: 15m 1s\tremaining: 19m 35s\n",
      "434:\tlearn: 2.0176817\ttotal: 15m 3s\tremaining: 19m 33s\n",
      "435:\tlearn: 2.0171759\ttotal: 15m 5s\tremaining: 19m 31s\n",
      "436:\tlearn: 2.0164978\ttotal: 15m 7s\tremaining: 19m 29s\n",
      "437:\tlearn: 2.0159831\ttotal: 15m 9s\tremaining: 19m 26s\n",
      "438:\tlearn: 2.0152335\ttotal: 15m 11s\tremaining: 19m 24s\n",
      "439:\tlearn: 2.0142326\ttotal: 15m 13s\tremaining: 19m 22s\n",
      "440:\tlearn: 2.0124148\ttotal: 15m 15s\tremaining: 19m 20s\n",
      "441:\tlearn: 2.0118055\ttotal: 15m 17s\tremaining: 19m 18s\n",
      "442:\tlearn: 2.0112075\ttotal: 15m 19s\tremaining: 19m 15s\n",
      "443:\tlearn: 2.0102699\ttotal: 15m 21s\tremaining: 19m 13s\n",
      "444:\tlearn: 2.0096992\ttotal: 15m 23s\tremaining: 19m 11s\n",
      "445:\tlearn: 2.0066869\ttotal: 15m 25s\tremaining: 19m 9s\n",
      "446:\tlearn: 2.0058946\ttotal: 15m 27s\tremaining: 19m 7s\n",
      "447:\tlearn: 2.0053265\ttotal: 15m 29s\tremaining: 19m 5s\n",
      "448:\tlearn: 2.0043988\ttotal: 15m 31s\tremaining: 19m 2s\n",
      "449:\tlearn: 2.0037219\ttotal: 15m 33s\tremaining: 19m\n",
      "450:\tlearn: 2.0022817\ttotal: 15m 35s\tremaining: 18m 58s\n"
     ]
    },
    {
     "name": "stdout",
     "output_type": "stream",
     "text": [
      "451:\tlearn: 2.0009613\ttotal: 15m 37s\tremaining: 18m 56s\n",
      "452:\tlearn: 2.0003534\ttotal: 15m 39s\tremaining: 18m 54s\n",
      "453:\tlearn: 1.9983487\ttotal: 15m 41s\tremaining: 18m 51s\n",
      "454:\tlearn: 1.9976963\ttotal: 15m 43s\tremaining: 18m 49s\n",
      "455:\tlearn: 1.9972642\ttotal: 15m 45s\tremaining: 18m 47s\n",
      "456:\tlearn: 1.9953062\ttotal: 15m 47s\tremaining: 18m 45s\n",
      "457:\tlearn: 1.9945105\ttotal: 15m 49s\tremaining: 18m 43s\n",
      "458:\tlearn: 1.9916231\ttotal: 15m 51s\tremaining: 18m 41s\n",
      "459:\tlearn: 1.9908262\ttotal: 15m 53s\tremaining: 18m 38s\n",
      "460:\tlearn: 1.9905287\ttotal: 15m 55s\tremaining: 18m 36s\n",
      "461:\tlearn: 1.9899994\ttotal: 15m 56s\tremaining: 18m 34s\n",
      "462:\tlearn: 1.9895163\ttotal: 15m 58s\tremaining: 18m 32s\n",
      "463:\tlearn: 1.9881394\ttotal: 16m\tremaining: 18m 29s\n",
      "464:\tlearn: 1.9863881\ttotal: 16m 2s\tremaining: 18m 27s\n",
      "465:\tlearn: 1.9857451\ttotal: 16m 4s\tremaining: 18m 25s\n",
      "466:\tlearn: 1.9853787\ttotal: 16m 6s\tremaining: 18m 23s\n",
      "467:\tlearn: 1.9846880\ttotal: 16m 8s\tremaining: 18m 20s\n",
      "468:\tlearn: 1.9845807\ttotal: 16m 10s\tremaining: 18m 18s\n",
      "469:\tlearn: 1.9838528\ttotal: 16m 12s\tremaining: 18m 16s\n",
      "470:\tlearn: 1.9829341\ttotal: 16m 14s\tremaining: 18m 14s\n",
      "471:\tlearn: 1.9814414\ttotal: 16m 16s\tremaining: 18m 12s\n",
      "472:\tlearn: 1.9805559\ttotal: 16m 18s\tremaining: 18m 9s\n",
      "473:\tlearn: 1.9803570\ttotal: 16m 20s\tremaining: 18m 7s\n",
      "474:\tlearn: 1.9787812\ttotal: 16m 22s\tremaining: 18m 5s\n",
      "475:\tlearn: 1.9785245\ttotal: 16m 24s\tremaining: 18m 3s\n",
      "476:\tlearn: 1.9780036\ttotal: 16m 26s\tremaining: 18m 1s\n",
      "477:\tlearn: 1.9774904\ttotal: 16m 28s\tremaining: 17m 58s\n",
      "478:\tlearn: 1.9772309\ttotal: 16m 29s\tremaining: 17m 56s\n",
      "479:\tlearn: 1.9766523\ttotal: 16m 31s\tremaining: 17m 54s\n",
      "480:\tlearn: 1.9763447\ttotal: 16m 33s\tremaining: 17m 52s\n",
      "481:\tlearn: 1.9744210\ttotal: 16m 35s\tremaining: 17m 50s\n",
      "482:\tlearn: 1.9740441\ttotal: 16m 37s\tremaining: 17m 47s\n",
      "483:\tlearn: 1.9733545\ttotal: 16m 39s\tremaining: 17m 45s\n",
      "484:\tlearn: 1.9714250\ttotal: 16m 41s\tremaining: 17m 43s\n",
      "485:\tlearn: 1.9695094\ttotal: 16m 43s\tremaining: 17m 41s\n",
      "486:\tlearn: 1.9684612\ttotal: 16m 45s\tremaining: 17m 39s\n",
      "487:\tlearn: 1.9677119\ttotal: 16m 47s\tremaining: 17m 37s\n",
      "488:\tlearn: 1.9671733\ttotal: 16m 49s\tremaining: 17m 34s\n",
      "489:\tlearn: 1.9668451\ttotal: 16m 51s\tremaining: 17m 32s\n",
      "490:\tlearn: 1.9665515\ttotal: 16m 53s\tremaining: 17m 30s\n",
      "491:\tlearn: 1.9642478\ttotal: 16m 55s\tremaining: 17m 28s\n",
      "492:\tlearn: 1.9638589\ttotal: 16m 57s\tremaining: 17m 26s\n",
      "493:\tlearn: 1.9617213\ttotal: 16m 59s\tremaining: 17m 24s\n",
      "494:\tlearn: 1.9612617\ttotal: 17m 1s\tremaining: 17m 22s\n",
      "495:\tlearn: 1.9606888\ttotal: 17m 3s\tremaining: 17m 19s\n",
      "496:\tlearn: 1.9598517\ttotal: 17m 5s\tremaining: 17m 17s\n",
      "497:\tlearn: 1.9594685\ttotal: 17m 7s\tremaining: 17m 15s\n",
      "498:\tlearn: 1.9589851\ttotal: 17m 9s\tremaining: 17m 13s\n",
      "499:\tlearn: 1.9582408\ttotal: 17m 11s\tremaining: 17m 11s\n",
      "500:\tlearn: 1.9575865\ttotal: 17m 13s\tremaining: 17m 8s\n",
      "501:\tlearn: 1.9545350\ttotal: 17m 15s\tremaining: 17m 7s\n",
      "502:\tlearn: 1.9539619\ttotal: 17m 17s\tremaining: 17m 4s\n",
      "503:\tlearn: 1.9513208\ttotal: 17m 19s\tremaining: 17m 3s\n",
      "504:\tlearn: 1.9494624\ttotal: 17m 21s\tremaining: 17m 1s\n",
      "505:\tlearn: 1.9491703\ttotal: 17m 23s\tremaining: 16m 58s\n",
      "506:\tlearn: 1.9469847\ttotal: 17m 25s\tremaining: 16m 56s\n",
      "507:\tlearn: 1.9466912\ttotal: 17m 27s\tremaining: 16m 54s\n",
      "508:\tlearn: 1.9445452\ttotal: 17m 29s\tremaining: 16m 52s\n",
      "509:\tlearn: 1.9442196\ttotal: 17m 31s\tremaining: 16m 50s\n",
      "510:\tlearn: 1.9435038\ttotal: 17m 33s\tremaining: 16m 47s\n",
      "511:\tlearn: 1.9421696\ttotal: 17m 35s\tremaining: 16m 45s\n",
      "512:\tlearn: 1.9410870\ttotal: 17m 37s\tremaining: 16m 43s\n",
      "513:\tlearn: 1.9407669\ttotal: 17m 39s\tremaining: 16m 41s\n",
      "514:\tlearn: 1.9394480\ttotal: 17m 41s\tremaining: 16m 39s\n",
      "515:\tlearn: 1.9390432\ttotal: 17m 43s\tremaining: 16m 37s\n",
      "516:\tlearn: 1.9385670\ttotal: 17m 45s\tremaining: 16m 35s\n",
      "517:\tlearn: 1.9382083\ttotal: 17m 46s\tremaining: 16m 32s\n",
      "518:\tlearn: 1.9354836\ttotal: 17m 49s\tremaining: 16m 30s\n",
      "519:\tlearn: 1.9348733\ttotal: 17m 51s\tremaining: 16m 28s\n",
      "520:\tlearn: 1.9341878\ttotal: 17m 53s\tremaining: 16m 26s\n",
      "521:\tlearn: 1.9326728\ttotal: 17m 55s\tremaining: 16m 24s\n",
      "522:\tlearn: 1.9317654\ttotal: 17m 57s\tremaining: 16m 22s\n",
      "523:\tlearn: 1.9312688\ttotal: 17m 59s\tremaining: 16m 20s\n",
      "524:\tlearn: 1.9307014\ttotal: 18m\tremaining: 16m 17s\n",
      "525:\tlearn: 1.9289452\ttotal: 18m 2s\tremaining: 16m 15s\n",
      "526:\tlearn: 1.9287530\ttotal: 18m 4s\tremaining: 16m 13s\n",
      "527:\tlearn: 1.9270901\ttotal: 18m 6s\tremaining: 16m 11s\n",
      "528:\tlearn: 1.9257156\ttotal: 18m 8s\tremaining: 16m 9s\n",
      "529:\tlearn: 1.9254769\ttotal: 18m 10s\tremaining: 16m 7s\n",
      "530:\tlearn: 1.9243911\ttotal: 18m 12s\tremaining: 16m 5s\n",
      "531:\tlearn: 1.9241180\ttotal: 18m 14s\tremaining: 16m 2s\n",
      "532:\tlearn: 1.9232226\ttotal: 18m 16s\tremaining: 16m\n",
      "533:\tlearn: 1.9225673\ttotal: 18m 18s\tremaining: 15m 58s\n",
      "534:\tlearn: 1.9219345\ttotal: 18m 20s\tremaining: 15m 56s\n",
      "535:\tlearn: 1.9216901\ttotal: 18m 22s\tremaining: 15m 54s\n",
      "536:\tlearn: 1.9209565\ttotal: 18m 24s\tremaining: 15m 52s\n",
      "537:\tlearn: 1.9203886\ttotal: 18m 26s\tremaining: 15m 49s\n",
      "538:\tlearn: 1.9198162\ttotal: 18m 28s\tremaining: 15m 47s\n",
      "539:\tlearn: 1.9177549\ttotal: 18m 30s\tremaining: 15m 45s\n",
      "540:\tlearn: 1.9174804\ttotal: 18m 32s\tremaining: 15m 43s\n",
      "541:\tlearn: 1.9166911\ttotal: 18m 34s\tremaining: 15m 41s\n",
      "542:\tlearn: 1.9159498\ttotal: 18m 36s\tremaining: 15m 39s\n",
      "543:\tlearn: 1.9157747\ttotal: 18m 37s\tremaining: 15m 37s\n",
      "544:\tlearn: 1.9139503\ttotal: 18m 39s\tremaining: 15m 35s\n",
      "545:\tlearn: 1.9128424\ttotal: 18m 42s\tremaining: 15m 32s\n",
      "546:\tlearn: 1.9119605\ttotal: 18m 44s\tremaining: 15m 30s\n",
      "547:\tlearn: 1.9116938\ttotal: 18m 45s\tremaining: 15m 28s\n",
      "548:\tlearn: 1.9114236\ttotal: 18m 47s\tremaining: 15m 26s\n",
      "549:\tlearn: 1.9094569\ttotal: 18m 50s\tremaining: 15m 24s\n",
      "550:\tlearn: 1.9088164\ttotal: 18m 51s\tremaining: 15m 22s\n",
      "551:\tlearn: 1.9081605\ttotal: 18m 53s\tremaining: 15m 20s\n",
      "552:\tlearn: 1.9075567\ttotal: 18m 55s\tremaining: 15m 18s\n",
      "553:\tlearn: 1.9068384\ttotal: 18m 57s\tremaining: 15m 15s\n",
      "554:\tlearn: 1.9063359\ttotal: 18m 59s\tremaining: 15m 13s\n",
      "555:\tlearn: 1.9057822\ttotal: 19m 1s\tremaining: 15m 11s\n",
      "556:\tlearn: 1.9050777\ttotal: 19m 3s\tremaining: 15m 9s\n",
      "557:\tlearn: 1.9029732\ttotal: 19m 5s\tremaining: 15m 7s\n",
      "558:\tlearn: 1.9008484\ttotal: 19m 7s\tremaining: 15m 5s\n",
      "559:\tlearn: 1.9002309\ttotal: 19m 9s\tremaining: 15m 3s\n",
      "560:\tlearn: 1.8993955\ttotal: 19m 11s\tremaining: 15m 1s\n",
      "561:\tlearn: 1.8988618\ttotal: 19m 13s\tremaining: 14m 58s\n",
      "562:\tlearn: 1.8976330\ttotal: 19m 15s\tremaining: 14m 56s\n",
      "563:\tlearn: 1.8969458\ttotal: 19m 17s\tremaining: 14m 54s\n",
      "564:\tlearn: 1.8962049\ttotal: 19m 19s\tremaining: 14m 52s\n",
      "565:\tlearn: 1.8944614\ttotal: 19m 21s\tremaining: 14m 50s\n",
      "566:\tlearn: 1.8931266\ttotal: 19m 23s\tremaining: 14m 48s\n",
      "567:\tlearn: 1.8926570\ttotal: 19m 25s\tremaining: 14m 46s\n",
      "568:\tlearn: 1.8917585\ttotal: 19m 27s\tremaining: 14m 44s\n",
      "569:\tlearn: 1.8915361\ttotal: 19m 29s\tremaining: 14m 42s\n",
      "570:\tlearn: 1.8912134\ttotal: 19m 31s\tremaining: 14m 39s\n",
      "571:\tlearn: 1.8903029\ttotal: 19m 33s\tremaining: 14m 37s\n",
      "572:\tlearn: 1.8885986\ttotal: 19m 35s\tremaining: 14m 35s\n",
      "573:\tlearn: 1.8874399\ttotal: 19m 37s\tremaining: 14m 33s\n",
      "574:\tlearn: 1.8867643\ttotal: 19m 39s\tremaining: 14m 31s\n",
      "575:\tlearn: 1.8860467\ttotal: 19m 41s\tremaining: 14m 29s\n",
      "576:\tlearn: 1.8858074\ttotal: 19m 42s\tremaining: 14m 27s\n",
      "577:\tlearn: 1.8851340\ttotal: 19m 45s\tremaining: 14m 25s\n",
      "578:\tlearn: 1.8846848\ttotal: 19m 46s\tremaining: 14m 23s\n",
      "579:\tlearn: 1.8839996\ttotal: 19m 48s\tremaining: 14m 20s\n",
      "580:\tlearn: 1.8836701\ttotal: 19m 50s\tremaining: 14m 18s\n",
      "581:\tlearn: 1.8827086\ttotal: 19m 52s\tremaining: 14m 16s\n",
      "582:\tlearn: 1.8819225\ttotal: 19m 54s\tremaining: 14m 14s\n",
      "583:\tlearn: 1.8816445\ttotal: 19m 56s\tremaining: 14m 12s\n",
      "584:\tlearn: 1.8811100\ttotal: 19m 58s\tremaining: 14m 10s\n",
      "585:\tlearn: 1.8802175\ttotal: 20m\tremaining: 14m 8s\n",
      "586:\tlearn: 1.8796382\ttotal: 20m 2s\tremaining: 14m 6s\n",
      "587:\tlearn: 1.8790646\ttotal: 20m 4s\tremaining: 14m 3s\n",
      "588:\tlearn: 1.8780928\ttotal: 20m 6s\tremaining: 14m 1s\n",
      "589:\tlearn: 1.8778524\ttotal: 20m 8s\tremaining: 13m 59s\n",
      "590:\tlearn: 1.8772717\ttotal: 20m 10s\tremaining: 13m 57s\n",
      "591:\tlearn: 1.8766029\ttotal: 20m 12s\tremaining: 13m 55s\n",
      "592:\tlearn: 1.8763877\ttotal: 20m 13s\tremaining: 13m 53s\n",
      "593:\tlearn: 1.8742656\ttotal: 20m 16s\tremaining: 13m 51s\n",
      "594:\tlearn: 1.8739621\ttotal: 20m 18s\tremaining: 13m 49s\n",
      "595:\tlearn: 1.8734196\ttotal: 20m 20s\tremaining: 13m 47s\n",
      "596:\tlearn: 1.8730127\ttotal: 20m 21s\tremaining: 13m 44s\n",
      "597:\tlearn: 1.8726960\ttotal: 20m 23s\tremaining: 13m 42s\n",
      "598:\tlearn: 1.8722115\ttotal: 20m 25s\tremaining: 13m 40s\n"
     ]
    },
    {
     "name": "stdout",
     "output_type": "stream",
     "text": [
      "599:\tlearn: 1.8717376\ttotal: 20m 27s\tremaining: 13m 38s\n",
      "600:\tlearn: 1.8714166\ttotal: 20m 29s\tremaining: 13m 36s\n",
      "601:\tlearn: 1.8699112\ttotal: 20m 31s\tremaining: 13m 34s\n",
      "602:\tlearn: 1.8687632\ttotal: 20m 33s\tremaining: 13m 32s\n",
      "603:\tlearn: 1.8683821\ttotal: 20m 35s\tremaining: 13m 30s\n",
      "604:\tlearn: 1.8676146\ttotal: 20m 37s\tremaining: 13m 27s\n",
      "605:\tlearn: 1.8658244\ttotal: 20m 39s\tremaining: 13m 25s\n",
      "606:\tlearn: 1.8651183\ttotal: 20m 41s\tremaining: 13m 23s\n",
      "607:\tlearn: 1.8643963\ttotal: 20m 43s\tremaining: 13m 21s\n",
      "608:\tlearn: 1.8637571\ttotal: 20m 45s\tremaining: 13m 19s\n",
      "609:\tlearn: 1.8632223\ttotal: 20m 47s\tremaining: 13m 17s\n",
      "610:\tlearn: 1.8623456\ttotal: 20m 49s\tremaining: 13m 15s\n",
      "611:\tlearn: 1.8617018\ttotal: 20m 51s\tremaining: 13m 13s\n",
      "612:\tlearn: 1.8610752\ttotal: 20m 53s\tremaining: 13m 11s\n",
      "613:\tlearn: 1.8601319\ttotal: 20m 55s\tremaining: 13m 9s\n",
      "614:\tlearn: 1.8585987\ttotal: 20m 57s\tremaining: 13m 7s\n",
      "615:\tlearn: 1.8576171\ttotal: 20m 59s\tremaining: 13m 4s\n",
      "616:\tlearn: 1.8572582\ttotal: 21m 1s\tremaining: 13m 2s\n",
      "617:\tlearn: 1.8565888\ttotal: 21m 3s\tremaining: 13m\n",
      "618:\tlearn: 1.8560130\ttotal: 21m 4s\tremaining: 12m 58s\n",
      "619:\tlearn: 1.8548483\ttotal: 21m 6s\tremaining: 12m 56s\n",
      "620:\tlearn: 1.8541466\ttotal: 21m 8s\tremaining: 12m 54s\n",
      "621:\tlearn: 1.8534944\ttotal: 21m 10s\tremaining: 12m 52s\n",
      "622:\tlearn: 1.8527331\ttotal: 21m 12s\tremaining: 12m 50s\n",
      "623:\tlearn: 1.8524907\ttotal: 21m 14s\tremaining: 12m 48s\n",
      "624:\tlearn: 1.8519048\ttotal: 21m 16s\tremaining: 12m 45s\n",
      "625:\tlearn: 1.8516003\ttotal: 21m 18s\tremaining: 12m 43s\n",
      "626:\tlearn: 1.8510008\ttotal: 21m 20s\tremaining: 12m 41s\n",
      "627:\tlearn: 1.8505020\ttotal: 21m 22s\tremaining: 12m 39s\n",
      "628:\tlearn: 1.8502274\ttotal: 21m 24s\tremaining: 12m 37s\n",
      "629:\tlearn: 1.8499063\ttotal: 21m 26s\tremaining: 12m 35s\n",
      "630:\tlearn: 1.8487702\ttotal: 21m 28s\tremaining: 12m 33s\n",
      "631:\tlearn: 1.8483274\ttotal: 21m 30s\tremaining: 12m 31s\n",
      "632:\tlearn: 1.8478182\ttotal: 21m 32s\tremaining: 12m 29s\n",
      "633:\tlearn: 1.8472054\ttotal: 21m 34s\tremaining: 12m 27s\n",
      "634:\tlearn: 1.8467652\ttotal: 21m 35s\tremaining: 12m 24s\n",
      "635:\tlearn: 1.8452699\ttotal: 21m 38s\tremaining: 12m 22s\n",
      "636:\tlearn: 1.8447632\ttotal: 21m 40s\tremaining: 12m 20s\n",
      "637:\tlearn: 1.8445521\ttotal: 21m 41s\tremaining: 12m 18s\n",
      "638:\tlearn: 1.8442018\ttotal: 21m 43s\tremaining: 12m 16s\n",
      "639:\tlearn: 1.8440032\ttotal: 21m 45s\tremaining: 12m 14s\n",
      "640:\tlearn: 1.8424220\ttotal: 21m 47s\tremaining: 12m 12s\n",
      "641:\tlearn: 1.8419599\ttotal: 21m 49s\tremaining: 12m 10s\n",
      "642:\tlearn: 1.8412405\ttotal: 21m 51s\tremaining: 12m 8s\n",
      "643:\tlearn: 1.8399700\ttotal: 21m 53s\tremaining: 12m 6s\n",
      "644:\tlearn: 1.8394700\ttotal: 21m 55s\tremaining: 12m 4s\n",
      "645:\tlearn: 1.8385961\ttotal: 21m 57s\tremaining: 12m 1s\n",
      "646:\tlearn: 1.8380644\ttotal: 21m 59s\tremaining: 11m 59s\n",
      "647:\tlearn: 1.8377983\ttotal: 22m 1s\tremaining: 11m 57s\n",
      "648:\tlearn: 1.8368554\ttotal: 22m 3s\tremaining: 11m 55s\n",
      "649:\tlearn: 1.8362083\ttotal: 22m 5s\tremaining: 11m 53s\n",
      "650:\tlearn: 1.8359958\ttotal: 22m 7s\tremaining: 11m 51s\n",
      "651:\tlearn: 1.8357332\ttotal: 22m 9s\tremaining: 11m 49s\n",
      "652:\tlearn: 1.8351886\ttotal: 22m 11s\tremaining: 11m 47s\n",
      "653:\tlearn: 1.8348852\ttotal: 22m 12s\tremaining: 11m 45s\n",
      "654:\tlearn: 1.8342613\ttotal: 22m 14s\tremaining: 11m 43s\n",
      "655:\tlearn: 1.8335255\ttotal: 22m 16s\tremaining: 11m 40s\n",
      "656:\tlearn: 1.8332675\ttotal: 22m 18s\tremaining: 11m 38s\n",
      "657:\tlearn: 1.8320273\ttotal: 22m 20s\tremaining: 11m 36s\n",
      "658:\tlearn: 1.8315260\ttotal: 22m 22s\tremaining: 11m 34s\n",
      "659:\tlearn: 1.8300820\ttotal: 22m 24s\tremaining: 11m 32s\n",
      "660:\tlearn: 1.8293212\ttotal: 22m 26s\tremaining: 11m 30s\n",
      "661:\tlearn: 1.8288047\ttotal: 22m 28s\tremaining: 11m 28s\n",
      "662:\tlearn: 1.8282406\ttotal: 22m 30s\tremaining: 11m 26s\n",
      "663:\tlearn: 1.8269621\ttotal: 22m 32s\tremaining: 11m 24s\n",
      "664:\tlearn: 1.8264248\ttotal: 22m 34s\tremaining: 11m 22s\n",
      "665:\tlearn: 1.8256221\ttotal: 22m 36s\tremaining: 11m 20s\n",
      "666:\tlearn: 1.8252840\ttotal: 22m 38s\tremaining: 11m 18s\n",
      "667:\tlearn: 1.8239065\ttotal: 22m 40s\tremaining: 11m 16s\n",
      "668:\tlearn: 1.8236478\ttotal: 22m 42s\tremaining: 11m 14s\n",
      "669:\tlearn: 1.8231911\ttotal: 22m 44s\tremaining: 11m 11s\n",
      "670:\tlearn: 1.8215302\ttotal: 22m 46s\tremaining: 11m 9s\n",
      "671:\tlearn: 1.8202688\ttotal: 22m 48s\tremaining: 11m 7s\n",
      "672:\tlearn: 1.8181996\ttotal: 22m 50s\tremaining: 11m 5s\n",
      "673:\tlearn: 1.8177225\ttotal: 22m 52s\tremaining: 11m 3s\n",
      "674:\tlearn: 1.8160231\ttotal: 22m 54s\tremaining: 11m 1s\n",
      "675:\tlearn: 1.8156689\ttotal: 22m 56s\tremaining: 10m 59s\n",
      "676:\tlearn: 1.8150035\ttotal: 22m 58s\tremaining: 10m 57s\n",
      "677:\tlearn: 1.8138609\ttotal: 23m\tremaining: 10m 55s\n",
      "678:\tlearn: 1.8126830\ttotal: 23m 2s\tremaining: 10m 53s\n",
      "679:\tlearn: 1.8123383\ttotal: 23m 4s\tremaining: 10m 51s\n",
      "680:\tlearn: 1.8112325\ttotal: 23m 6s\tremaining: 10m 49s\n",
      "681:\tlearn: 1.8107483\ttotal: 23m 8s\tremaining: 10m 47s\n",
      "682:\tlearn: 1.8103731\ttotal: 23m 10s\tremaining: 10m 45s\n",
      "683:\tlearn: 1.8094746\ttotal: 23m 12s\tremaining: 10m 43s\n",
      "684:\tlearn: 1.8088044\ttotal: 23m 14s\tremaining: 10m 41s\n",
      "685:\tlearn: 1.8067559\ttotal: 23m 16s\tremaining: 10m 39s\n",
      "686:\tlearn: 1.8062669\ttotal: 23m 18s\tremaining: 10m 37s\n",
      "687:\tlearn: 1.8054266\ttotal: 23m 20s\tremaining: 10m 35s\n",
      "688:\tlearn: 1.8049062\ttotal: 23m 22s\tremaining: 10m 32s\n",
      "689:\tlearn: 1.8045243\ttotal: 23m 24s\tremaining: 10m 30s\n",
      "690:\tlearn: 1.8040215\ttotal: 23m 26s\tremaining: 10m 28s\n",
      "691:\tlearn: 1.8035517\ttotal: 23m 27s\tremaining: 10m 26s\n",
      "692:\tlearn: 1.8028581\ttotal: 23m 29s\tremaining: 10m 24s\n",
      "693:\tlearn: 1.8026357\ttotal: 23m 31s\tremaining: 10m 22s\n",
      "694:\tlearn: 1.8001018\ttotal: 23m 33s\tremaining: 10m 20s\n",
      "695:\tlearn: 1.7988726\ttotal: 23m 36s\tremaining: 10m 18s\n",
      "696:\tlearn: 1.7984476\ttotal: 23m 37s\tremaining: 10m 16s\n",
      "697:\tlearn: 1.7957799\ttotal: 23m 40s\tremaining: 10m 14s\n",
      "698:\tlearn: 1.7956227\ttotal: 23m 42s\tremaining: 10m 12s\n",
      "699:\tlearn: 1.7929006\ttotal: 23m 44s\tremaining: 10m 10s\n",
      "700:\tlearn: 1.7918938\ttotal: 23m 46s\tremaining: 10m 8s\n",
      "701:\tlearn: 1.7918196\ttotal: 23m 48s\tremaining: 10m 6s\n",
      "702:\tlearn: 1.7917282\ttotal: 23m 50s\tremaining: 10m 4s\n",
      "703:\tlearn: 1.7912093\ttotal: 23m 52s\tremaining: 10m 2s\n",
      "704:\tlearn: 1.7882998\ttotal: 23m 54s\tremaining: 10m\n",
      "705:\tlearn: 1.7867417\ttotal: 23m 56s\tremaining: 9m 58s\n",
      "706:\tlearn: 1.7864324\ttotal: 23m 58s\tremaining: 9m 56s\n",
      "707:\tlearn: 1.7858856\ttotal: 24m\tremaining: 9m 54s\n",
      "708:\tlearn: 1.7848673\ttotal: 24m 2s\tremaining: 9m 52s\n",
      "709:\tlearn: 1.7842362\ttotal: 24m 4s\tremaining: 9m 49s\n",
      "710:\tlearn: 1.7834297\ttotal: 24m 6s\tremaining: 9m 47s\n",
      "711:\tlearn: 1.7831583\ttotal: 24m 8s\tremaining: 9m 45s\n",
      "712:\tlearn: 1.7817377\ttotal: 24m 10s\tremaining: 9m 43s\n",
      "713:\tlearn: 1.7815256\ttotal: 24m 12s\tremaining: 9m 41s\n",
      "714:\tlearn: 1.7807836\ttotal: 24m 14s\tremaining: 9m 39s\n",
      "715:\tlearn: 1.7804285\ttotal: 24m 16s\tremaining: 9m 37s\n",
      "716:\tlearn: 1.7800952\ttotal: 24m 17s\tremaining: 9m 35s\n",
      "717:\tlearn: 1.7795631\ttotal: 24m 19s\tremaining: 9m 33s\n",
      "718:\tlearn: 1.7791165\ttotal: 24m 21s\tremaining: 9m 31s\n",
      "719:\tlearn: 1.7788927\ttotal: 24m 23s\tremaining: 9m 29s\n",
      "720:\tlearn: 1.7784615\ttotal: 24m 25s\tremaining: 9m 27s\n",
      "721:\tlearn: 1.7772732\ttotal: 24m 27s\tremaining: 9m 25s\n",
      "722:\tlearn: 1.7770033\ttotal: 24m 29s\tremaining: 9m 22s\n",
      "723:\tlearn: 1.7763698\ttotal: 24m 31s\tremaining: 9m 20s\n",
      "724:\tlearn: 1.7750668\ttotal: 24m 33s\tremaining: 9m 18s\n",
      "725:\tlearn: 1.7727027\ttotal: 24m 35s\tremaining: 9m 16s\n",
      "726:\tlearn: 1.7705235\ttotal: 24m 37s\tremaining: 9m 14s\n",
      "727:\tlearn: 1.7695690\ttotal: 24m 39s\tremaining: 9m 12s\n",
      "728:\tlearn: 1.7693425\ttotal: 24m 41s\tremaining: 9m 10s\n",
      "729:\tlearn: 1.7683691\ttotal: 24m 43s\tremaining: 9m 8s\n",
      "730:\tlearn: 1.7681094\ttotal: 24m 45s\tremaining: 9m 6s\n",
      "731:\tlearn: 1.7675614\ttotal: 24m 47s\tremaining: 9m 4s\n",
      "732:\tlearn: 1.7669212\ttotal: 24m 49s\tremaining: 9m 2s\n",
      "733:\tlearn: 1.7667024\ttotal: 24m 51s\tremaining: 9m\n",
      "734:\tlearn: 1.7660188\ttotal: 24m 53s\tremaining: 8m 58s\n",
      "735:\tlearn: 1.7657702\ttotal: 24m 55s\tremaining: 8m 56s\n",
      "736:\tlearn: 1.7650109\ttotal: 24m 57s\tremaining: 8m 54s\n",
      "737:\tlearn: 1.7646351\ttotal: 24m 59s\tremaining: 8m 52s\n",
      "738:\tlearn: 1.7631904\ttotal: 25m 1s\tremaining: 8m 50s\n",
      "739:\tlearn: 1.7626221\ttotal: 25m 3s\tremaining: 8m 48s\n",
      "740:\tlearn: 1.7622917\ttotal: 25m 5s\tremaining: 8m 46s\n",
      "741:\tlearn: 1.7620339\ttotal: 25m 7s\tremaining: 8m 44s\n",
      "742:\tlearn: 1.7613953\ttotal: 25m 9s\tremaining: 8m 41s\n",
      "743:\tlearn: 1.7612110\ttotal: 25m 11s\tremaining: 8m 39s\n",
      "744:\tlearn: 1.7603157\ttotal: 25m 13s\tremaining: 8m 37s\n",
      "745:\tlearn: 1.7596989\ttotal: 25m 15s\tremaining: 8m 35s\n",
      "746:\tlearn: 1.7587823\ttotal: 25m 17s\tremaining: 8m 33s\n",
      "747:\tlearn: 1.7578270\ttotal: 25m 19s\tremaining: 8m 31s\n"
     ]
    },
    {
     "name": "stdout",
     "output_type": "stream",
     "text": [
      "748:\tlearn: 1.7563494\ttotal: 25m 21s\tremaining: 8m 29s\n",
      "749:\tlearn: 1.7559027\ttotal: 25m 23s\tremaining: 8m 27s\n",
      "750:\tlearn: 1.7550139\ttotal: 25m 25s\tremaining: 8m 25s\n",
      "751:\tlearn: 1.7544031\ttotal: 25m 27s\tremaining: 8m 23s\n",
      "752:\tlearn: 1.7542030\ttotal: 25m 29s\tremaining: 8m 21s\n",
      "753:\tlearn: 1.7534962\ttotal: 25m 31s\tremaining: 8m 19s\n",
      "754:\tlearn: 1.7531447\ttotal: 25m 32s\tremaining: 8m 17s\n",
      "755:\tlearn: 1.7525711\ttotal: 25m 34s\tremaining: 8m 15s\n",
      "756:\tlearn: 1.7524156\ttotal: 25m 36s\tremaining: 8m 13s\n",
      "757:\tlearn: 1.7518842\ttotal: 25m 38s\tremaining: 8m 11s\n",
      "758:\tlearn: 1.7510562\ttotal: 25m 40s\tremaining: 8m 9s\n",
      "759:\tlearn: 1.7507379\ttotal: 25m 42s\tremaining: 8m 7s\n",
      "760:\tlearn: 1.7500342\ttotal: 25m 44s\tremaining: 8m 5s\n",
      "761:\tlearn: 1.7493583\ttotal: 25m 46s\tremaining: 8m 3s\n",
      "762:\tlearn: 1.7476956\ttotal: 25m 48s\tremaining: 8m 1s\n",
      "763:\tlearn: 1.7474931\ttotal: 25m 50s\tremaining: 7m 58s\n",
      "764:\tlearn: 1.7470839\ttotal: 25m 52s\tremaining: 7m 56s\n",
      "765:\tlearn: 1.7467348\ttotal: 25m 54s\tremaining: 7m 54s\n",
      "766:\tlearn: 1.7461377\ttotal: 25m 56s\tremaining: 7m 52s\n",
      "767:\tlearn: 1.7449564\ttotal: 25m 58s\tremaining: 7m 50s\n",
      "768:\tlearn: 1.7445530\ttotal: 26m\tremaining: 7m 48s\n",
      "769:\tlearn: 1.7440501\ttotal: 26m 2s\tremaining: 7m 46s\n",
      "770:\tlearn: 1.7437699\ttotal: 26m 4s\tremaining: 7m 44s\n",
      "771:\tlearn: 1.7432685\ttotal: 26m 5s\tremaining: 7m 42s\n",
      "772:\tlearn: 1.7424502\ttotal: 26m 7s\tremaining: 7m 40s\n",
      "773:\tlearn: 1.7420781\ttotal: 26m 9s\tremaining: 7m 38s\n",
      "774:\tlearn: 1.7409477\ttotal: 26m 11s\tremaining: 7m 36s\n",
      "775:\tlearn: 1.7406420\ttotal: 26m 13s\tremaining: 7m 34s\n",
      "776:\tlearn: 1.7401628\ttotal: 26m 15s\tremaining: 7m 32s\n",
      "777:\tlearn: 1.7394289\ttotal: 26m 17s\tremaining: 7m 30s\n",
      "778:\tlearn: 1.7391745\ttotal: 26m 19s\tremaining: 7m 28s\n",
      "779:\tlearn: 1.7385587\ttotal: 26m 21s\tremaining: 7m 26s\n",
      "780:\tlearn: 1.7379618\ttotal: 26m 23s\tremaining: 7m 24s\n",
      "781:\tlearn: 1.7373913\ttotal: 26m 25s\tremaining: 7m 21s\n",
      "782:\tlearn: 1.7355644\ttotal: 26m 27s\tremaining: 7m 19s\n",
      "783:\tlearn: 1.7347122\ttotal: 26m 29s\tremaining: 7m 17s\n",
      "784:\tlearn: 1.7342665\ttotal: 26m 31s\tremaining: 7m 15s\n",
      "785:\tlearn: 1.7318379\ttotal: 26m 33s\tremaining: 7m 13s\n",
      "786:\tlearn: 1.7308652\ttotal: 26m 35s\tremaining: 7m 11s\n",
      "787:\tlearn: 1.7296502\ttotal: 26m 37s\tremaining: 7m 9s\n",
      "788:\tlearn: 1.7292742\ttotal: 26m 39s\tremaining: 7m 7s\n",
      "789:\tlearn: 1.7276577\ttotal: 26m 41s\tremaining: 7m 5s\n",
      "790:\tlearn: 1.7262759\ttotal: 26m 43s\tremaining: 7m 3s\n",
      "791:\tlearn: 1.7252816\ttotal: 26m 45s\tremaining: 7m 1s\n",
      "792:\tlearn: 1.7239551\ttotal: 26m 47s\tremaining: 6m 59s\n",
      "793:\tlearn: 1.7234602\ttotal: 26m 49s\tremaining: 6m 57s\n",
      "794:\tlearn: 1.7229019\ttotal: 26m 51s\tremaining: 6m 55s\n",
      "795:\tlearn: 1.7223136\ttotal: 26m 53s\tremaining: 6m 53s\n",
      "796:\tlearn: 1.7212583\ttotal: 26m 55s\tremaining: 6m 51s\n",
      "797:\tlearn: 1.7207295\ttotal: 26m 57s\tremaining: 6m 49s\n",
      "798:\tlearn: 1.7198647\ttotal: 26m 59s\tremaining: 6m 47s\n",
      "799:\tlearn: 1.7192717\ttotal: 27m 1s\tremaining: 6m 45s\n",
      "800:\tlearn: 1.7188616\ttotal: 27m 3s\tremaining: 6m 43s\n",
      "801:\tlearn: 1.7181442\ttotal: 27m 5s\tremaining: 6m 41s\n",
      "802:\tlearn: 1.7179274\ttotal: 27m 7s\tremaining: 6m 39s\n",
      "803:\tlearn: 1.7173794\ttotal: 27m 9s\tremaining: 6m 37s\n",
      "804:\tlearn: 1.7171457\ttotal: 27m 11s\tremaining: 6m 35s\n",
      "805:\tlearn: 1.7151981\ttotal: 27m 13s\tremaining: 6m 33s\n",
      "806:\tlearn: 1.7142752\ttotal: 27m 15s\tremaining: 6m 31s\n",
      "807:\tlearn: 1.7127470\ttotal: 27m 17s\tremaining: 6m 29s\n",
      "808:\tlearn: 1.7117177\ttotal: 27m 20s\tremaining: 6m 27s\n",
      "809:\tlearn: 1.7115246\ttotal: 27m 22s\tremaining: 6m 25s\n",
      "810:\tlearn: 1.7111088\ttotal: 27m 23s\tremaining: 6m 23s\n",
      "811:\tlearn: 1.7099765\ttotal: 27m 26s\tremaining: 6m 21s\n",
      "812:\tlearn: 1.7096121\ttotal: 27m 27s\tremaining: 6m 19s\n",
      "813:\tlearn: 1.7092330\ttotal: 27m 29s\tremaining: 6m 16s\n",
      "814:\tlearn: 1.7087440\ttotal: 27m 31s\tremaining: 6m 14s\n",
      "815:\tlearn: 1.7083707\ttotal: 27m 33s\tremaining: 6m 12s\n",
      "816:\tlearn: 1.7079222\ttotal: 27m 35s\tremaining: 6m 10s\n",
      "817:\tlearn: 1.7068421\ttotal: 27m 37s\tremaining: 6m 8s\n",
      "818:\tlearn: 1.7063130\ttotal: 27m 39s\tremaining: 6m 6s\n",
      "819:\tlearn: 1.7057413\ttotal: 27m 41s\tremaining: 6m 4s\n",
      "820:\tlearn: 1.7044011\ttotal: 27m 43s\tremaining: 6m 2s\n",
      "821:\tlearn: 1.7033674\ttotal: 27m 45s\tremaining: 6m\n",
      "822:\tlearn: 1.7027397\ttotal: 27m 47s\tremaining: 5m 58s\n",
      "823:\tlearn: 1.7014693\ttotal: 27m 49s\tremaining: 5m 56s\n",
      "824:\tlearn: 1.7011013\ttotal: 27m 51s\tremaining: 5m 54s\n",
      "825:\tlearn: 1.7009110\ttotal: 27m 53s\tremaining: 5m 52s\n",
      "826:\tlearn: 1.7003439\ttotal: 27m 55s\tremaining: 5m 50s\n",
      "827:\tlearn: 1.6997334\ttotal: 27m 57s\tremaining: 5m 48s\n",
      "828:\tlearn: 1.6992767\ttotal: 27m 59s\tremaining: 5m 46s\n",
      "829:\tlearn: 1.6983251\ttotal: 28m 1s\tremaining: 5m 44s\n",
      "830:\tlearn: 1.6963788\ttotal: 28m 3s\tremaining: 5m 42s\n",
      "831:\tlearn: 1.6946971\ttotal: 28m 5s\tremaining: 5m 40s\n",
      "832:\tlearn: 1.6942837\ttotal: 28m 7s\tremaining: 5m 38s\n",
      "833:\tlearn: 1.6940175\ttotal: 28m 9s\tremaining: 5m 36s\n",
      "834:\tlearn: 1.6927463\ttotal: 28m 11s\tremaining: 5m 34s\n",
      "835:\tlearn: 1.6921858\ttotal: 28m 13s\tremaining: 5m 32s\n",
      "836:\tlearn: 1.6908491\ttotal: 28m 15s\tremaining: 5m 30s\n",
      "837:\tlearn: 1.6901021\ttotal: 28m 17s\tremaining: 5m 28s\n",
      "838:\tlearn: 1.6897702\ttotal: 28m 19s\tremaining: 5m 26s\n",
      "839:\tlearn: 1.6893339\ttotal: 28m 21s\tremaining: 5m 24s\n",
      "840:\tlearn: 1.6887840\ttotal: 28m 23s\tremaining: 5m 22s\n",
      "841:\tlearn: 1.6882768\ttotal: 28m 25s\tremaining: 5m 19s\n",
      "842:\tlearn: 1.6869916\ttotal: 28m 27s\tremaining: 5m 17s\n",
      "843:\tlearn: 1.6855197\ttotal: 28m 29s\tremaining: 5m 15s\n",
      "844:\tlearn: 1.6853329\ttotal: 28m 31s\tremaining: 5m 13s\n",
      "845:\tlearn: 1.6848285\ttotal: 28m 33s\tremaining: 5m 11s\n",
      "846:\tlearn: 1.6833780\ttotal: 28m 35s\tremaining: 5m 9s\n",
      "847:\tlearn: 1.6827051\ttotal: 28m 37s\tremaining: 5m 7s\n",
      "848:\tlearn: 1.6821363\ttotal: 28m 39s\tremaining: 5m 5s\n",
      "849:\tlearn: 1.6814868\ttotal: 28m 41s\tremaining: 5m 3s\n",
      "850:\tlearn: 1.6805377\ttotal: 28m 44s\tremaining: 5m 1s\n",
      "851:\tlearn: 1.6795633\ttotal: 28m 46s\tremaining: 4m 59s\n",
      "852:\tlearn: 1.6793706\ttotal: 28m 47s\tremaining: 4m 57s\n",
      "853:\tlearn: 1.6788471\ttotal: 28m 49s\tremaining: 4m 55s\n",
      "854:\tlearn: 1.6782482\ttotal: 28m 51s\tremaining: 4m 53s\n",
      "855:\tlearn: 1.6769397\ttotal: 28m 53s\tremaining: 4m 51s\n",
      "856:\tlearn: 1.6762513\ttotal: 28m 56s\tremaining: 4m 49s\n",
      "857:\tlearn: 1.6750485\ttotal: 28m 58s\tremaining: 4m 47s\n",
      "858:\tlearn: 1.6747181\ttotal: 29m\tremaining: 4m 45s\n",
      "859:\tlearn: 1.6736351\ttotal: 29m 2s\tremaining: 4m 43s\n",
      "860:\tlearn: 1.6733666\ttotal: 29m 4s\tremaining: 4m 41s\n",
      "861:\tlearn: 1.6729659\ttotal: 29m 5s\tremaining: 4m 39s\n",
      "862:\tlearn: 1.6723289\ttotal: 29m 7s\tremaining: 4m 37s\n",
      "863:\tlearn: 1.6717740\ttotal: 29m 9s\tremaining: 4m 35s\n",
      "864:\tlearn: 1.6715672\ttotal: 29m 11s\tremaining: 4m 33s\n",
      "865:\tlearn: 1.6705151\ttotal: 29m 13s\tremaining: 4m 31s\n",
      "866:\tlearn: 1.6701490\ttotal: 29m 15s\tremaining: 4m 29s\n",
      "867:\tlearn: 1.6694891\ttotal: 29m 17s\tremaining: 4m 27s\n",
      "868:\tlearn: 1.6690349\ttotal: 29m 19s\tremaining: 4m 25s\n",
      "869:\tlearn: 1.6688406\ttotal: 29m 21s\tremaining: 4m 23s\n",
      "870:\tlearn: 1.6684754\ttotal: 29m 23s\tremaining: 4m 21s\n",
      "871:\tlearn: 1.6668521\ttotal: 29m 25s\tremaining: 4m 19s\n",
      "872:\tlearn: 1.6662672\ttotal: 29m 27s\tremaining: 4m 17s\n",
      "873:\tlearn: 1.6659563\ttotal: 29m 29s\tremaining: 4m 15s\n",
      "874:\tlearn: 1.6657735\ttotal: 29m 31s\tremaining: 4m 13s\n",
      "875:\tlearn: 1.6653455\ttotal: 29m 33s\tremaining: 4m 11s\n",
      "876:\tlearn: 1.6651416\ttotal: 29m 35s\tremaining: 4m 8s\n",
      "877:\tlearn: 1.6641576\ttotal: 29m 37s\tremaining: 4m 6s\n",
      "878:\tlearn: 1.6637459\ttotal: 29m 39s\tremaining: 4m 4s\n",
      "879:\tlearn: 1.6619924\ttotal: 29m 41s\tremaining: 4m 2s\n",
      "880:\tlearn: 1.6607769\ttotal: 29m 43s\tremaining: 4m\n",
      "881:\tlearn: 1.6602423\ttotal: 29m 45s\tremaining: 3m 58s\n",
      "882:\tlearn: 1.6594507\ttotal: 29m 47s\tremaining: 3m 56s\n",
      "883:\tlearn: 1.6589259\ttotal: 29m 49s\tremaining: 3m 54s\n",
      "884:\tlearn: 1.6583948\ttotal: 29m 51s\tremaining: 3m 52s\n",
      "885:\tlearn: 1.6577898\ttotal: 29m 53s\tremaining: 3m 50s\n",
      "886:\tlearn: 1.6562707\ttotal: 29m 55s\tremaining: 3m 48s\n",
      "887:\tlearn: 1.6557731\ttotal: 29m 57s\tremaining: 3m 46s\n",
      "888:\tlearn: 1.6553753\ttotal: 29m 59s\tremaining: 3m 44s\n",
      "889:\tlearn: 1.6544488\ttotal: 30m 1s\tremaining: 3m 42s\n",
      "890:\tlearn: 1.6542586\ttotal: 30m 3s\tremaining: 3m 40s\n",
      "891:\tlearn: 1.6539833\ttotal: 30m 5s\tremaining: 3m 38s\n",
      "892:\tlearn: 1.6536195\ttotal: 30m 7s\tremaining: 3m 36s\n",
      "893:\tlearn: 1.6534924\ttotal: 30m 9s\tremaining: 3m 34s\n",
      "894:\tlearn: 1.6532679\ttotal: 30m 11s\tremaining: 3m 32s\n",
      "895:\tlearn: 1.6520507\ttotal: 30m 13s\tremaining: 3m 30s\n",
      "896:\tlearn: 1.6505522\ttotal: 30m 15s\tremaining: 3m 28s\n",
      "897:\tlearn: 1.6498770\ttotal: 30m 17s\tremaining: 3m 26s\n",
      "898:\tlearn: 1.6491820\ttotal: 30m 19s\tremaining: 3m 24s\n"
     ]
    },
    {
     "name": "stdout",
     "output_type": "stream",
     "text": [
      "899:\tlearn: 1.6484370\ttotal: 30m 21s\tremaining: 3m 22s\n",
      "900:\tlearn: 1.6471497\ttotal: 30m 23s\tremaining: 3m 20s\n",
      "901:\tlearn: 1.6463173\ttotal: 30m 25s\tremaining: 3m 18s\n",
      "902:\tlearn: 1.6455194\ttotal: 30m 27s\tremaining: 3m 16s\n",
      "903:\tlearn: 1.6446856\ttotal: 30m 30s\tremaining: 3m 14s\n",
      "904:\tlearn: 1.6445340\ttotal: 30m 31s\tremaining: 3m 12s\n",
      "905:\tlearn: 1.6443238\ttotal: 30m 33s\tremaining: 3m 10s\n",
      "906:\tlearn: 1.6438688\ttotal: 30m 35s\tremaining: 3m 8s\n",
      "907:\tlearn: 1.6427778\ttotal: 30m 37s\tremaining: 3m 6s\n",
      "908:\tlearn: 1.6421335\ttotal: 30m 39s\tremaining: 3m 4s\n",
      "909:\tlearn: 1.6413655\ttotal: 30m 41s\tremaining: 3m 2s\n",
      "910:\tlearn: 1.6411063\ttotal: 30m 43s\tremaining: 3m\n",
      "911:\tlearn: 1.6402958\ttotal: 30m 45s\tremaining: 2m 58s\n",
      "912:\tlearn: 1.6401113\ttotal: 30m 47s\tremaining: 2m 56s\n",
      "913:\tlearn: 1.6390584\ttotal: 30m 49s\tremaining: 2m 54s\n",
      "914:\tlearn: 1.6385249\ttotal: 30m 51s\tremaining: 2m 52s\n",
      "915:\tlearn: 1.6382416\ttotal: 30m 53s\tremaining: 2m 49s\n"
     ]
    }
   ],
   "source": [
    "from catboost import CatBoostClassifier\n",
    "\n",
    "clf_cat = CatBoostClassifier(task_type='GPU', max_depth=5)\n",
    "clf_cat.fit(X_train, y_train)"
   ]
  },
  {
   "cell_type": "code",
   "execution_count": null,
   "metadata": {
    "pycharm": {
     "name": "#%%\n"
    }
   },
   "outputs": [],
   "source": [
    "from sklearn.metrics import classification_report\n",
    "\n",
    "y_pred = [*map(lambda x: np.argmax(x), pred)]\n",
    "report = pd.DataFrame.from_dict(classification_report(y_test, y_pred, target_names=le.classes_, output_dict=True)).T\n",
    "report"
   ]
  },
  {
   "cell_type": "markdown",
   "metadata": {},
   "source": [
    "### Бустинг скорее всего не подойдет, слишком большой датасет и максимальную глубину получается выставить только на 6, думаю для 200+ классов этого маловато. Но бустинг показывает результат точности около 40%."
   ]
  },
  {
   "cell_type": "markdown",
   "metadata": {},
   "source": [
    "### Попробуем нейронные сети, говорят они хорошо подходят."
   ]
  },
  {
   "cell_type": "code",
   "execution_count": 7,
   "metadata": {
    "pycharm": {
     "is_executing": true,
     "name": "#%%\n"
    }
   },
   "outputs": [],
   "source": [
    "import tensorflow as tf\n",
    "from tensorflow import keras\n",
    "\n",
    "tf.config.experimental.set_memory_growth(tf.config.get_visible_devices('GPU')[0], True)\n",
    "DROP_OUT = 4\n",
    "KERNEL_SIZE = 3\n",
    "CATEGORIES = len(df['category'].unique())\n",
    "model = keras.Sequential([\n",
    "    keras.layers.Reshape((-1,28,28,1)),\n",
    "    keras.layers.experimental.preprocessing.Rescaling(scale=1./255.),\n",
    "\n",
    "    keras.layers.Conv2D(56, kernel_size=KERNEL_SIZE, activation='relu'),\n",
    "    keras.layers.BatchNormalization(),\n",
    "    keras.layers.Dropout(0.1 * DROP_OUT),\n",
    "\n",
    "    keras.layers.Conv2D(56, kernel_size=KERNEL_SIZE, activation='relu'),\n",
    "    keras.layers.BatchNormalization(),\n",
    "    keras.layers.Dropout(0.1 * DROP_OUT),\n",
    "\n",
    "    keras.layers.Conv2D(56, kernel_size=KERNEL_SIZE, activation='relu'),\n",
    "    keras.layers.BatchNormalization(),\n",
    "    keras.layers.Dropout(0.1 * DROP_OUT),\n",
    "    \n",
    "    keras.layers.Conv2D(56, kernel_size=KERNEL_SIZE, activation='relu'),\n",
    "    keras.layers.BatchNormalization(),\n",
    "    keras.layers.Dropout(0.1 * DROP_OUT),\n",
    "\n",
    "    keras.layers.Conv2D(56, kernel_size=KERNEL_SIZE, activation='relu'),\n",
    "    keras.layers.BatchNormalization(),\n",
    "    keras.layers.Dropout(0.1 * DROP_OUT),\n",
    "        \n",
    "    keras.layers.Conv2D(56, kernel_size=KERNEL_SIZE, activation='relu'),\n",
    "    keras.layers.BatchNormalization(),\n",
    "    keras.layers.Dropout(0.1 * DROP_OUT),\n",
    "\n",
    "    keras.layers.Conv2D(56, kernel_size=KERNEL_SIZE, activation='relu'),\n",
    "    keras.layers.BatchNormalization(),\n",
    "    keras.layers.Dropout(0.1 * DROP_OUT),\n",
    "    \n",
    "    keras.layers.Flatten(),\n",
    "\n",
    "    keras.layers.Dense(CATEGORIES * 10, activation = \"relu\"),\n",
    "    keras.layers.BatchNormalization(),\n",
    "    keras.layers.Dropout(0.1 * DROP_OUT),\n",
    "    \n",
    "    keras.layers.Dense(CATEGORIES * 30, activation = \"relu\"),\n",
    "    keras.layers.BatchNormalization(),\n",
    "    keras.layers.Dropout(0.1 * DROP_OUT),\n",
    "    \n",
    "    keras.layers.Dense(CATEGORIES * 30, activation = \"relu\"),\n",
    "    keras.layers.BatchNormalization(),\n",
    "    keras.layers.Dropout(0.1 * DROP_OUT),\n",
    "\n",
    "    keras.layers.Dense(CATEGORIES, activation='softmax')\n",
    "])\n",
    "model.compile(optimizer='adam',\n",
    "              loss='sparse_categorical_crossentropy',\n",
    "              metrics=['accuracy'])"
   ]
  },
  {
   "cell_type": "code",
   "execution_count": 8,
   "metadata": {},
   "outputs": [],
   "source": [
    "file = 'F:\\\\doodles\\\\dump\\\\dump'\n",
    "model = keras.models.load_model(file)\n",
    "class_weights = None\n",
    "reports = []\n",
    "hists = []"
   ]
  },
  {
   "cell_type": "code",
   "execution_count": 2,
   "metadata": {},
   "outputs": [],
   "source": [
    "from sklearn.metrics import classification_report\n",
    "import gc\n",
    "\n",
    "def free(to_erase):\n",
    "    for obj in to_erase:\n",
    "        del(obj)\n",
    "    gc.collect()\n",
    "    \n",
    "def load_val_data(encoder):\n",
    "    df = pd.read_csv('F:\\\\doodles\\\\bucket_249.csv')\n",
    "    df.drop(columns=['Unnamed: 0'], inplace=True)\n",
    "    df[\"category_enc\"] = encoder.transform(df['category'])\n",
    "    y = df['category_enc']\n",
    "    to_drop = ['category', 'category_enc']\n",
    "    return (df.drop(columns=to_drop), y)\n",
    "    \n",
    "def load_data(i, encoder, pattern ='F:\\\\doodles\\\\bucket_{}.csv', test_size = 0.2):\n",
    "    df = pd.read_csv(pattern.format(str(i)))\n",
    "    df.drop(columns=['Unnamed: 0'], inplace= True)\n",
    "    df[\"category_enc\"] = encoder.transform(df['category'])\n",
    "    y = df['category_enc']\n",
    "    to_drop = ['category', 'category_enc']\n",
    "    return train_test_split(df.drop(columns=to_drop), y, test_size=test_size)\n",
    "\n",
    "def get_report(model, encoder):\n",
    "    X_test, y_test = load_val_data(le)\n",
    "    pred = model.predict(X_test)\n",
    "    y_pred = [*map(lambda x: np.argmax(x), pred)]\n",
    "    return pd.DataFrame.from_dict(classification_report(y_test, y_pred, target_names=le.classes_, output_dict=True)).T\n",
    "\n",
    "def get_weight(value, mean, max_weight):\n",
    "    value = mean / value ** 7\n",
    "    return 1 if value <=1 else max_weight if value >= max_weight else value\n",
    "\n",
    "def get_weights(model, encoder, max_weight=5, metric='f1-score', report = None):\n",
    "    if report is None:\n",
    "        report = get_report(model, encoder)\n",
    "    mean = report[metric].mean()\n",
    "    return dict((class_, get_weight(report.loc[[class_]][metric][0], mean, max_weight)) for class_ in encoder.classes_)"
   ]
  },
  {
   "cell_type": "code",
   "execution_count": null,
   "metadata": {
    "pycharm": {
     "name": "#%%\n"
    }
   },
   "outputs": [
    {
     "name": "stderr",
     "output_type": "stream",
     "text": [
      "\r",
      "  0%|          | 0/154 [00:00<?, ?it/s]"
     ]
    },
    {
     "name": "stdout",
     "output_type": "stream",
     "text": [
      "Epoch 1/8\n",
      "397/397 [==============================] - 42s 106ms/step - loss: 1.2101 - accuracy: 0.6956 - val_loss: 1.0171 - val_accuracy: 0.7380\n",
      "Epoch 2/8\n",
      "397/397 [==============================] - 42s 106ms/step - loss: 1.1297 - accuracy: 0.7118 - val_loss: 1.0095 - val_accuracy: 0.7411\n",
      "Epoch 3/8\n",
      "397/397 [==============================] - 42s 106ms/step - loss: 1.0718 - accuracy: 0.7230 - val_loss: 1.0151 - val_accuracy: 0.7427\n",
      "Epoch 4/8\n",
      "397/397 [==============================] - 42s 106ms/step - loss: 1.0224 - accuracy: 0.7327 - val_loss: 1.0246 - val_accuracy: 0.7405\n",
      "Epoch 5/8\n",
      "397/397 [==============================] - 42s 106ms/step - loss: 0.9714 - accuracy: 0.7416 - val_loss: 1.0189 - val_accuracy: 0.7424\n",
      "Epoch 6/8\n",
      "397/397 [==============================] - 42s 106ms/step - loss: 0.9246 - accuracy: 0.7509 - val_loss: 1.0381 - val_accuracy: 0.7398\n",
      "Epoch 7/8\n",
      "397/397 [==============================] - 42s 106ms/step - loss: 0.8772 - accuracy: 0.7610 - val_loss: 1.0573 - val_accuracy: 0.7390\n",
      "Epoch 8/8\n",
      "397/397 [==============================] - 42s 106ms/step - loss: 0.8328 - accuracy: 0.7703 - val_loss: 1.0833 - val_accuracy: 0.7340\n"
     ]
    },
    {
     "name": "stderr",
     "output_type": "stream",
     "text": [
      "\r",
      "  1%|          | 1/154 [06:18<16:04:28, 378.22s/it]"
     ]
    },
    {
     "name": "stdout",
     "output_type": "stream",
     "text": [
      "Epoch 1/8\n",
      "397/397 [==============================] - 42s 106ms/step - loss: 1.2674 - accuracy: 0.6875 - val_loss: 1.0151 - val_accuracy: 0.7409\n",
      "Epoch 2/8\n",
      "397/397 [==============================] - 42s 105ms/step - loss: 1.1458 - accuracy: 0.7089 - val_loss: 1.0219 - val_accuracy: 0.7405\n",
      "Epoch 3/8\n",
      "397/397 [==============================] - 42s 105ms/step - loss: 1.0854 - accuracy: 0.7197 - val_loss: 1.0227 - val_accuracy: 0.7403\n",
      "Epoch 4/8\n",
      "397/397 [==============================] - 42s 105ms/step - loss: 1.0324 - accuracy: 0.7296 - val_loss: 1.0429 - val_accuracy: 0.7371\n",
      "Epoch 5/8\n",
      "397/397 [==============================] - 42s 105ms/step - loss: 0.9857 - accuracy: 0.7393 - val_loss: 1.0369 - val_accuracy: 0.7365\n",
      "Epoch 6/8\n",
      "397/397 [==============================] - 42s 105ms/step - loss: 0.9387 - accuracy: 0.7483 - val_loss: 1.0502 - val_accuracy: 0.7396\n",
      "Epoch 7/8\n",
      "397/397 [==============================] - 42s 105ms/step - loss: 0.8927 - accuracy: 0.7570 - val_loss: 1.0650 - val_accuracy: 0.7359\n",
      "Epoch 8/8\n",
      "397/397 [==============================] - 42s 105ms/step - loss: 0.8474 - accuracy: 0.7663 - val_loss: 1.0774 - val_accuracy: 0.7367\n"
     ]
    },
    {
     "name": "stderr",
     "output_type": "stream",
     "text": [
      "\r",
      "  1%|▏         | 2/154 [12:33<15:53:07, 376.23s/it]"
     ]
    },
    {
     "name": "stdout",
     "output_type": "stream",
     "text": [
      "Epoch 1/8\n",
      "397/397 [==============================] - 42s 105ms/step - loss: 1.2805 - accuracy: 0.6848 - val_loss: 1.0615 - val_accuracy: 0.7366\n",
      "Epoch 2/8\n",
      "397/397 [==============================] - 42s 105ms/step - loss: 1.1560 - accuracy: 0.7060 - val_loss: 1.0455 - val_accuracy: 0.7362\n",
      "Epoch 3/8\n",
      "397/397 [==============================] - 42s 105ms/step - loss: 1.0947 - accuracy: 0.7178 - val_loss: 1.0381 - val_accuracy: 0.7382\n",
      "Epoch 4/8\n",
      "397/397 [==============================] - 42s 105ms/step - loss: 1.0431 - accuracy: 0.7275 - val_loss: 1.0562 - val_accuracy: 0.7354\n",
      "Epoch 5/8\n",
      "397/397 [==============================] - 42s 105ms/step - loss: 0.9974 - accuracy: 0.7368 - val_loss: 1.0635 - val_accuracy: 0.7327\n",
      "Epoch 6/8\n",
      "397/397 [==============================] - 42s 105ms/step - loss: 0.9431 - accuracy: 0.7476 - val_loss: 1.0848 - val_accuracy: 0.7349\n",
      "Epoch 7/8\n",
      "397/397 [==============================] - 42s 105ms/step - loss: 0.8950 - accuracy: 0.7583 - val_loss: 1.0878 - val_accuracy: 0.7350\n",
      "Epoch 8/8\n",
      "397/397 [==============================] - 42s 105ms/step - loss: 0.8523 - accuracy: 0.7664 - val_loss: 1.1065 - val_accuracy: 0.7323\n"
     ]
    },
    {
     "name": "stderr",
     "output_type": "stream",
     "text": [
      "\r",
      "  2%|▏         | 3/154 [18:47<15:44:25, 375.27s/it]"
     ]
    },
    {
     "name": "stdout",
     "output_type": "stream",
     "text": [
      "Epoch 1/8\n",
      "397/397 [==============================] - 42s 105ms/step - loss: 1.2729 - accuracy: 0.6865 - val_loss: 1.0397 - val_accuracy: 0.7380\n",
      "Epoch 2/8\n",
      "397/397 [==============================] - 42s 105ms/step - loss: 1.1480 - accuracy: 0.7089 - val_loss: 1.0275 - val_accuracy: 0.7400\n",
      "Epoch 3/8\n",
      "397/397 [==============================] - 42s 105ms/step - loss: 1.0859 - accuracy: 0.7216 - val_loss: 1.0319 - val_accuracy: 0.7400\n",
      "Epoch 4/8\n",
      "397/397 [==============================] - 42s 105ms/step - loss: 1.0326 - accuracy: 0.7311 - val_loss: 1.0389 - val_accuracy: 0.7406\n",
      "Epoch 5/8\n",
      "397/397 [==============================] - 42s 105ms/step - loss: 0.9816 - accuracy: 0.7421 - val_loss: 1.0518 - val_accuracy: 0.7384\n",
      "Epoch 6/8\n",
      "397/397 [==============================] - 42s 105ms/step - loss: 0.9322 - accuracy: 0.7514 - val_loss: 1.0506 - val_accuracy: 0.7420\n",
      "Epoch 7/8\n",
      "397/397 [==============================] - 42s 105ms/step - loss: 0.8902 - accuracy: 0.7589 - val_loss: 1.0723 - val_accuracy: 0.7384\n",
      "Epoch 8/8\n",
      "397/397 [==============================] - 42s 105ms/step - loss: 0.8462 - accuracy: 0.7675 - val_loss: 1.0937 - val_accuracy: 0.7367\n"
     ]
    },
    {
     "name": "stderr",
     "output_type": "stream",
     "text": [
      "\r",
      "  3%|▎         | 4/154 [25:01<15:37:04, 374.83s/it]"
     ]
    },
    {
     "name": "stdout",
     "output_type": "stream",
     "text": [
      "Epoch 1/8\n",
      "397/397 [==============================] - 42s 105ms/step - loss: 1.2822 - accuracy: 0.6837 - val_loss: 1.0275 - val_accuracy: 0.7374\n",
      "Epoch 2/8\n",
      "397/397 [==============================] - 42s 105ms/step - loss: 1.1542 - accuracy: 0.7063 - val_loss: 1.0221 - val_accuracy: 0.7392\n",
      "Epoch 3/8\n",
      "397/397 [==============================] - 42s 105ms/step - loss: 1.0934 - accuracy: 0.7185 - val_loss: 1.0326 - val_accuracy: 0.7371\n",
      "Epoch 4/8\n",
      "397/397 [==============================] - 42s 105ms/step - loss: 1.0384 - accuracy: 0.7282 - val_loss: 1.0388 - val_accuracy: 0.7365\n",
      "Epoch 5/8\n",
      "397/397 [==============================] - 42s 105ms/step - loss: 0.9881 - accuracy: 0.7389 - val_loss: 1.0562 - val_accuracy: 0.7334\n",
      "Epoch 6/8\n",
      "397/397 [==============================] - 42s 105ms/step - loss: 0.9397 - accuracy: 0.7478 - val_loss: 1.0539 - val_accuracy: 0.7364\n",
      "Epoch 7/8\n",
      "397/397 [==============================] - 42s 105ms/step - loss: 0.8977 - accuracy: 0.7569 - val_loss: 1.0645 - val_accuracy: 0.7342\n",
      "Epoch 8/8\n",
      "397/397 [==============================] - 42s 105ms/step - loss: 0.8510 - accuracy: 0.7664 - val_loss: 1.1037 - val_accuracy: 0.7296\n",
      "INFO:tensorflow:Assets written to: F:\\doodles\\dump\\assets\n"
     ]
    },
    {
     "name": "stderr",
     "output_type": "stream",
     "text": [
      "\r",
      "  3%|▎         | 5/154 [31:24<15:38:38, 377.98s/it]"
     ]
    },
    {
     "name": "stdout",
     "output_type": "stream",
     "text": [
      "Epoch 1/8\n",
      "397/397 [==============================] - 42s 105ms/step - loss: 1.2788 - accuracy: 0.6855 - val_loss: 1.0422 - val_accuracy: 0.7369\n",
      "Epoch 2/8\n",
      "397/397 [==============================] - 42s 105ms/step - loss: 1.1554 - accuracy: 0.7063 - val_loss: 1.0532 - val_accuracy: 0.7355\n",
      "Epoch 3/8\n",
      "397/397 [==============================] - 42s 105ms/step - loss: 1.0938 - accuracy: 0.7184 - val_loss: 1.0343 - val_accuracy: 0.7390\n",
      "Epoch 4/8\n",
      "397/397 [==============================] - 42s 105ms/step - loss: 1.0381 - accuracy: 0.7309 - val_loss: 1.0432 - val_accuracy: 0.7362\n",
      "Epoch 5/8\n",
      "397/397 [==============================] - 42s 105ms/step - loss: 0.9911 - accuracy: 0.7389 - val_loss: 1.0626 - val_accuracy: 0.7338\n",
      "Epoch 6/8\n",
      "397/397 [==============================] - 42s 105ms/step - loss: 0.9417 - accuracy: 0.7479 - val_loss: 1.0694 - val_accuracy: 0.7346\n",
      "Epoch 7/8\n",
      "397/397 [==============================] - 42s 105ms/step - loss: 0.8970 - accuracy: 0.7566 - val_loss: 1.0854 - val_accuracy: 0.7327\n",
      "Epoch 8/8\n",
      "397/397 [==============================] - 42s 105ms/step - loss: 0.8485 - accuracy: 0.7682 - val_loss: 1.1108 - val_accuracy: 0.7297\n"
     ]
    },
    {
     "name": "stderr",
     "output_type": "stream",
     "text": [
      "\r",
      "  4%|▍         | 6/154 [37:38<15:28:41, 376.50s/it]"
     ]
    },
    {
     "name": "stdout",
     "output_type": "stream",
     "text": [
      "Epoch 1/8\n",
      "397/397 [==============================] - 42s 105ms/step - loss: 1.2873 - accuracy: 0.6837 - val_loss: 1.0320 - val_accuracy: 0.7380\n",
      "Epoch 2/8\n",
      "397/397 [==============================] - 42s 105ms/step - loss: 1.1620 - accuracy: 0.7060 - val_loss: 1.0174 - val_accuracy: 0.7368\n",
      "Epoch 3/8\n",
      "397/397 [==============================] - 42s 105ms/step - loss: 1.0982 - accuracy: 0.7186 - val_loss: 1.0299 - val_accuracy: 0.7349\n",
      "Epoch 4/8\n",
      "397/397 [==============================] - 42s 105ms/step - loss: 1.0427 - accuracy: 0.7284 - val_loss: 1.0345 - val_accuracy: 0.7362\n",
      "Epoch 5/8\n",
      "397/397 [==============================] - 42s 105ms/step - loss: 0.9936 - accuracy: 0.7378 - val_loss: 1.0538 - val_accuracy: 0.7334\n",
      "Epoch 6/8\n",
      "397/397 [==============================] - 42s 105ms/step - loss: 0.9408 - accuracy: 0.7490 - val_loss: 1.0549 - val_accuracy: 0.7366\n",
      "Epoch 7/8\n",
      "397/397 [==============================] - 42s 105ms/step - loss: 0.8942 - accuracy: 0.7578 - val_loss: 1.0650 - val_accuracy: 0.7370\n",
      "Epoch 8/8\n",
      "397/397 [==============================] - 42s 105ms/step - loss: 0.8581 - accuracy: 0.7647 - val_loss: 1.0869 - val_accuracy: 0.7324\n"
     ]
    },
    {
     "name": "stderr",
     "output_type": "stream",
     "text": [
      "\r",
      "  5%|▍         | 7/154 [43:52<15:20:26, 375.69s/it]"
     ]
    },
    {
     "name": "stdout",
     "output_type": "stream",
     "text": [
      "Epoch 1/8\n",
      "397/397 [==============================] - 42s 105ms/step - loss: 1.2801 - accuracy: 0.6848 - val_loss: 1.0354 - val_accuracy: 0.7388\n",
      "Epoch 2/8\n",
      "397/397 [==============================] - 42s 105ms/step - loss: 1.1584 - accuracy: 0.7066 - val_loss: 1.0316 - val_accuracy: 0.7390\n",
      "Epoch 3/8\n",
      "397/397 [==============================] - 42s 105ms/step - loss: 1.0919 - accuracy: 0.7197 - val_loss: 1.0252 - val_accuracy: 0.7431\n",
      "Epoch 4/8\n",
      "397/397 [==============================] - 42s 105ms/step - loss: 1.0429 - accuracy: 0.7277 - val_loss: 1.0424 - val_accuracy: 0.7399\n",
      "Epoch 5/8\n",
      "397/397 [==============================] - 42s 105ms/step - loss: 0.9911 - accuracy: 0.7402 - val_loss: 1.0545 - val_accuracy: 0.7376\n",
      "Epoch 6/8\n",
      "397/397 [==============================] - 42s 105ms/step - loss: 0.9418 - accuracy: 0.7485 - val_loss: 1.0644 - val_accuracy: 0.7349\n",
      "Epoch 7/8\n",
      "397/397 [==============================] - 42s 105ms/step - loss: 0.8958 - accuracy: 0.7575 - val_loss: 1.0863 - val_accuracy: 0.7348\n",
      "Epoch 8/8\n",
      "397/397 [==============================] - 42s 105ms/step - loss: 0.8470 - accuracy: 0.7679 - val_loss: 1.0952 - val_accuracy: 0.7346\n"
     ]
    },
    {
     "name": "stderr",
     "output_type": "stream",
     "text": [
      "\r",
      "  5%|▌         | 8/154 [50:06<15:12:34, 375.03s/it]"
     ]
    },
    {
     "name": "stdout",
     "output_type": "stream",
     "text": [
      "Epoch 1/8\n",
      "397/397 [==============================] - 42s 105ms/step - loss: 1.2853 - accuracy: 0.6830 - val_loss: 1.0436 - val_accuracy: 0.7338\n",
      "Epoch 2/8\n",
      "397/397 [==============================] - 41s 104ms/step - loss: 1.1608 - accuracy: 0.7061 - val_loss: 1.0325 - val_accuracy: 0.7368\n",
      "Epoch 3/8\n",
      "397/397 [==============================] - 42s 105ms/step - loss: 1.0960 - accuracy: 0.7183 - val_loss: 1.0379 - val_accuracy: 0.7367\n",
      "Epoch 4/8\n",
      "397/397 [==============================] - 42s 105ms/step - loss: 1.0435 - accuracy: 0.7281 - val_loss: 1.0404 - val_accuracy: 0.7356\n",
      "Epoch 5/8\n",
      "397/397 [==============================] - 41s 105ms/step - loss: 0.9934 - accuracy: 0.7372 - val_loss: 1.0555 - val_accuracy: 0.7359\n",
      "Epoch 6/8\n",
      "397/397 [==============================] - 42s 105ms/step - loss: 0.9466 - accuracy: 0.7472 - val_loss: 1.0695 - val_accuracy: 0.7331\n",
      "Epoch 7/8\n",
      "397/397 [==============================] - 42s 105ms/step - loss: 0.8972 - accuracy: 0.7579 - val_loss: 1.0793 - val_accuracy: 0.7347\n",
      "Epoch 8/8\n",
      "397/397 [==============================] - 42s 105ms/step - loss: 0.8486 - accuracy: 0.7669 - val_loss: 1.0997 - val_accuracy: 0.7315\n"
     ]
    },
    {
     "name": "stderr",
     "output_type": "stream",
     "text": [
      "\r",
      "  6%|▌         | 9/154 [56:19<15:04:53, 374.44s/it]"
     ]
    },
    {
     "name": "stdout",
     "output_type": "stream",
     "text": [
      "Epoch 1/8\n",
      "397/397 [==============================] - 42s 105ms/step - loss: 1.2830 - accuracy: 0.6831 - val_loss: 1.0310 - val_accuracy: 0.7363\n",
      "Epoch 2/8\n",
      "397/397 [==============================] - 41s 105ms/step - loss: 1.1596 - accuracy: 0.7059 - val_loss: 1.0307 - val_accuracy: 0.7375\n",
      "Epoch 3/8\n",
      "397/397 [==============================] - 42s 105ms/step - loss: 1.0986 - accuracy: 0.7175 - val_loss: 1.0388 - val_accuracy: 0.7362\n",
      "Epoch 4/8\n",
      "397/397 [==============================] - 42s 105ms/step - loss: 1.0478 - accuracy: 0.7277 - val_loss: 1.0333 - val_accuracy: 0.7384\n",
      "Epoch 5/8\n",
      "397/397 [==============================] - 42s 105ms/step - loss: 0.9945 - accuracy: 0.7371 - val_loss: 1.0430 - val_accuracy: 0.7371\n",
      "Epoch 6/8\n",
      "397/397 [==============================] - 42s 105ms/step - loss: 0.9470 - accuracy: 0.7466 - val_loss: 1.0565 - val_accuracy: 0.7378\n",
      "Epoch 7/8\n",
      "397/397 [==============================] - 42s 105ms/step - loss: 0.9043 - accuracy: 0.7555 - val_loss: 1.0799 - val_accuracy: 0.7328\n",
      "Epoch 8/8\n",
      "397/397 [==============================] - 42s 105ms/step - loss: 0.8571 - accuracy: 0.7652 - val_loss: 1.0844 - val_accuracy: 0.7362\n"
     ]
    },
    {
     "name": "stderr",
     "output_type": "stream",
     "text": [
      "\r",
      "  6%|▋         | 10/154 [1:02:32<14:57:48, 374.09s/it]"
     ]
    },
    {
     "name": "stdout",
     "output_type": "stream",
     "text": [
      "Epoch 1/8\n",
      "397/397 [==============================] - 42s 105ms/step - loss: 1.3239 - accuracy: 0.6784 - val_loss: 1.1086 - val_accuracy: 0.7266\n",
      "Epoch 2/8\n",
      "397/397 [==============================] - 42s 105ms/step - loss: 1.1959 - accuracy: 0.7003 - val_loss: 1.0876 - val_accuracy: 0.7326\n",
      "Epoch 3/8\n",
      "397/397 [==============================] - 42s 105ms/step - loss: 1.1396 - accuracy: 0.7116 - val_loss: 1.0824 - val_accuracy: 0.7317\n",
      "Epoch 4/8\n",
      "397/397 [==============================] - 42s 105ms/step - loss: 1.0870 - accuracy: 0.7211 - val_loss: 1.1034 - val_accuracy: 0.7298\n",
      "Epoch 5/8\n",
      "397/397 [==============================] - 42s 105ms/step - loss: 1.0379 - accuracy: 0.7296 - val_loss: 1.1123 - val_accuracy: 0.7289\n",
      "Epoch 6/8\n",
      "397/397 [==============================] - 42s 105ms/step - loss: 0.9898 - accuracy: 0.7402 - val_loss: 1.1123 - val_accuracy: 0.7299\n",
      "Epoch 7/8\n",
      "397/397 [==============================] - 42s 105ms/step - loss: 0.9464 - accuracy: 0.7491 - val_loss: 1.1548 - val_accuracy: 0.7229\n",
      "Epoch 8/8\n",
      "397/397 [==============================] - 42s 105ms/step - loss: 0.8967 - accuracy: 0.7594 - val_loss: 1.1736 - val_accuracy: 0.7224\n"
     ]
    },
    {
     "name": "stderr",
     "output_type": "stream",
     "text": [
      "\r",
      "  7%|▋         | 11/154 [1:08:45<14:50:58, 373.84s/it]"
     ]
    },
    {
     "name": "stdout",
     "output_type": "stream",
     "text": [
      "Epoch 1/8\n",
      "397/397 [==============================] - 44s 112ms/step - loss: 1.3213 - accuracy: 0.6794 - val_loss: 1.1005 - val_accuracy: 0.7251\n",
      "Epoch 2/8\n",
      "397/397 [==============================] - 42s 105ms/step - loss: 1.1989 - accuracy: 0.7000 - val_loss: 1.0993 - val_accuracy: 0.7265\n",
      "Epoch 3/8\n",
      "397/397 [==============================] - 41s 105ms/step - loss: 1.1394 - accuracy: 0.7110 - val_loss: 1.1018 - val_accuracy: 0.7253\n",
      "Epoch 4/8\n",
      "397/397 [==============================] - 41s 104ms/step - loss: 1.0888 - accuracy: 0.7218 - val_loss: 1.1074 - val_accuracy: 0.7231\n",
      "Epoch 5/8\n",
      "397/397 [==============================] - 42s 105ms/step - loss: 1.0405 - accuracy: 0.7293 - val_loss: 1.1233 - val_accuracy: 0.7228\n",
      "Epoch 6/8\n",
      "397/397 [==============================] - 41s 104ms/step - loss: 0.9890 - accuracy: 0.7403 - val_loss: 1.1275 - val_accuracy: 0.7232\n",
      "Epoch 7/8\n",
      "397/397 [==============================] - 42s 105ms/step - loss: 0.9434 - accuracy: 0.7477 - val_loss: 1.1606 - val_accuracy: 0.7204\n",
      "Epoch 8/8\n",
      "397/397 [==============================] - 42s 105ms/step - loss: 0.8989 - accuracy: 0.7572 - val_loss: 1.1734 - val_accuracy: 0.7210\n"
     ]
    },
    {
     "name": "stderr",
     "output_type": "stream",
     "text": [
      "\r",
      "  8%|▊         | 12/154 [1:15:02<14:46:35, 374.62s/it]"
     ]
    },
    {
     "name": "stdout",
     "output_type": "stream",
     "text": [
      "Epoch 1/8\n",
      "397/397 [==============================] - 44s 111ms/step - loss: 1.3108 - accuracy: 0.6796 - val_loss: 1.0826 - val_accuracy: 0.7293\n",
      "Epoch 2/8\n",
      "397/397 [==============================] - 41s 104ms/step - loss: 1.1973 - accuracy: 0.6996 - val_loss: 1.0792 - val_accuracy: 0.7291\n",
      "Epoch 3/8\n",
      "397/397 [==============================] - 42s 105ms/step - loss: 1.1347 - accuracy: 0.7120 - val_loss: 1.0814 - val_accuracy: 0.7308\n",
      "Epoch 4/8\n",
      "397/397 [==============================] - 42s 105ms/step - loss: 1.0832 - accuracy: 0.7214 - val_loss: 1.0859 - val_accuracy: 0.7294\n",
      "Epoch 5/8\n",
      "397/397 [==============================] - 42s 105ms/step - loss: 1.0383 - accuracy: 0.7283 - val_loss: 1.0980 - val_accuracy: 0.7316\n",
      "Epoch 6/8\n",
      "397/397 [==============================] - 42s 105ms/step - loss: 0.9874 - accuracy: 0.7382 - val_loss: 1.1151 - val_accuracy: 0.7279\n",
      "Epoch 7/8\n",
      "397/397 [==============================] - 42s 105ms/step - loss: 0.9393 - accuracy: 0.7498 - val_loss: 1.1185 - val_accuracy: 0.7279\n",
      "Epoch 8/8\n",
      "397/397 [==============================] - 42s 105ms/step - loss: 0.8955 - accuracy: 0.7576 - val_loss: 1.1416 - val_accuracy: 0.7264\n"
     ]
    },
    {
     "name": "stderr",
     "output_type": "stream",
     "text": [
      "\r",
      "  8%|▊         | 13/154 [1:21:18<14:41:30, 375.11s/it]"
     ]
    },
    {
     "name": "stdout",
     "output_type": "stream",
     "text": [
      "Epoch 1/8\n",
      "397/397 [==============================] - 44s 111ms/step - loss: 1.3160 - accuracy: 0.6789 - val_loss: 1.1025 - val_accuracy: 0.7263\n",
      "Epoch 2/8\n",
      "397/397 [==============================] - 41s 105ms/step - loss: 1.1962 - accuracy: 0.6993 - val_loss: 1.0806 - val_accuracy: 0.7306\n",
      "Epoch 3/8\n",
      "397/397 [==============================] - 42s 105ms/step - loss: 1.1402 - accuracy: 0.7115 - val_loss: 1.0817 - val_accuracy: 0.7319\n",
      "Epoch 4/8\n",
      "397/397 [==============================] - 42s 105ms/step - loss: 1.0872 - accuracy: 0.7198 - val_loss: 1.1027 - val_accuracy: 0.7255\n",
      "Epoch 5/8\n",
      "397/397 [==============================] - 42s 105ms/step - loss: 1.0383 - accuracy: 0.7314 - val_loss: 1.1029 - val_accuracy: 0.7269\n",
      "Epoch 6/8\n",
      "397/397 [==============================] - 42s 105ms/step - loss: 0.9913 - accuracy: 0.7393 - val_loss: 1.1176 - val_accuracy: 0.7270\n",
      "Epoch 7/8\n",
      "397/397 [==============================] - 42s 105ms/step - loss: 0.9472 - accuracy: 0.7471 - val_loss: 1.1268 - val_accuracy: 0.7271\n",
      "Epoch 8/8\n",
      "397/397 [==============================] - 42s 105ms/step - loss: 0.8976 - accuracy: 0.7576 - val_loss: 1.1582 - val_accuracy: 0.7256\n"
     ]
    },
    {
     "name": "stderr",
     "output_type": "stream",
     "text": [
      "\r",
      "  9%|▉         | 14/154 [1:27:35<14:36:16, 375.55s/it]"
     ]
    },
    {
     "name": "stdout",
     "output_type": "stream",
     "text": [
      "Epoch 1/8\n",
      "397/397 [==============================] - 43s 107ms/step - loss: 1.3102 - accuracy: 0.6794 - val_loss: 1.0543 - val_accuracy: 0.7352\n",
      "Epoch 2/8\n",
      "397/397 [==============================] - 42s 105ms/step - loss: 1.1983 - accuracy: 0.6983 - val_loss: 1.0535 - val_accuracy: 0.7350\n",
      "Epoch 3/8\n",
      "397/397 [==============================] - 42s 105ms/step - loss: 1.1378 - accuracy: 0.7095 - val_loss: 1.0548 - val_accuracy: 0.7344\n",
      "Epoch 4/8\n",
      "397/397 [==============================] - 42s 105ms/step - loss: 1.0901 - accuracy: 0.7212 - val_loss: 1.0692 - val_accuracy: 0.7324\n",
      "Epoch 5/8\n",
      "397/397 [==============================] - 42s 105ms/step - loss: 1.0411 - accuracy: 0.7293 - val_loss: 1.0767 - val_accuracy: 0.7336\n",
      "Epoch 6/8\n",
      "397/397 [==============================] - 42s 105ms/step - loss: 0.9900 - accuracy: 0.7381 - val_loss: 1.1016 - val_accuracy: 0.7307\n",
      "Epoch 7/8\n",
      "397/397 [==============================] - 42s 105ms/step - loss: 0.9441 - accuracy: 0.7473 - val_loss: 1.1067 - val_accuracy: 0.7301\n",
      "Epoch 8/8\n",
      "397/397 [==============================] - 42s 105ms/step - loss: 0.9010 - accuracy: 0.7561 - val_loss: 1.1300 - val_accuracy: 0.7278\n",
      "INFO:tensorflow:Assets written to: F:\\doodles\\dump\\assets\n"
     ]
    },
    {
     "name": "stderr",
     "output_type": "stream",
     "text": [
      "\r",
      " 10%|▉         | 15/154 [1:34:00<14:36:34, 378.38s/it]"
     ]
    },
    {
     "name": "stdout",
     "output_type": "stream",
     "text": [
      "Epoch 1/8\n",
      "397/397 [==============================] - 42s 105ms/step - loss: 1.3029 - accuracy: 0.6818 - val_loss: 1.0808 - val_accuracy: 0.7288\n",
      "Epoch 2/8\n",
      "397/397 [==============================] - 42s 105ms/step - loss: 1.1908 - accuracy: 0.7018 - val_loss: 1.0860 - val_accuracy: 0.7259\n",
      "Epoch 3/8\n",
      "397/397 [==============================] - 42s 105ms/step - loss: 1.1289 - accuracy: 0.7134 - val_loss: 1.0773 - val_accuracy: 0.7303\n",
      "Epoch 4/8\n",
      "397/397 [==============================] - 42s 105ms/step - loss: 1.0774 - accuracy: 0.7227 - val_loss: 1.0791 - val_accuracy: 0.7306\n",
      "Epoch 5/8\n",
      "397/397 [==============================] - 42s 105ms/step - loss: 1.0336 - accuracy: 0.7307 - val_loss: 1.0916 - val_accuracy: 0.7297\n",
      "Epoch 6/8\n",
      "397/397 [==============================] - 42s 105ms/step - loss: 0.9821 - accuracy: 0.7419 - val_loss: 1.1118 - val_accuracy: 0.7287\n",
      "Epoch 7/8\n",
      "397/397 [==============================] - 42s 105ms/step - loss: 0.9401 - accuracy: 0.7497 - val_loss: 1.1126 - val_accuracy: 0.7281\n",
      "Epoch 8/8\n",
      "397/397 [==============================] - 42s 105ms/step - loss: 0.8928 - accuracy: 0.7591 - val_loss: 1.1364 - val_accuracy: 0.7257\n"
     ]
    },
    {
     "name": "stderr",
     "output_type": "stream",
     "text": [
      "\r",
      " 10%|█         | 16/154 [1:40:13<14:26:50, 376.89s/it]"
     ]
    },
    {
     "name": "stdout",
     "output_type": "stream",
     "text": [
      "Epoch 1/8\n",
      "397/397 [==============================] - 44s 111ms/step - loss: 1.3016 - accuracy: 0.6815 - val_loss: 1.0876 - val_accuracy: 0.7307\n",
      "Epoch 2/8\n",
      "397/397 [==============================] - 42s 105ms/step - loss: 1.1869 - accuracy: 0.7006 - val_loss: 1.0871 - val_accuracy: 0.7324\n",
      "Epoch 3/8\n",
      "397/397 [==============================] - 42s 105ms/step - loss: 1.1297 - accuracy: 0.7124 - val_loss: 1.0888 - val_accuracy: 0.7326\n",
      "Epoch 4/8\n",
      "397/397 [==============================] - 42s 105ms/step - loss: 1.0740 - accuracy: 0.7220 - val_loss: 1.0952 - val_accuracy: 0.7303\n",
      "Epoch 5/8\n",
      "397/397 [==============================] - 42s 105ms/step - loss: 1.0313 - accuracy: 0.7328 - val_loss: 1.1089 - val_accuracy: 0.7303\n",
      "Epoch 6/8\n",
      "397/397 [==============================] - 42s 105ms/step - loss: 0.9825 - accuracy: 0.7415 - val_loss: 1.1259 - val_accuracy: 0.7267\n",
      "Epoch 7/8\n",
      "397/397 [==============================] - 42s 105ms/step - loss: 0.9350 - accuracy: 0.7507 - val_loss: 1.1357 - val_accuracy: 0.7267\n",
      "Epoch 8/8\n",
      "397/397 [==============================] - 42s 105ms/step - loss: 0.8943 - accuracy: 0.7578 - val_loss: 1.1460 - val_accuracy: 0.7280\n"
     ]
    },
    {
     "name": "stderr",
     "output_type": "stream",
     "text": [
      "\r",
      " 11%|█         | 17/154 [1:46:29<14:20:10, 376.72s/it]"
     ]
    },
    {
     "name": "stdout",
     "output_type": "stream",
     "text": [
      "Epoch 1/8\n",
      "397/397 [==============================] - 45s 114ms/step - loss: 1.2926 - accuracy: 0.6858 - val_loss: 1.0986 - val_accuracy: 0.7282\n",
      "Epoch 2/8\n",
      "397/397 [==============================] - 42s 105ms/step - loss: 1.1827 - accuracy: 0.7050 - val_loss: 1.1000 - val_accuracy: 0.7268\n",
      "Epoch 3/8\n",
      "397/397 [==============================] - 42s 105ms/step - loss: 1.1265 - accuracy: 0.7138 - val_loss: 1.0983 - val_accuracy: 0.7281\n",
      "Epoch 4/8\n",
      "397/397 [==============================] - 42s 105ms/step - loss: 1.0756 - accuracy: 0.7233 - val_loss: 1.1109 - val_accuracy: 0.7258\n",
      "Epoch 5/8\n",
      "397/397 [==============================] - 42s 105ms/step - loss: 1.0247 - accuracy: 0.7346 - val_loss: 1.1227 - val_accuracy: 0.7268\n",
      "Epoch 6/8\n",
      "397/397 [==============================] - 42s 105ms/step - loss: 0.9802 - accuracy: 0.7426 - val_loss: 1.1272 - val_accuracy: 0.7265\n",
      "Epoch 7/8\n",
      "397/397 [==============================] - 42s 105ms/step - loss: 0.9279 - accuracy: 0.7540 - val_loss: 1.1390 - val_accuracy: 0.7255\n",
      "Epoch 8/8\n",
      "397/397 [==============================] - 42s 105ms/step - loss: 0.8896 - accuracy: 0.7606 - val_loss: 1.1586 - val_accuracy: 0.7246\n"
     ]
    },
    {
     "name": "stderr",
     "output_type": "stream",
     "text": [
      "\r",
      " 12%|█▏        | 18/154 [1:52:47<14:14:15, 376.88s/it]"
     ]
    },
    {
     "name": "stdout",
     "output_type": "stream",
     "text": [
      "Epoch 1/8\n",
      "397/397 [==============================] - 45s 114ms/step - loss: 1.2976 - accuracy: 0.6815 - val_loss: 1.0556 - val_accuracy: 0.7364\n",
      "Epoch 2/8\n",
      "397/397 [==============================] - 42s 105ms/step - loss: 1.1824 - accuracy: 0.7017 - val_loss: 1.0586 - val_accuracy: 0.7354\n",
      "Epoch 3/8\n",
      "397/397 [==============================] - 42s 105ms/step - loss: 1.1208 - accuracy: 0.7138 - val_loss: 1.0523 - val_accuracy: 0.7379\n",
      "Epoch 4/8\n",
      "397/397 [==============================] - 42s 105ms/step - loss: 1.0696 - accuracy: 0.7242 - val_loss: 1.0760 - val_accuracy: 0.7324\n",
      "Epoch 5/8\n",
      "397/397 [==============================] - 42s 105ms/step - loss: 1.0252 - accuracy: 0.7323 - val_loss: 1.0682 - val_accuracy: 0.7353\n",
      "Epoch 6/8\n",
      "397/397 [==============================] - 42s 105ms/step - loss: 0.9783 - accuracy: 0.7421 - val_loss: 1.0921 - val_accuracy: 0.7363\n",
      "Epoch 7/8\n",
      "397/397 [==============================] - 42s 105ms/step - loss: 0.9343 - accuracy: 0.7500 - val_loss: 1.1155 - val_accuracy: 0.7320\n",
      "Epoch 8/8\n",
      "397/397 [==============================] - 42s 105ms/step - loss: 0.8855 - accuracy: 0.7598 - val_loss: 1.1094 - val_accuracy: 0.7346\n"
     ]
    },
    {
     "name": "stderr",
     "output_type": "stream",
     "text": [
      "\r",
      " 12%|█▏        | 19/154 [1:59:04<14:08:09, 376.96s/it]"
     ]
    },
    {
     "name": "stdout",
     "output_type": "stream",
     "text": [
      "Epoch 1/8\n",
      "397/397 [==============================] - 42s 105ms/step - loss: 1.3049 - accuracy: 0.6829 - val_loss: 1.0711 - val_accuracy: 0.7301\n",
      "Epoch 2/8\n",
      "397/397 [==============================] - 41s 105ms/step - loss: 1.1906 - accuracy: 0.7016 - val_loss: 1.0488 - val_accuracy: 0.7353\n",
      "Epoch 3/8\n",
      "397/397 [==============================] - 41s 105ms/step - loss: 1.1313 - accuracy: 0.7139 - val_loss: 1.0596 - val_accuracy: 0.7333\n",
      "Epoch 4/8\n",
      "397/397 [==============================] - 42s 105ms/step - loss: 1.0792 - accuracy: 0.7226 - val_loss: 1.0786 - val_accuracy: 0.7315\n",
      "Epoch 5/8\n",
      "397/397 [==============================] - 42s 105ms/step - loss: 1.0354 - accuracy: 0.7337 - val_loss: 1.0824 - val_accuracy: 0.7314\n",
      "Epoch 6/8\n",
      "397/397 [==============================] - 42s 105ms/step - loss: 0.9867 - accuracy: 0.7409 - val_loss: 1.0905 - val_accuracy: 0.7296\n",
      "Epoch 7/8\n",
      "397/397 [==============================] - 42s 105ms/step - loss: 0.9413 - accuracy: 0.7499 - val_loss: 1.1076 - val_accuracy: 0.7309\n",
      "Epoch 8/8\n",
      "397/397 [==============================] - 41s 105ms/step - loss: 0.8949 - accuracy: 0.7600 - val_loss: 1.1477 - val_accuracy: 0.7236\n"
     ]
    },
    {
     "name": "stderr",
     "output_type": "stream",
     "text": [
      "\r",
      " 13%|█▎        | 20/154 [2:05:17<13:59:38, 375.96s/it]"
     ]
    },
    {
     "name": "stdout",
     "output_type": "stream",
     "text": [
      "Epoch 1/8\n",
      "397/397 [==============================] - 42s 105ms/step - loss: 1.3084 - accuracy: 0.6808 - val_loss: 1.0772 - val_accuracy: 0.7316\n",
      "Epoch 2/8\n",
      "397/397 [==============================] - 41s 104ms/step - loss: 1.1940 - accuracy: 0.7010 - val_loss: 1.0703 - val_accuracy: 0.7310\n",
      "Epoch 3/8\n",
      "397/397 [==============================] - 42s 105ms/step - loss: 1.1328 - accuracy: 0.7134 - val_loss: 1.0710 - val_accuracy: 0.7332\n",
      "Epoch 4/8\n",
      "397/397 [==============================] - 42s 105ms/step - loss: 1.0797 - accuracy: 0.7226 - val_loss: 1.0635 - val_accuracy: 0.7365\n",
      "Epoch 5/8\n",
      "397/397 [==============================] - 42s 105ms/step - loss: 1.0322 - accuracy: 0.7315 - val_loss: 1.0820 - val_accuracy: 0.7325\n",
      "Epoch 6/8\n",
      "397/397 [==============================] - 42s 105ms/step - loss: 0.9900 - accuracy: 0.7392 - val_loss: 1.0967 - val_accuracy: 0.7326\n",
      "Epoch 7/8\n",
      "397/397 [==============================] - 41s 105ms/step - loss: 0.9432 - accuracy: 0.7483 - val_loss: 1.1241 - val_accuracy: 0.7278\n",
      "Epoch 8/8\n",
      "397/397 [==============================] - 41s 105ms/step - loss: 0.8986 - accuracy: 0.7577 - val_loss: 1.1272 - val_accuracy: 0.7290\n"
     ]
    },
    {
     "name": "stderr",
     "output_type": "stream",
     "text": [
      "\r",
      " 14%|█▎        | 21/154 [2:11:31<13:51:46, 375.24s/it]"
     ]
    },
    {
     "name": "stdout",
     "output_type": "stream",
     "text": [
      "Epoch 1/8\n",
      "397/397 [==============================] - 42s 105ms/step - loss: 1.2961 - accuracy: 0.6841 - val_loss: 1.0681 - val_accuracy: 0.7318\n",
      "Epoch 2/8\n",
      "397/397 [==============================] - 41s 104ms/step - loss: 1.1851 - accuracy: 0.7038 - val_loss: 1.0663 - val_accuracy: 0.7344\n",
      "Epoch 3/8\n",
      "397/397 [==============================] - 42s 105ms/step - loss: 1.1308 - accuracy: 0.7129 - val_loss: 1.0723 - val_accuracy: 0.7338\n",
      "Epoch 4/8\n",
      "397/397 [==============================] - 42s 105ms/step - loss: 1.0768 - accuracy: 0.7227 - val_loss: 1.0851 - val_accuracy: 0.7309\n",
      "Epoch 5/8\n",
      "397/397 [==============================] - 42s 105ms/step - loss: 1.0306 - accuracy: 0.7322 - val_loss: 1.0831 - val_accuracy: 0.7321\n",
      "Epoch 6/8\n",
      "397/397 [==============================] - 41s 105ms/step - loss: 0.9818 - accuracy: 0.7416 - val_loss: 1.1072 - val_accuracy: 0.7282\n",
      "Epoch 7/8\n",
      "397/397 [==============================] - 41s 104ms/step - loss: 0.9358 - accuracy: 0.7507 - val_loss: 1.1206 - val_accuracy: 0.7293\n",
      "Epoch 8/8\n",
      "397/397 [==============================] - 41s 105ms/step - loss: 0.8917 - accuracy: 0.7592 - val_loss: 1.1464 - val_accuracy: 0.7256\n"
     ]
    },
    {
     "name": "stderr",
     "output_type": "stream",
     "text": [
      "\r",
      " 14%|█▍        | 22/154 [2:17:44<13:44:13, 374.65s/it]"
     ]
    },
    {
     "name": "stdout",
     "output_type": "stream",
     "text": [
      "Epoch 1/8\n",
      "397/397 [==============================] - 42s 105ms/step - loss: 1.2944 - accuracy: 0.6841 - val_loss: 1.0673 - val_accuracy: 0.7339\n",
      "Epoch 2/8\n",
      "397/397 [==============================] - 42s 105ms/step - loss: 1.1799 - accuracy: 0.7033 - val_loss: 1.0678 - val_accuracy: 0.7345\n",
      "Epoch 3/8\n",
      "397/397 [==============================] - 42s 105ms/step - loss: 1.1223 - accuracy: 0.7153 - val_loss: 1.0627 - val_accuracy: 0.7365\n",
      "Epoch 4/8\n",
      "397/397 [==============================] - 42s 105ms/step - loss: 1.0742 - accuracy: 0.7237 - val_loss: 1.0817 - val_accuracy: 0.7323\n",
      "Epoch 5/8\n",
      "397/397 [==============================] - 41s 105ms/step - loss: 1.0270 - accuracy: 0.7330 - val_loss: 1.0873 - val_accuracy: 0.7338\n",
      "Epoch 6/8\n",
      "397/397 [==============================] - 42s 105ms/step - loss: 0.9841 - accuracy: 0.7398 - val_loss: 1.0957 - val_accuracy: 0.7318\n",
      "Epoch 7/8\n",
      "397/397 [==============================] - 41s 104ms/step - loss: 0.9349 - accuracy: 0.7519 - val_loss: 1.1230 - val_accuracy: 0.7308\n",
      "Epoch 8/8\n",
      "397/397 [==============================] - 42s 105ms/step - loss: 0.8921 - accuracy: 0.7594 - val_loss: 1.1474 - val_accuracy: 0.7261\n"
     ]
    },
    {
     "name": "stderr",
     "output_type": "stream",
     "text": [
      "\r",
      " 15%|█▍        | 23/154 [2:23:58<13:37:23, 374.38s/it]"
     ]
    },
    {
     "name": "stdout",
     "output_type": "stream",
     "text": [
      "Epoch 1/8\n",
      "397/397 [==============================] - 44s 111ms/step - loss: 1.2926 - accuracy: 0.6832 - val_loss: 1.0712 - val_accuracy: 0.7320\n",
      "Epoch 2/8\n",
      "397/397 [==============================] - 41s 105ms/step - loss: 1.1837 - accuracy: 0.7033 - val_loss: 1.0679 - val_accuracy: 0.7325\n",
      "Epoch 3/8\n",
      "397/397 [==============================] - 42s 105ms/step - loss: 1.1232 - accuracy: 0.7142 - val_loss: 1.0722 - val_accuracy: 0.7318\n",
      "Epoch 4/8\n",
      "397/397 [==============================] - 42s 105ms/step - loss: 1.0699 - accuracy: 0.7251 - val_loss: 1.0939 - val_accuracy: 0.7287\n",
      "Epoch 5/8\n",
      "397/397 [==============================] - 42s 105ms/step - loss: 1.0280 - accuracy: 0.7329 - val_loss: 1.0759 - val_accuracy: 0.7356\n",
      "Epoch 6/8\n",
      "397/397 [==============================] - 42s 105ms/step - loss: 0.9765 - accuracy: 0.7416 - val_loss: 1.1019 - val_accuracy: 0.7307\n",
      "Epoch 7/8\n",
      "397/397 [==============================] - 41s 105ms/step - loss: 0.9369 - accuracy: 0.7512 - val_loss: 1.1104 - val_accuracy: 0.7296\n",
      "Epoch 8/8\n",
      "397/397 [==============================] - 42s 105ms/step - loss: 0.8898 - accuracy: 0.7604 - val_loss: 1.1339 - val_accuracy: 0.7287\n"
     ]
    },
    {
     "name": "stderr",
     "output_type": "stream",
     "text": [
      "\r",
      " 16%|█▌        | 24/154 [2:30:15<13:32:37, 375.05s/it]"
     ]
    },
    {
     "name": "stdout",
     "output_type": "stream",
     "text": [
      "Epoch 1/8\n",
      "397/397 [==============================] - 45s 113ms/step - loss: 1.2879 - accuracy: 0.6837 - val_loss: 1.0519 - val_accuracy: 0.7362\n",
      "Epoch 2/8\n",
      "397/397 [==============================] - 42s 105ms/step - loss: 1.1731 - accuracy: 0.7046 - val_loss: 1.0416 - val_accuracy: 0.7380\n",
      "Epoch 3/8\n",
      "397/397 [==============================] - 42s 105ms/step - loss: 1.1114 - accuracy: 0.7155 - val_loss: 1.0507 - val_accuracy: 0.7377\n",
      "Epoch 4/8\n",
      "397/397 [==============================] - 42s 105ms/step - loss: 1.0630 - accuracy: 0.7256 - val_loss: 1.0481 - val_accuracy: 0.7387\n",
      "Epoch 5/8\n",
      "397/397 [==============================] - 42s 105ms/step - loss: 1.0135 - accuracy: 0.7363 - val_loss: 1.0573 - val_accuracy: 0.7377\n",
      "Epoch 6/8\n",
      "397/397 [==============================] - 42s 105ms/step - loss: 0.9721 - accuracy: 0.7439 - val_loss: 1.0763 - val_accuracy: 0.7363\n",
      "Epoch 7/8\n",
      "397/397 [==============================] - 42s 105ms/step - loss: 0.9235 - accuracy: 0.7536 - val_loss: 1.0934 - val_accuracy: 0.7357\n",
      "Epoch 8/8\n",
      "397/397 [==============================] - 42s 105ms/step - loss: 0.8790 - accuracy: 0.7617 - val_loss: 1.1117 - val_accuracy: 0.7341\n",
      "INFO:tensorflow:Assets written to: F:\\doodles\\dump\\assets\n"
     ]
    },
    {
     "name": "stderr",
     "output_type": "stream",
     "text": [
      "\r",
      " 16%|█▌        | 25/154 [2:36:41<13:33:51, 378.54s/it]"
     ]
    },
    {
     "name": "stdout",
     "output_type": "stream",
     "text": [
      "Epoch 1/8\n",
      "397/397 [==============================] - 44s 111ms/step - loss: 1.2917 - accuracy: 0.6840 - val_loss: 1.0747 - val_accuracy: 0.7298\n",
      "Epoch 2/8\n",
      "397/397 [==============================] - 41s 105ms/step - loss: 1.1759 - accuracy: 0.7054 - val_loss: 1.0696 - val_accuracy: 0.7305\n",
      "Epoch 3/8\n",
      "397/397 [==============================] - 42s 105ms/step - loss: 1.1193 - accuracy: 0.7164 - val_loss: 1.0622 - val_accuracy: 0.7335\n",
      "Epoch 4/8\n",
      "397/397 [==============================] - 42s 105ms/step - loss: 1.0708 - accuracy: 0.7249 - val_loss: 1.0727 - val_accuracy: 0.7350\n",
      "Epoch 5/8\n",
      "397/397 [==============================] - 42s 105ms/step - loss: 1.0263 - accuracy: 0.7332 - val_loss: 1.0808 - val_accuracy: 0.7339\n",
      "Epoch 6/8\n",
      "397/397 [==============================] - 41s 105ms/step - loss: 0.9773 - accuracy: 0.7429 - val_loss: 1.0995 - val_accuracy: 0.7316\n",
      "Epoch 7/8\n",
      "397/397 [==============================] - 41s 104ms/step - loss: 0.9347 - accuracy: 0.7502 - val_loss: 1.1187 - val_accuracy: 0.7290\n",
      "Epoch 8/8\n",
      "397/397 [==============================] - 42s 105ms/step - loss: 0.8917 - accuracy: 0.7590 - val_loss: 1.1348 - val_accuracy: 0.7289\n"
     ]
    },
    {
     "name": "stderr",
     "output_type": "stream",
     "text": [
      "\r",
      " 17%|█▋        | 26/154 [2:42:57<13:25:56, 377.78s/it]"
     ]
    },
    {
     "name": "stdout",
     "output_type": "stream",
     "text": [
      "Epoch 1/8\n",
      "397/397 [==============================] - 44s 111ms/step - loss: 1.2789 - accuracy: 0.6871 - val_loss: 1.0714 - val_accuracy: 0.7359\n",
      "Epoch 2/8\n",
      "397/397 [==============================] - 41s 105ms/step - loss: 1.1677 - accuracy: 0.7064 - val_loss: 1.0554 - val_accuracy: 0.7371\n",
      "Epoch 3/8\n",
      "397/397 [==============================] - 41s 105ms/step - loss: 1.1110 - accuracy: 0.7165 - val_loss: 1.0982 - val_accuracy: 0.7303\n",
      "Epoch 4/8\n",
      "397/397 [==============================] - 41s 105ms/step - loss: 1.0834 - accuracy: 0.7212 - val_loss: 1.0716 - val_accuracy: 0.7355\n",
      "Epoch 5/8\n",
      "397/397 [==============================] - 41s 105ms/step - loss: 1.0210 - accuracy: 0.7346 - val_loss: 1.0753 - val_accuracy: 0.7362\n",
      "Epoch 6/8\n",
      "397/397 [==============================] - 42s 105ms/step - loss: 0.9749 - accuracy: 0.7426 - val_loss: 1.1108 - val_accuracy: 0.7299\n",
      "Epoch 7/8\n",
      "397/397 [==============================] - 41s 105ms/step - loss: 0.9304 - accuracy: 0.7526 - val_loss: 1.1098 - val_accuracy: 0.7337\n",
      "Epoch 8/8\n",
      "397/397 [==============================] - 41s 105ms/step - loss: 0.8915 - accuracy: 0.7605 - val_loss: 1.1317 - val_accuracy: 0.7301\n"
     ]
    },
    {
     "name": "stderr",
     "output_type": "stream",
     "text": [
      "\r",
      " 18%|█▊        | 27/154 [2:49:13<13:18:32, 377.26s/it]"
     ]
    },
    {
     "name": "stdout",
     "output_type": "stream",
     "text": [
      "Epoch 1/8\n",
      "397/397 [==============================] - 45s 114ms/step - loss: 1.2794 - accuracy: 0.6864 - val_loss: 1.0757 - val_accuracy: 0.7360\n",
      "Epoch 2/8\n",
      "397/397 [==============================] - 42s 105ms/step - loss: 1.1725 - accuracy: 0.7053 - val_loss: 1.0634 - val_accuracy: 0.7371\n",
      "Epoch 3/8\n",
      "397/397 [==============================] - 42s 105ms/step - loss: 1.1152 - accuracy: 0.7158 - val_loss: 1.0792 - val_accuracy: 0.7341\n",
      "Epoch 4/8\n",
      "397/397 [==============================] - 42s 105ms/step - loss: 1.0638 - accuracy: 0.7264 - val_loss: 1.0796 - val_accuracy: 0.7350\n",
      "Epoch 5/8\n",
      "397/397 [==============================] - 41s 105ms/step - loss: 1.0211 - accuracy: 0.7348 - val_loss: 1.0971 - val_accuracy: 0.7347\n",
      "Epoch 6/8\n",
      "397/397 [==============================] - 42s 105ms/step - loss: 0.9710 - accuracy: 0.7439 - val_loss: 1.1081 - val_accuracy: 0.7342\n",
      "Epoch 7/8\n",
      "397/397 [==============================] - 42s 105ms/step - loss: 0.9312 - accuracy: 0.7512 - val_loss: 1.1258 - val_accuracy: 0.7343\n",
      "Epoch 8/8\n",
      "397/397 [==============================] - 42s 105ms/step - loss: 0.8856 - accuracy: 0.7615 - val_loss: 1.1447 - val_accuracy: 0.7322\n"
     ]
    },
    {
     "name": "stderr",
     "output_type": "stream",
     "text": [
      "\r",
      " 18%|█▊        | 28/154 [2:55:31<13:12:20, 377.30s/it]"
     ]
    },
    {
     "name": "stdout",
     "output_type": "stream",
     "text": [
      "Epoch 1/8\n",
      "397/397 [==============================] - 44s 111ms/step - loss: 1.2895 - accuracy: 0.6857 - val_loss: 1.0811 - val_accuracy: 0.7320\n",
      "Epoch 2/8\n",
      "397/397 [==============================] - 42s 105ms/step - loss: 1.1803 - accuracy: 0.7046 - val_loss: 1.0734 - val_accuracy: 0.7335\n",
      "Epoch 3/8\n",
      "397/397 [==============================] - 41s 105ms/step - loss: 1.1194 - accuracy: 0.7153 - val_loss: 1.0750 - val_accuracy: 0.7361\n",
      "Epoch 4/8\n",
      "397/397 [==============================] - 41s 105ms/step - loss: 1.0743 - accuracy: 0.7243 - val_loss: 1.0765 - val_accuracy: 0.7332\n",
      "Epoch 5/8\n",
      "397/397 [==============================] - 42s 105ms/step - loss: 1.0296 - accuracy: 0.7332 - val_loss: 1.0954 - val_accuracy: 0.7306\n",
      "Epoch 6/8\n",
      "397/397 [==============================] - 41s 104ms/step - loss: 0.9829 - accuracy: 0.7429 - val_loss: 1.0983 - val_accuracy: 0.7342\n",
      "Epoch 7/8\n",
      "397/397 [==============================] - 42s 105ms/step - loss: 0.9369 - accuracy: 0.7501 - val_loss: 1.1194 - val_accuracy: 0.7294\n",
      "Epoch 8/8\n",
      "397/397 [==============================] - 41s 104ms/step - loss: 0.8915 - accuracy: 0.7600 - val_loss: 1.1600 - val_accuracy: 0.7258\n"
     ]
    },
    {
     "name": "stderr",
     "output_type": "stream",
     "text": [
      "\r",
      " 19%|█▉        | 29/154 [3:01:46<13:05:02, 376.82s/it]"
     ]
    },
    {
     "name": "stdout",
     "output_type": "stream",
     "text": [
      "Epoch 1/8\n",
      "397/397 [==============================] - 44s 111ms/step - loss: 1.2704 - accuracy: 0.6893 - val_loss: 1.0610 - val_accuracy: 0.7370\n",
      "Epoch 2/8\n",
      "397/397 [==============================] - 41s 104ms/step - loss: 1.1713 - accuracy: 0.7057 - val_loss: 1.0578 - val_accuracy: 0.7379\n",
      "Epoch 3/8\n",
      "397/397 [==============================] - 41s 104ms/step - loss: 1.1087 - accuracy: 0.7190 - val_loss: 1.0549 - val_accuracy: 0.7399\n",
      "Epoch 4/8\n",
      "397/397 [==============================] - 41s 104ms/step - loss: 1.0633 - accuracy: 0.7267 - val_loss: 1.0609 - val_accuracy: 0.7386\n",
      "Epoch 5/8\n",
      "397/397 [==============================] - 41s 104ms/step - loss: 1.0173 - accuracy: 0.7354 - val_loss: 1.0756 - val_accuracy: 0.7377\n",
      "Epoch 6/8\n",
      "397/397 [==============================] - 41s 105ms/step - loss: 0.9778 - accuracy: 0.7426 - val_loss: 1.0736 - val_accuracy: 0.7383\n",
      "Epoch 7/8\n",
      "397/397 [==============================] - 41s 105ms/step - loss: 0.9298 - accuracy: 0.7534 - val_loss: 1.1024 - val_accuracy: 0.7354\n",
      "Epoch 8/8\n",
      "397/397 [==============================] - 41s 105ms/step - loss: 0.8905 - accuracy: 0.7596 - val_loss: 1.1155 - val_accuracy: 0.7347\n"
     ]
    },
    {
     "name": "stderr",
     "output_type": "stream",
     "text": [
      "\r",
      " 19%|█▉        | 30/154 [3:08:02<12:58:14, 376.56s/it]"
     ]
    },
    {
     "name": "stdout",
     "output_type": "stream",
     "text": [
      "Epoch 1/8\n",
      "397/397 [==============================] - 45s 113ms/step - loss: 1.2776 - accuracy: 0.6870 - val_loss: 1.0628 - val_accuracy: 0.7331\n",
      "Epoch 2/8\n",
      "397/397 [==============================] - 42s 105ms/step - loss: 1.1709 - accuracy: 0.7057 - val_loss: 1.0654 - val_accuracy: 0.7323\n",
      "Epoch 3/8\n",
      "397/397 [==============================] - 41s 104ms/step - loss: 1.1194 - accuracy: 0.7168 - val_loss: 1.0582 - val_accuracy: 0.7342\n",
      "Epoch 4/8\n",
      "397/397 [==============================] - 41s 104ms/step - loss: 1.0652 - accuracy: 0.7259 - val_loss: 1.0826 - val_accuracy: 0.7313\n",
      "Epoch 5/8\n",
      "397/397 [==============================] - 41s 105ms/step - loss: 1.0255 - accuracy: 0.7336 - val_loss: 1.0821 - val_accuracy: 0.7329\n",
      "Epoch 6/8\n",
      "397/397 [==============================] - 42s 105ms/step - loss: 0.9833 - accuracy: 0.7421 - val_loss: 1.0942 - val_accuracy: 0.7323\n",
      "Epoch 7/8\n",
      "397/397 [==============================] - 42s 105ms/step - loss: 0.9389 - accuracy: 0.7510 - val_loss: 1.1113 - val_accuracy: 0.7290\n",
      "Epoch 8/8\n",
      "397/397 [==============================] - 41s 104ms/step - loss: 0.8941 - accuracy: 0.7583 - val_loss: 1.1187 - val_accuracy: 0.7327\n"
     ]
    },
    {
     "name": "stderr",
     "output_type": "stream",
     "text": [
      "\r",
      " 20%|██        | 31/154 [3:14:19<12:52:06, 376.64s/it]"
     ]
    },
    {
     "name": "stdout",
     "output_type": "stream",
     "text": [
      "Epoch 1/8\n",
      "397/397 [==============================] - 41s 105ms/step - loss: 1.2819 - accuracy: 0.6861 - val_loss: 1.0544 - val_accuracy: 0.7359\n",
      "Epoch 2/8\n",
      "397/397 [==============================] - 41s 105ms/step - loss: 1.1751 - accuracy: 0.7043 - val_loss: 1.0340 - val_accuracy: 0.7422\n",
      "Epoch 3/8\n",
      "397/397 [==============================] - 42s 105ms/step - loss: 1.1175 - accuracy: 0.7152 - val_loss: 1.0422 - val_accuracy: 0.7404\n",
      "Epoch 4/8\n",
      "397/397 [==============================] - 41s 104ms/step - loss: 1.0724 - accuracy: 0.7235 - val_loss: 1.0592 - val_accuracy: 0.7370\n",
      "Epoch 5/8\n",
      "397/397 [==============================] - 41s 104ms/step - loss: 1.0259 - accuracy: 0.7334 - val_loss: 1.0618 - val_accuracy: 0.7386\n",
      "Epoch 6/8\n",
      "397/397 [==============================] - 41s 105ms/step - loss: 0.9806 - accuracy: 0.7438 - val_loss: 1.0722 - val_accuracy: 0.7377\n",
      "Epoch 7/8\n",
      "397/397 [==============================] - 41s 104ms/step - loss: 0.9378 - accuracy: 0.7500 - val_loss: 1.0944 - val_accuracy: 0.7356\n",
      "Epoch 8/8\n",
      "397/397 [==============================] - 41s 104ms/step - loss: 0.8948 - accuracy: 0.7598 - val_loss: 1.1341 - val_accuracy: 0.7304\n"
     ]
    },
    {
     "name": "stderr",
     "output_type": "stream",
     "text": [
      "\r",
      " 21%|██        | 32/154 [3:20:33<12:43:57, 375.72s/it]"
     ]
    },
    {
     "name": "stdout",
     "output_type": "stream",
     "text": [
      "Epoch 1/8\n",
      "397/397 [==============================] - 44s 111ms/step - loss: 1.2794 - accuracy: 0.6864 - val_loss: 1.0637 - val_accuracy: 0.7354\n",
      "Epoch 2/8\n",
      "397/397 [==============================] - 41s 104ms/step - loss: 1.1704 - accuracy: 0.7058 - val_loss: 1.0563 - val_accuracy: 0.7365\n",
      "Epoch 3/8\n",
      "397/397 [==============================] - 41s 104ms/step - loss: 1.1139 - accuracy: 0.7163 - val_loss: 1.0615 - val_accuracy: 0.7353\n",
      "Epoch 4/8\n",
      "397/397 [==============================] - 42s 105ms/step - loss: 1.0681 - accuracy: 0.7258 - val_loss: 1.0509 - val_accuracy: 0.7412\n",
      "Epoch 5/8\n",
      "397/397 [==============================] - 41s 105ms/step - loss: 1.0239 - accuracy: 0.7344 - val_loss: 1.0580 - val_accuracy: 0.7399\n",
      "Epoch 6/8\n",
      "397/397 [==============================] - 41s 104ms/step - loss: 0.9782 - accuracy: 0.7436 - val_loss: 1.0715 - val_accuracy: 0.7398\n",
      "Epoch 7/8\n",
      "397/397 [==============================] - 41s 104ms/step - loss: 0.9348 - accuracy: 0.7506 - val_loss: 1.0966 - val_accuracy: 0.7337\n",
      "Epoch 8/8\n",
      "397/397 [==============================] - 41s 104ms/step - loss: 0.8973 - accuracy: 0.7577 - val_loss: 1.1070 - val_accuracy: 0.7349\n"
     ]
    },
    {
     "name": "stderr",
     "output_type": "stream",
     "text": [
      "\r",
      " 21%|██▏       | 33/154 [3:26:49<12:37:57, 375.85s/it]"
     ]
    },
    {
     "name": "stdout",
     "output_type": "stream",
     "text": [
      "Epoch 1/8\n",
      "397/397 [==============================] - 44s 111ms/step - loss: 1.2731 - accuracy: 0.6873 - val_loss: 1.0736 - val_accuracy: 0.7315\n",
      "Epoch 2/8\n",
      "397/397 [==============================] - 41s 104ms/step - loss: 1.1697 - accuracy: 0.7052 - val_loss: 1.0579 - val_accuracy: 0.7361\n",
      "Epoch 3/8\n",
      "397/397 [==============================] - 42s 105ms/step - loss: 1.1142 - accuracy: 0.7162 - val_loss: 1.0635 - val_accuracy: 0.7324\n",
      "Epoch 4/8\n",
      "397/397 [==============================] - 41s 105ms/step - loss: 1.0641 - accuracy: 0.7260 - val_loss: 1.0711 - val_accuracy: 0.7353\n",
      "Epoch 5/8\n",
      "397/397 [==============================] - 41s 105ms/step - loss: 1.0196 - accuracy: 0.7346 - val_loss: 1.0878 - val_accuracy: 0.7314\n",
      "Epoch 6/8\n",
      "397/397 [==============================] - 41s 104ms/step - loss: 0.9755 - accuracy: 0.7435 - val_loss: 1.0869 - val_accuracy: 0.7356\n",
      "Epoch 7/8\n",
      "397/397 [==============================] - 41s 104ms/step - loss: 0.9392 - accuracy: 0.7496 - val_loss: 1.1182 - val_accuracy: 0.7309\n",
      "Epoch 8/8\n",
      "397/397 [==============================] - 41s 104ms/step - loss: 0.8896 - accuracy: 0.7609 - val_loss: 1.1280 - val_accuracy: 0.7286\n"
     ]
    },
    {
     "name": "stderr",
     "output_type": "stream",
     "text": [
      "\r",
      " 22%|██▏       | 34/154 [3:33:04<12:31:32, 375.77s/it]"
     ]
    },
    {
     "name": "stdout",
     "output_type": "stream",
     "text": [
      "Epoch 1/8\n",
      "397/397 [==============================] - 41s 104ms/step - loss: 1.2719 - accuracy: 0.6886 - val_loss: 1.0564 - val_accuracy: 0.7375\n",
      "Epoch 2/8\n",
      "397/397 [==============================] - 41s 104ms/step - loss: 1.1710 - accuracy: 0.7055 - val_loss: 1.0576 - val_accuracy: 0.7370\n",
      "Epoch 3/8\n",
      "397/397 [==============================] - 41s 104ms/step - loss: 1.1127 - accuracy: 0.7158 - val_loss: 1.0578 - val_accuracy: 0.7385\n",
      "Epoch 4/8\n",
      "397/397 [==============================] - 41s 104ms/step - loss: 1.0669 - accuracy: 0.7258 - val_loss: 1.0634 - val_accuracy: 0.7389\n",
      "Epoch 5/8\n",
      "397/397 [==============================] - 41s 104ms/step - loss: 1.0241 - accuracy: 0.7347 - val_loss: 1.0728 - val_accuracy: 0.7374\n",
      "Epoch 6/8\n",
      "397/397 [==============================] - 41s 104ms/step - loss: 0.9817 - accuracy: 0.7419 - val_loss: 1.0804 - val_accuracy: 0.7385\n",
      "Epoch 7/8\n",
      "397/397 [==============================] - 41s 104ms/step - loss: 0.9348 - accuracy: 0.7502 - val_loss: 1.1096 - val_accuracy: 0.7337\n",
      "Epoch 8/8\n",
      "397/397 [==============================] - 41s 104ms/step - loss: 0.8950 - accuracy: 0.7598 - val_loss: 1.1126 - val_accuracy: 0.7353\n",
      "INFO:tensorflow:Assets written to: F:\\doodles\\dump\\assets\n"
     ]
    },
    {
     "name": "stderr",
     "output_type": "stream",
     "text": [
      "\r",
      " 23%|██▎       | 35/154 [3:39:27<12:29:07, 377.71s/it]"
     ]
    },
    {
     "name": "stdout",
     "output_type": "stream",
     "text": [
      "Epoch 1/8\n",
      "397/397 [==============================] - 44s 111ms/step - loss: 1.2758 - accuracy: 0.6884 - val_loss: 1.0428 - val_accuracy: 0.7327\n",
      "Epoch 2/8\n",
      "397/397 [==============================] - 41s 104ms/step - loss: 1.1706 - accuracy: 0.7069 - val_loss: 1.0444 - val_accuracy: 0.7345\n",
      "Epoch 3/8\n",
      "397/397 [==============================] - 41s 105ms/step - loss: 1.1190 - accuracy: 0.7161 - val_loss: 1.0312 - val_accuracy: 0.7412\n",
      "Epoch 4/8\n",
      "397/397 [==============================] - 42s 105ms/step - loss: 1.0724 - accuracy: 0.7255 - val_loss: 1.0546 - val_accuracy: 0.7352\n",
      "Epoch 5/8\n",
      "397/397 [==============================] - 41s 105ms/step - loss: 1.0259 - accuracy: 0.7340 - val_loss: 1.0519 - val_accuracy: 0.7365\n",
      "Epoch 6/8\n",
      "397/397 [==============================] - 41s 105ms/step - loss: 0.9805 - accuracy: 0.7431 - val_loss: 1.0653 - val_accuracy: 0.7387\n",
      "Epoch 7/8\n",
      "397/397 [==============================] - 41s 104ms/step - loss: 0.9428 - accuracy: 0.7512 - val_loss: 1.0978 - val_accuracy: 0.7328\n",
      "Epoch 8/8\n",
      "397/397 [==============================] - 41s 104ms/step - loss: 0.9027 - accuracy: 0.7579 - val_loss: 1.0911 - val_accuracy: 0.7350\n"
     ]
    },
    {
     "name": "stderr",
     "output_type": "stream",
     "text": [
      "\r",
      " 23%|██▎       | 36/154 [3:45:43<12:21:48, 377.19s/it]"
     ]
    },
    {
     "name": "stdout",
     "output_type": "stream",
     "text": [
      "Epoch 1/8\n",
      "397/397 [==============================] - 44s 111ms/step - loss: 1.2668 - accuracy: 0.6895 - val_loss: 1.0643 - val_accuracy: 0.7379\n",
      "Epoch 2/8\n",
      "397/397 [==============================] - 41s 104ms/step - loss: 1.1651 - accuracy: 0.7069 - val_loss: 1.0579 - val_accuracy: 0.7369\n",
      "Epoch 3/8\n",
      "397/397 [==============================] - 41s 104ms/step - loss: 1.1110 - accuracy: 0.7168 - val_loss: 1.0568 - val_accuracy: 0.7407\n",
      "Epoch 4/8\n",
      "397/397 [==============================] - 42s 105ms/step - loss: 1.0635 - accuracy: 0.7264 - val_loss: 1.0640 - val_accuracy: 0.7385\n",
      "Epoch 5/8\n",
      "397/397 [==============================] - 41s 104ms/step - loss: 1.0269 - accuracy: 0.7328 - val_loss: 1.0786 - val_accuracy: 0.7378\n",
      "Epoch 6/8\n",
      "397/397 [==============================] - 42s 105ms/step - loss: 0.9743 - accuracy: 0.7437 - val_loss: 1.0929 - val_accuracy: 0.7377\n",
      "Epoch 7/8\n",
      "397/397 [==============================] - 41s 104ms/step - loss: 0.9331 - accuracy: 0.7521 - val_loss: 1.0982 - val_accuracy: 0.7376\n",
      "Epoch 8/8\n",
      "397/397 [==============================] - 41s 104ms/step - loss: 0.8897 - accuracy: 0.7607 - val_loss: 1.1224 - val_accuracy: 0.7364\n"
     ]
    },
    {
     "name": "stderr",
     "output_type": "stream",
     "text": [
      "\r",
      " 24%|██▍       | 37/154 [3:51:59<12:14:46, 376.81s/it]"
     ]
    },
    {
     "name": "stdout",
     "output_type": "stream",
     "text": [
      "Epoch 1/8\n",
      "397/397 [==============================] - 45s 114ms/step - loss: 1.2685 - accuracy: 0.6901 - val_loss: 1.0528 - val_accuracy: 0.7376\n",
      "Epoch 2/8\n",
      "397/397 [==============================] - 41s 104ms/step - loss: 1.1670 - accuracy: 0.7066 - val_loss: 1.0505 - val_accuracy: 0.7376\n",
      "Epoch 3/8\n",
      "397/397 [==============================] - 42s 105ms/step - loss: 1.1116 - accuracy: 0.7178 - val_loss: 1.0381 - val_accuracy: 0.7406\n",
      "Epoch 4/8\n",
      "397/397 [==============================] - 41s 105ms/step - loss: 1.0674 - accuracy: 0.7254 - val_loss: 1.0507 - val_accuracy: 0.7392\n",
      "Epoch 5/8\n",
      "397/397 [==============================] - 41s 104ms/step - loss: 1.0215 - accuracy: 0.7346 - val_loss: 1.0636 - val_accuracy: 0.7379\n",
      "Epoch 6/8\n",
      "397/397 [==============================] - 41s 104ms/step - loss: 0.9773 - accuracy: 0.7429 - val_loss: 1.0863 - val_accuracy: 0.7355\n",
      "Epoch 7/8\n",
      "397/397 [==============================] - 42s 105ms/step - loss: 0.9385 - accuracy: 0.7502 - val_loss: 1.0853 - val_accuracy: 0.7357\n",
      "Epoch 8/8\n",
      "397/397 [==============================] - 42s 105ms/step - loss: 0.8953 - accuracy: 0.7596 - val_loss: 1.0989 - val_accuracy: 0.7339\n"
     ]
    },
    {
     "name": "stderr",
     "output_type": "stream",
     "text": [
      "\r",
      " 25%|██▍       | 38/154 [3:58:15<12:08:32, 376.83s/it]"
     ]
    },
    {
     "name": "stdout",
     "output_type": "stream",
     "text": [
      "Epoch 1/8\n",
      "397/397 [==============================] - 42s 105ms/step - loss: 1.2683 - accuracy: 0.6888 - val_loss: 1.0248 - val_accuracy: 0.7425\n",
      "Epoch 2/8\n",
      "397/397 [==============================] - 41s 104ms/step - loss: 1.1855 - accuracy: 0.7030 - val_loss: 1.0297 - val_accuracy: 0.7413\n",
      "Epoch 3/8\n",
      "397/397 [==============================] - 41s 105ms/step - loss: 1.1183 - accuracy: 0.7160 - val_loss: 1.0287 - val_accuracy: 0.7451\n",
      "Epoch 4/8\n",
      "397/397 [==============================] - 41s 105ms/step - loss: 1.0751 - accuracy: 0.7248 - val_loss: 1.0281 - val_accuracy: 0.7456\n",
      "Epoch 5/8\n",
      "397/397 [==============================] - 42s 105ms/step - loss: 1.0267 - accuracy: 0.7340 - val_loss: 1.0475 - val_accuracy: 0.7420\n",
      "Epoch 6/8\n",
      "397/397 [==============================] - 41s 104ms/step - loss: 0.9825 - accuracy: 0.7426 - val_loss: 1.0610 - val_accuracy: 0.7402\n",
      "Epoch 7/8\n",
      "397/397 [==============================] - 41s 105ms/step - loss: 0.9465 - accuracy: 0.7495 - val_loss: 1.0630 - val_accuracy: 0.7417\n",
      "Epoch 8/8\n",
      "397/397 [==============================] - 41s 105ms/step - loss: 0.9053 - accuracy: 0.7577 - val_loss: 1.0800 - val_accuracy: 0.7408\n"
     ]
    },
    {
     "name": "stderr",
     "output_type": "stream",
     "text": [
      "\r",
      " 25%|██▌       | 39/154 [4:04:29<12:00:06, 375.71s/it]"
     ]
    },
    {
     "name": "stdout",
     "output_type": "stream",
     "text": [
      "Epoch 1/8\n",
      "397/397 [==============================] - 43s 108ms/step - loss: 1.2576 - accuracy: 0.6922 - val_loss: 1.0498 - val_accuracy: 0.7355\n",
      "Epoch 2/8\n",
      "397/397 [==============================] - 41s 104ms/step - loss: 1.1610 - accuracy: 0.7081 - val_loss: 1.0563 - val_accuracy: 0.7340\n",
      "Epoch 3/8\n",
      "397/397 [==============================] - 41s 105ms/step - loss: 1.1138 - accuracy: 0.7155 - val_loss: 1.0629 - val_accuracy: 0.7335\n",
      "Epoch 4/8\n",
      "397/397 [==============================] - 42s 105ms/step - loss: 1.0629 - accuracy: 0.7257 - val_loss: 1.0656 - val_accuracy: 0.7334\n",
      "Epoch 5/8\n",
      "397/397 [==============================] - 42s 105ms/step - loss: 1.0165 - accuracy: 0.7351 - val_loss: 1.0747 - val_accuracy: 0.7348\n",
      "Epoch 6/8\n",
      "397/397 [==============================] - 42s 105ms/step - loss: 0.9795 - accuracy: 0.7425 - val_loss: 1.0968 - val_accuracy: 0.7293\n",
      "Epoch 7/8\n",
      "397/397 [==============================] - 41s 104ms/step - loss: 0.9428 - accuracy: 0.7495 - val_loss: 1.0857 - val_accuracy: 0.7354\n",
      "Epoch 8/8\n",
      "397/397 [==============================] - 41s 105ms/step - loss: 0.8975 - accuracy: 0.7587 - val_loss: 1.1066 - val_accuracy: 0.7310\n"
     ]
    },
    {
     "name": "stderr",
     "output_type": "stream",
     "text": [
      "\r",
      " 26%|██▌       | 40/154 [4:10:43<11:53:08, 375.33s/it]"
     ]
    },
    {
     "name": "stdout",
     "output_type": "stream",
     "text": [
      "Epoch 1/8\n",
      "397/397 [==============================] - 43s 107ms/step - loss: 1.2583 - accuracy: 0.6911 - val_loss: 1.0733 - val_accuracy: 0.7314\n",
      "Epoch 2/8\n",
      "397/397 [==============================] - 42s 105ms/step - loss: 1.1756 - accuracy: 0.7046 - val_loss: 1.0553 - val_accuracy: 0.7387\n",
      "Epoch 3/8\n",
      "397/397 [==============================] - 42s 105ms/step - loss: 1.1133 - accuracy: 0.7174 - val_loss: 1.0639 - val_accuracy: 0.7363\n",
      "Epoch 4/8\n",
      "397/397 [==============================] - 42s 105ms/step - loss: 1.0806 - accuracy: 0.7239 - val_loss: 1.0712 - val_accuracy: 0.7357\n",
      "Epoch 5/8\n",
      "397/397 [==============================] - 41s 104ms/step - loss: 1.0254 - accuracy: 0.7348 - val_loss: 1.0744 - val_accuracy: 0.7382\n",
      "Epoch 6/8\n",
      "397/397 [==============================] - 41s 104ms/step - loss: 0.9881 - accuracy: 0.7420 - val_loss: 1.0989 - val_accuracy: 0.7328\n",
      "Epoch 7/8\n",
      "397/397 [==============================] - 42s 105ms/step - loss: 0.9466 - accuracy: 0.7490 - val_loss: 1.0942 - val_accuracy: 0.7356\n",
      "Epoch 8/8\n",
      "397/397 [==============================] - 41s 105ms/step - loss: 0.9043 - accuracy: 0.7579 - val_loss: 1.1181 - val_accuracy: 0.7351\n"
     ]
    },
    {
     "name": "stderr",
     "output_type": "stream",
     "text": [
      "\r",
      " 27%|██▋       | 41/154 [4:16:57<11:46:11, 374.97s/it]"
     ]
    },
    {
     "name": "stdout",
     "output_type": "stream",
     "text": [
      "Epoch 1/8\n",
      "397/397 [==============================] - 44s 111ms/step - loss: 1.2650 - accuracy: 0.6894 - val_loss: 1.0613 - val_accuracy: 0.7362\n",
      "Epoch 2/8\n",
      "397/397 [==============================] - 41s 104ms/step - loss: 1.1668 - accuracy: 0.7063 - val_loss: 1.0465 - val_accuracy: 0.7389\n",
      "Epoch 3/8\n",
      "397/397 [==============================] - 41s 105ms/step - loss: 1.1185 - accuracy: 0.7158 - val_loss: 1.0699 - val_accuracy: 0.7347\n",
      "Epoch 4/8\n",
      "397/397 [==============================] - 41s 105ms/step - loss: 1.0665 - accuracy: 0.7271 - val_loss: 1.0678 - val_accuracy: 0.7353\n",
      "Epoch 5/8\n",
      "397/397 [==============================] - 42s 105ms/step - loss: 1.0218 - accuracy: 0.7356 - val_loss: 1.0714 - val_accuracy: 0.7388\n",
      "Epoch 6/8\n",
      "397/397 [==============================] - 41s 105ms/step - loss: 0.9794 - accuracy: 0.7439 - val_loss: 1.0777 - val_accuracy: 0.7348\n",
      "Epoch 7/8\n",
      "397/397 [==============================] - 41s 104ms/step - loss: 0.9516 - accuracy: 0.7483 - val_loss: 1.0975 - val_accuracy: 0.7338\n",
      "Epoch 8/8\n",
      "397/397 [==============================] - 41s 104ms/step - loss: 0.9174 - accuracy: 0.7539 - val_loss: 1.1003 - val_accuracy: 0.7341\n"
     ]
    },
    {
     "name": "stderr",
     "output_type": "stream",
     "text": [
      "\r",
      " 27%|██▋       | 42/154 [4:23:13<11:40:42, 375.38s/it]"
     ]
    },
    {
     "name": "stdout",
     "output_type": "stream",
     "text": [
      "Epoch 1/8\n",
      "397/397 [==============================] - 44s 111ms/step - loss: 1.2594 - accuracy: 0.6920 - val_loss: 1.0696 - val_accuracy: 0.7351\n",
      "Epoch 2/8\n",
      "397/397 [==============================] - 41s 104ms/step - loss: 1.1613 - accuracy: 0.7088 - val_loss: 1.0595 - val_accuracy: 0.7402\n",
      "Epoch 3/8\n",
      "397/397 [==============================] - 41s 104ms/step - loss: 1.1112 - accuracy: 0.7188 - val_loss: 1.0629 - val_accuracy: 0.7376\n",
      "Epoch 4/8\n",
      "397/397 [==============================] - 42s 105ms/step - loss: 1.0700 - accuracy: 0.7265 - val_loss: 1.0792 - val_accuracy: 0.7356\n",
      "Epoch 5/8\n",
      "397/397 [==============================] - 41s 104ms/step - loss: 1.0259 - accuracy: 0.7347 - val_loss: 1.0793 - val_accuracy: 0.7367\n",
      "Epoch 6/8\n",
      "397/397 [==============================] - 41s 104ms/step - loss: 0.9843 - accuracy: 0.7429 - val_loss: 1.0896 - val_accuracy: 0.7366\n",
      "Epoch 7/8\n",
      "397/397 [==============================] - 41s 104ms/step - loss: 0.9480 - accuracy: 0.7501 - val_loss: 1.0969 - val_accuracy: 0.7358\n",
      "Epoch 8/8\n",
      "397/397 [==============================] - 41s 104ms/step - loss: 0.9043 - accuracy: 0.7582 - val_loss: 1.1152 - val_accuracy: 0.7348\n"
     ]
    },
    {
     "name": "stderr",
     "output_type": "stream",
     "text": [
      "\r",
      " 28%|██▊       | 43/154 [4:29:29<11:34:47, 375.56s/it]"
     ]
    },
    {
     "name": "stdout",
     "output_type": "stream",
     "text": [
      "Epoch 1/8\n",
      "397/397 [==============================] - 45s 114ms/step - loss: 1.2523 - accuracy: 0.6915 - val_loss: 1.0435 - val_accuracy: 0.7381\n",
      "Epoch 2/8\n",
      "397/397 [==============================] - 41s 104ms/step - loss: 1.1561 - accuracy: 0.7100 - val_loss: 1.0404 - val_accuracy: 0.7390\n",
      "Epoch 3/8\n",
      "397/397 [==============================] - 42s 105ms/step - loss: 1.1025 - accuracy: 0.7193 - val_loss: 1.0536 - val_accuracy: 0.7376\n",
      "Epoch 4/8\n",
      "397/397 [==============================] - 42s 105ms/step - loss: 1.0595 - accuracy: 0.7269 - val_loss: 1.0506 - val_accuracy: 0.7379\n",
      "Epoch 5/8\n",
      "397/397 [==============================] - 41s 105ms/step - loss: 1.0211 - accuracy: 0.7364 - val_loss: 1.0639 - val_accuracy: 0.7373\n",
      "Epoch 6/8\n",
      "397/397 [==============================] - 42s 105ms/step - loss: 0.9768 - accuracy: 0.7440 - val_loss: 1.0841 - val_accuracy: 0.7348\n",
      "Epoch 7/8\n",
      "397/397 [==============================] - 42s 105ms/step - loss: 0.9333 - accuracy: 0.7525 - val_loss: 1.0846 - val_accuracy: 0.7371\n",
      "Epoch 8/8\n",
      "397/397 [==============================] - 41s 105ms/step - loss: 0.9179 - accuracy: 0.7545 - val_loss: 1.1111 - val_accuracy: 0.7324\n"
     ]
    },
    {
     "name": "stderr",
     "output_type": "stream",
     "text": [
      "\r",
      " 29%|██▊       | 44/154 [4:35:47<11:29:28, 376.08s/it]"
     ]
    },
    {
     "name": "stdout",
     "output_type": "stream",
     "text": [
      "Epoch 1/8\n",
      "397/397 [==============================] - 44s 111ms/step - loss: 1.2667 - accuracy: 0.6911 - val_loss: 1.0522 - val_accuracy: 0.7364\n",
      "Epoch 2/8\n",
      "397/397 [==============================] - 41s 104ms/step - loss: 1.1775 - accuracy: 0.7047 - val_loss: 1.0470 - val_accuracy: 0.7405\n",
      "Epoch 3/8\n",
      "397/397 [==============================] - 41s 104ms/step - loss: 1.1299 - accuracy: 0.7139 - val_loss: 1.0589 - val_accuracy: 0.7390\n",
      "Epoch 4/8\n",
      "397/397 [==============================] - 41s 104ms/step - loss: 1.0774 - accuracy: 0.7246 - val_loss: 1.0532 - val_accuracy: 0.7400\n",
      "Epoch 5/8\n",
      "397/397 [==============================] - 41s 104ms/step - loss: 1.0306 - accuracy: 0.7351 - val_loss: 1.0648 - val_accuracy: 0.7388\n",
      "Epoch 6/8\n",
      "397/397 [==============================] - 41s 104ms/step - loss: 1.0055 - accuracy: 0.7381 - val_loss: 1.0825 - val_accuracy: 0.7387\n",
      "Epoch 7/8\n",
      "397/397 [==============================] - 41s 104ms/step - loss: 0.9611 - accuracy: 0.7476 - val_loss: 1.0902 - val_accuracy: 0.7348\n",
      "Epoch 8/8\n",
      "397/397 [==============================] - 41s 104ms/step - loss: 0.9200 - accuracy: 0.7547 - val_loss: 1.0915 - val_accuracy: 0.7381\n",
      "INFO:tensorflow:Assets written to: F:\\doodles\\dump\\assets\n"
     ]
    },
    {
     "name": "stderr",
     "output_type": "stream",
     "text": [
      "\r",
      " 29%|██▉       | 45/154 [4:42:12<11:28:10, 378.81s/it]"
     ]
    },
    {
     "name": "stdout",
     "output_type": "stream",
     "text": [
      "Epoch 1/8\n",
      "397/397 [==============================] - 41s 104ms/step - loss: 1.2554 - accuracy: 0.6892 - val_loss: 1.0424 - val_accuracy: 0.7366\n",
      "Epoch 2/8\n",
      "397/397 [==============================] - 41s 104ms/step - loss: 1.1612 - accuracy: 0.7083 - val_loss: 1.0439 - val_accuracy: 0.7383\n",
      "Epoch 3/8\n",
      "397/397 [==============================] - 41s 104ms/step - loss: 1.1079 - accuracy: 0.7183 - val_loss: 1.0501 - val_accuracy: 0.7379\n",
      "Epoch 4/8\n",
      "397/397 [==============================] - 41s 105ms/step - loss: 1.0602 - accuracy: 0.7276 - val_loss: 1.0602 - val_accuracy: 0.7364\n",
      "Epoch 5/8\n",
      "397/397 [==============================] - 41s 104ms/step - loss: 1.0282 - accuracy: 0.7334 - val_loss: 1.0663 - val_accuracy: 0.7352\n",
      "Epoch 6/8\n",
      "397/397 [==============================] - 42s 105ms/step - loss: 0.9809 - accuracy: 0.7425 - val_loss: 1.0778 - val_accuracy: 0.7363\n",
      "Epoch 7/8\n",
      "111/397 [=======>......................] - ETA: 28s - loss: 0.9288 - accuracy: 0.7535"
     ]
    }
   ],
   "source": [
    "file = 'F:\\\\doodles\\\\dump'\n",
    "for i in tqdm(range(96, 250)):\n",
    "    try:\n",
    "        X_train, X_test, y_train, y_test = load_data(i, le)\n",
    "        hist = model.fit(X_train, y_train,\n",
    "                         epochs=8,\n",
    "                         batch_size=350,\n",
    "                         validation_data=(X_test, y_test))\n",
    "        \n",
    "        hists.append(hist)\n",
    "        \n",
    "        if i % 10 == 0:\n",
    "            model.save(file)  \n",
    "            \n",
    "        free([X_train, X_test, y_train, y_test])\n",
    "        \n",
    "        report = get_report(model, le)  \n",
    "        reports.append(report)\n",
    "    except KeyboardInterrupt:\n",
    "        print(\"Stopped. Current bucket is {}\".format(str(i)))\n",
    "        break"
   ]
  },
  {
   "cell_type": "code",
   "execution_count": 11,
   "metadata": {
    "scrolled": false
   },
   "outputs": [
    {
     "data": {
      "image/png": "[encoded data removed]",
      "text/plain": [
       "<Figure size 432x288 with 1 Axes>"
      ]
     },
     "metadata": {
      "needs_background": "light"
     },
     "output_type": "display_data"
    },
    {
     "data": {
      "image/png": "[encoded data removed]",
      "text/plain": [
       "<Figure size 432x288 with 1 Axes>"
      ]
     },
     "metadata": {
      "needs_background": "light"
     },
     "output_type": "display_data"
    },
    {
     "data": {
      "image/png": "[encoded data removed]",
      "text/plain": [
       "<Figure size 432x288 with 1 Axes>"
      ]
     },
     "metadata": {
      "needs_background": "light"
     },
     "output_type": "display_data"
    },
    {
     "data": {
      "image/png": "[encoded data removed]",
      "text/plain": [
       "<Figure size 432x288 with 1 Axes>"
      ]
     },
     "metadata": {
      "needs_background": "light"
     },
     "output_type": "display_data"
    },
    {
     "data": {
      "image/png": "[encoded data removed]",
      "text/plain": [
       "<Figure size 432x288 with 1 Axes>"
      ]
     },
     "metadata": {
      "needs_background": "light"
     },
     "output_type": "display_data"
    },
    {
     "data": {
      "image/png": "[encoded data removed]",
      "text/plain": [
       "<Figure size 432x288 with 1 Axes>"
      ]
     },
     "metadata": {
      "needs_background": "light"
     },
     "output_type": "display_data"
    },
    {
     "data": {
      "image/png": "[encoded data removed]",
      "text/plain": [
       "<Figure size 432x288 with 1 Axes>"
      ]
     },
     "metadata": {
      "needs_background": "light"
     },
     "output_type": "display_data"
    },
    {
     "data": {
      "image/png": "[encoded data removed]",
      "text/plain": [
       "<Figure size 432x288 with 1 Axes>"
      ]
     },
     "metadata": {
      "needs_background": "light"
     },
     "output_type": "display_data"
    },
    {
     "data": {
      "image/png": "[encoded data removed]",
      "text/plain": [
       "<Figure size 432x288 with 1 Axes>"
      ]
     },
     "metadata": {
      "needs_background": "light"
     },
     "output_type": "display_data"
    },
    {
     "data": {
      "image/png": "[encoded data removed]",
      "text/plain": [
       "<Figure size 432x288 with 1 Axes>"
      ]
     },
     "metadata": {
      "needs_background": "light"
     },
     "output_type": "display_data"
    }
   ],
   "source": [
    "for report in reports:\n",
    "    report['f1-score'].hist()\n",
    "    plt.show()"
   ]
  },
  {
   "cell_type": "code",
   "execution_count": 12,
   "metadata": {},
   "outputs": [
    {
     "data": {
      "image/png": "[encoded data removed]",
      "text/plain": [
       "<Figure size 432x288 with 1 Axes>"
      ]
     },
     "metadata": {
      "needs_background": "light"
     },
     "output_type": "display_data"
    }
   ],
   "source": [
    "sns.lineplot(y=[report['f1-score'].min() for report in reports], x = range(len(reports)))\n",
    "plt.ylim((0.25,0.45))\n",
    "plt.show()"
   ]
  },
  {
   "cell_type": "code",
   "execution_count": 13,
   "metadata": {},
   "outputs": [
    {
     "data": {
      "image/png": "[encoded data removed]",
      "text/plain": [
       "<Figure size 432x288 with 1 Axes>"
      ]
     },
     "metadata": {
      "needs_background": "light"
     },
     "output_type": "display_data"
    }
   ],
   "source": [
    "sns.lineplot(y=[report['f1-score'].max() for report in reports], x = range(len(reports)))\n",
    "plt.ylim((0.8,1))\n",
    "plt.show()"
   ]
  },
  {
   "cell_type": "code",
   "execution_count": 14,
   "metadata": {},
   "outputs": [
    {
     "data": {
      "image/png": "[encoded data removed]",
      "text/plain": [
       "<Figure size 432x288 with 1 Axes>"
      ]
     },
     "metadata": {
      "needs_background": "light"
     },
     "output_type": "display_data"
    }
   ],
   "source": [
    "sns.lineplot(y=[report['f1-score'].std() for report in reports], x = range(len(reports)))\n",
    "plt.ylim((0,0.15))\n",
    "plt.show()"
   ]
  },
  {
   "cell_type": "code",
   "execution_count": 15,
   "metadata": {
    "pycharm": {
     "name": "#%%\n"
    }
   },
   "outputs": [
    {
     "data": {
      "image/png": "[encoded data removed]",
      "text/plain": [
       "<Figure size 432x288 with 1 Axes>"
      ]
     },
     "metadata": {
      "needs_background": "light"
     },
     "output_type": "display_data"
    }
   ],
   "source": [
    "sns.lineplot(y=[report['f1-score'].mean() for report in reports], x = range(len(reports)))\n",
    "plt.ylim((0.7,0.85))\n",
    "plt.show()"
   ]
  },
  {
   "cell_type": "code",
   "execution_count": 16,
   "metadata": {},
   "outputs": [
    {
     "data": {
      "image/png": "[encoded data removed]",
      "text/plain": [
       "<Figure size 432x288 with 1 Axes>"
      ]
     },
     "metadata": {
      "needs_background": "light"
     },
     "output_type": "display_data"
    }
   ],
   "source": [
    "sns.lineplot(y=[report['f1-score'].median() for report in reports], x = range(len(reports)))\n",
    "plt.ylim((0.7,0.85))\n",
    "plt.show()"
   ]
  },
  {
   "cell_type": "markdown",
   "metadata": {},
   "source": [
    "### Кажется мы достигли предела по качеству для этой модели. 0,7 кажется неполохим показателем, и видно что большинство классов хорошо распознаются."
   ]
  },
  {
   "cell_type": "markdown",
   "metadata": {},
   "source": [
    "### Попробуем готовые модели. Правда они принимаю картинки размером не меньше 32х32 и с 3 каналами, так что придется немного преобразовать наш датасет"
   ]
  },
  {
   "cell_type": "code",
   "execution_count": 3,
   "metadata": {},
   "outputs": [],
   "source": [
    "from PIL import Image\n",
    "\n",
    "FLAT_SIZE = 28*28\n",
    "RESIZED = 56*56*3\n",
    "INT = np.uint8\n",
    "FILEMANE_PATTERN = 'F:\\\\doodles\\\\bucket_{}.csv'\n",
    "\n",
    "def get_dtypes():\n",
    "    return dict(zip(range(FLAT_SIZE), [INT]*FLAT_SIZE))\n",
    "\n",
    "def rgb_and_resize(arr):\n",
    "    img = arr.reshape((28, 28)).astype(INT)\n",
    "    image = Image.fromarray(img).resize((56,56))\n",
    "    image = image.convert('RGB')\n",
    "    return np.array(image).astype(INT)\n",
    "\n",
    "def markup(arr, category):\n",
    "    return np.append(arr, np.array([[category] * arr.shape[0]]).T, axis=1)\n",
    "\n",
    "def convert(df):\n",
    "    converted_arrs = np.zeros((len(df), RESIZED), dtype = INT) \n",
    "    categories = np.array([None] * len(df))\n",
    "    for i in range(len(df)):\n",
    "        rgb = rgb_and_resize(df.loc[[i]].drop(columns=['category']).values)\n",
    "        converted_arrs[i] = rgb.flatten()\n",
    "        categories[i] = df.at[i,'category']\n",
    "    result = pd.DataFrame(converted_arrs)\n",
    "    result['category'] = categories\n",
    "    return result\n",
    "    \n",
    "def load_data(i, num_of_batches):\n",
    "    df = pd.read_csv(FILEMANE_PATTERN.format(str(i)), dtype=get_dtypes())\n",
    "    if num_of_batches > 1:\n",
    "        for j in range(i+1, i+num_of_batches):\n",
    "            df.append(pd.read_csv(FILEMANE_PATTERN.format(str(j)), dtype=get_dtypes()))\n",
    "    df.drop(columns=['Unnamed: 0'], inplace=True)\n",
    "    return convert(df)\n",
    "\n",
    "def load_and_split(i, encoder, test_size = 0.2, num_of_batches=1):\n",
    "    df = load_data(i, num_of_batches)\n",
    "    df[\"category_enc\"] = encoder.transform(df['category'])\n",
    "    y = df['category_enc']\n",
    "    to_drop = ['category', 'category_enc']\n",
    "    return train_test_split(df.drop(columns=to_drop), y, test_size=test_size)"
   ]
  },
  {
   "cell_type": "code",
   "execution_count": 4,
   "metadata": {},
   "outputs": [],
   "source": [
    "reshaped = load_data(0, 1)"
   ]
  },
  {
   "cell_type": "code",
   "execution_count": 5,
   "metadata": {},
   "outputs": [
    {
     "data": {
      "text/html": [
       "<div>\n",
       "<style scoped>\n",
       "    .dataframe tbody tr th:only-of-type {\n",
       "        vertical-align: middle;\n",
       "    }\n",
       "\n",
       "    .dataframe tbody tr th {\n",
       "        vertical-align: top;\n",
       "    }\n",
       "\n",
       "    .dataframe thead th {\n",
       "        text-align: right;\n",
       "    }\n",
       "</style>\n",
       "<table border=\"1\" class=\"dataframe\">\n",
       "  <thead>\n",
       "    <tr style=\"text-align: right;\">\n",
       "      <th></th>\n",
       "      <th>0</th>\n",
       "      <th>1</th>\n",
       "      <th>2</th>\n",
       "      <th>3</th>\n",
       "      <th>4</th>\n",
       "      <th>5</th>\n",
       "      <th>6</th>\n",
       "      <th>7</th>\n",
       "      <th>8</th>\n",
       "      <th>9</th>\n",
       "      <th>...</th>\n",
       "      <th>9399</th>\n",
       "      <th>9400</th>\n",
       "      <th>9401</th>\n",
       "      <th>9402</th>\n",
       "      <th>9403</th>\n",
       "      <th>9404</th>\n",
       "      <th>9405</th>\n",
       "      <th>9406</th>\n",
       "      <th>9407</th>\n",
       "      <th>category</th>\n",
       "    </tr>\n",
       "  </thead>\n",
       "  <tbody>\n",
       "    <tr>\n",
       "      <th>0</th>\n",
       "      <td>0</td>\n",
       "      <td>0</td>\n",
       "      <td>0</td>\n",
       "      <td>0</td>\n",
       "      <td>0</td>\n",
       "      <td>0</td>\n",
       "      <td>0</td>\n",
       "      <td>0</td>\n",
       "      <td>0</td>\n",
       "      <td>0</td>\n",
       "      <td>...</td>\n",
       "      <td>0</td>\n",
       "      <td>0</td>\n",
       "      <td>0</td>\n",
       "      <td>0</td>\n",
       "      <td>0</td>\n",
       "      <td>0</td>\n",
       "      <td>0</td>\n",
       "      <td>0</td>\n",
       "      <td>0</td>\n",
       "      <td>airplane</td>\n",
       "    </tr>\n",
       "    <tr>\n",
       "      <th>1</th>\n",
       "      <td>0</td>\n",
       "      <td>0</td>\n",
       "      <td>0</td>\n",
       "      <td>0</td>\n",
       "      <td>0</td>\n",
       "      <td>0</td>\n",
       "      <td>0</td>\n",
       "      <td>0</td>\n",
       "      <td>0</td>\n",
       "      <td>0</td>\n",
       "      <td>...</td>\n",
       "      <td>0</td>\n",
       "      <td>0</td>\n",
       "      <td>0</td>\n",
       "      <td>0</td>\n",
       "      <td>0</td>\n",
       "      <td>0</td>\n",
       "      <td>0</td>\n",
       "      <td>0</td>\n",
       "      <td>0</td>\n",
       "      <td>airplane</td>\n",
       "    </tr>\n",
       "    <tr>\n",
       "      <th>2</th>\n",
       "      <td>0</td>\n",
       "      <td>0</td>\n",
       "      <td>0</td>\n",
       "      <td>0</td>\n",
       "      <td>0</td>\n",
       "      <td>0</td>\n",
       "      <td>0</td>\n",
       "      <td>0</td>\n",
       "      <td>0</td>\n",
       "      <td>0</td>\n",
       "      <td>...</td>\n",
       "      <td>0</td>\n",
       "      <td>0</td>\n",
       "      <td>0</td>\n",
       "      <td>0</td>\n",
       "      <td>0</td>\n",
       "      <td>0</td>\n",
       "      <td>0</td>\n",
       "      <td>0</td>\n",
       "      <td>0</td>\n",
       "      <td>airplane</td>\n",
       "    </tr>\n",
       "    <tr>\n",
       "      <th>3</th>\n",
       "      <td>0</td>\n",
       "      <td>0</td>\n",
       "      <td>0</td>\n",
       "      <td>0</td>\n",
       "      <td>0</td>\n",
       "      <td>0</td>\n",
       "      <td>0</td>\n",
       "      <td>0</td>\n",
       "      <td>0</td>\n",
       "      <td>0</td>\n",
       "      <td>...</td>\n",
       "      <td>0</td>\n",
       "      <td>0</td>\n",
       "      <td>0</td>\n",
       "      <td>0</td>\n",
       "      <td>0</td>\n",
       "      <td>0</td>\n",
       "      <td>0</td>\n",
       "      <td>0</td>\n",
       "      <td>0</td>\n",
       "      <td>airplane</td>\n",
       "    </tr>\n",
       "    <tr>\n",
       "      <th>4</th>\n",
       "      <td>0</td>\n",
       "      <td>0</td>\n",
       "      <td>0</td>\n",
       "      <td>0</td>\n",
       "      <td>0</td>\n",
       "      <td>0</td>\n",
       "      <td>0</td>\n",
       "      <td>0</td>\n",
       "      <td>0</td>\n",
       "      <td>0</td>\n",
       "      <td>...</td>\n",
       "      <td>0</td>\n",
       "      <td>0</td>\n",
       "      <td>0</td>\n",
       "      <td>0</td>\n",
       "      <td>0</td>\n",
       "      <td>0</td>\n",
       "      <td>0</td>\n",
       "      <td>0</td>\n",
       "      <td>0</td>\n",
       "      <td>airplane</td>\n",
       "    </tr>\n",
       "    <tr>\n",
       "      <th>...</th>\n",
       "      <td>...</td>\n",
       "      <td>...</td>\n",
       "      <td>...</td>\n",
       "      <td>...</td>\n",
       "      <td>...</td>\n",
       "      <td>...</td>\n",
       "      <td>...</td>\n",
       "      <td>...</td>\n",
       "      <td>...</td>\n",
       "      <td>...</td>\n",
       "      <td>...</td>\n",
       "      <td>...</td>\n",
       "      <td>...</td>\n",
       "      <td>...</td>\n",
       "      <td>...</td>\n",
       "      <td>...</td>\n",
       "      <td>...</td>\n",
       "      <td>...</td>\n",
       "      <td>...</td>\n",
       "      <td>...</td>\n",
       "      <td>...</td>\n",
       "    </tr>\n",
       "    <tr>\n",
       "      <th>173447</th>\n",
       "      <td>0</td>\n",
       "      <td>0</td>\n",
       "      <td>0</td>\n",
       "      <td>0</td>\n",
       "      <td>0</td>\n",
       "      <td>0</td>\n",
       "      <td>0</td>\n",
       "      <td>0</td>\n",
       "      <td>0</td>\n",
       "      <td>0</td>\n",
       "      <td>...</td>\n",
       "      <td>0</td>\n",
       "      <td>0</td>\n",
       "      <td>0</td>\n",
       "      <td>0</td>\n",
       "      <td>0</td>\n",
       "      <td>0</td>\n",
       "      <td>0</td>\n",
       "      <td>0</td>\n",
       "      <td>0</td>\n",
       "      <td>zigzag</td>\n",
       "    </tr>\n",
       "    <tr>\n",
       "      <th>173448</th>\n",
       "      <td>0</td>\n",
       "      <td>0</td>\n",
       "      <td>0</td>\n",
       "      <td>0</td>\n",
       "      <td>0</td>\n",
       "      <td>0</td>\n",
       "      <td>0</td>\n",
       "      <td>0</td>\n",
       "      <td>0</td>\n",
       "      <td>0</td>\n",
       "      <td>...</td>\n",
       "      <td>0</td>\n",
       "      <td>0</td>\n",
       "      <td>0</td>\n",
       "      <td>0</td>\n",
       "      <td>0</td>\n",
       "      <td>0</td>\n",
       "      <td>0</td>\n",
       "      <td>0</td>\n",
       "      <td>0</td>\n",
       "      <td>zigzag</td>\n",
       "    </tr>\n",
       "    <tr>\n",
       "      <th>173449</th>\n",
       "      <td>0</td>\n",
       "      <td>0</td>\n",
       "      <td>0</td>\n",
       "      <td>0</td>\n",
       "      <td>0</td>\n",
       "      <td>0</td>\n",
       "      <td>0</td>\n",
       "      <td>0</td>\n",
       "      <td>0</td>\n",
       "      <td>0</td>\n",
       "      <td>...</td>\n",
       "      <td>0</td>\n",
       "      <td>0</td>\n",
       "      <td>0</td>\n",
       "      <td>0</td>\n",
       "      <td>0</td>\n",
       "      <td>0</td>\n",
       "      <td>0</td>\n",
       "      <td>0</td>\n",
       "      <td>0</td>\n",
       "      <td>zigzag</td>\n",
       "    </tr>\n",
       "    <tr>\n",
       "      <th>173450</th>\n",
       "      <td>0</td>\n",
       "      <td>0</td>\n",
       "      <td>0</td>\n",
       "      <td>0</td>\n",
       "      <td>0</td>\n",
       "      <td>0</td>\n",
       "      <td>0</td>\n",
       "      <td>0</td>\n",
       "      <td>0</td>\n",
       "      <td>0</td>\n",
       "      <td>...</td>\n",
       "      <td>0</td>\n",
       "      <td>0</td>\n",
       "      <td>0</td>\n",
       "      <td>0</td>\n",
       "      <td>0</td>\n",
       "      <td>0</td>\n",
       "      <td>0</td>\n",
       "      <td>0</td>\n",
       "      <td>0</td>\n",
       "      <td>zigzag</td>\n",
       "    </tr>\n",
       "    <tr>\n",
       "      <th>173451</th>\n",
       "      <td>0</td>\n",
       "      <td>0</td>\n",
       "      <td>0</td>\n",
       "      <td>0</td>\n",
       "      <td>0</td>\n",
       "      <td>0</td>\n",
       "      <td>0</td>\n",
       "      <td>0</td>\n",
       "      <td>0</td>\n",
       "      <td>0</td>\n",
       "      <td>...</td>\n",
       "      <td>0</td>\n",
       "      <td>0</td>\n",
       "      <td>0</td>\n",
       "      <td>0</td>\n",
       "      <td>0</td>\n",
       "      <td>0</td>\n",
       "      <td>0</td>\n",
       "      <td>0</td>\n",
       "      <td>0</td>\n",
       "      <td>zigzag</td>\n",
       "    </tr>\n",
       "  </tbody>\n",
       "</table>\n",
       "<p>173452 rows × 9409 columns</p>\n",
       "</div>"
      ],
      "text/plain": [
       "        0  1  2  3  4  5  6  7  8  9  ...  9399  9400  9401  9402  9403  9404  \\\n",
       "0       0  0  0  0  0  0  0  0  0  0  ...     0     0     0     0     0     0   \n",
       "1       0  0  0  0  0  0  0  0  0  0  ...     0     0     0     0     0     0   \n",
       "2       0  0  0  0  0  0  0  0  0  0  ...     0     0     0     0     0     0   \n",
       "3       0  0  0  0  0  0  0  0  0  0  ...     0     0     0     0     0     0   \n",
       "4       0  0  0  0  0  0  0  0  0  0  ...     0     0     0     0     0     0   \n",
       "...    .. .. .. .. .. .. .. .. .. ..  ...   ...   ...   ...   ...   ...   ...   \n",
       "173447  0  0  0  0  0  0  0  0  0  0  ...     0     0     0     0     0     0   \n",
       "173448  0  0  0  0  0  0  0  0  0  0  ...     0     0     0     0     0     0   \n",
       "173449  0  0  0  0  0  0  0  0  0  0  ...     0     0     0     0     0     0   \n",
       "173450  0  0  0  0  0  0  0  0  0  0  ...     0     0     0     0     0     0   \n",
       "173451  0  0  0  0  0  0  0  0  0  0  ...     0     0     0     0     0     0   \n",
       "\n",
       "        9405  9406  9407  category  \n",
       "0          0     0     0  airplane  \n",
       "1          0     0     0  airplane  \n",
       "2          0     0     0  airplane  \n",
       "3          0     0     0  airplane  \n",
       "4          0     0     0  airplane  \n",
       "...      ...   ...   ...       ...  \n",
       "173447     0     0     0    zigzag  \n",
       "173448     0     0     0    zigzag  \n",
       "173449     0     0     0    zigzag  \n",
       "173450     0     0     0    zigzag  \n",
       "173451     0     0     0    zigzag  \n",
       "\n",
       "[173452 rows x 9409 columns]"
      ]
     },
     "execution_count": 5,
     "metadata": {},
     "output_type": "execute_result"
    }
   ],
   "source": [
    "reshaped"
   ]
  },
  {
   "cell_type": "code",
   "execution_count": 6,
   "metadata": {},
   "outputs": [],
   "source": [
    "from sklearn.model_selection import train_test_split\n",
    "from sklearn.preprocessing import LabelEncoder\n",
    "\n",
    "le = LabelEncoder()\n",
    "le.fit_transform(reshaped['category'])\n",
    "reshaped[\"category_enc\"] = le.transform(reshaped['category'])\n",
    "y = reshaped['category_enc']\n",
    "to_drop = ['category', 'category_enc']\n",
    "X_train, X_test, y_train, y_test = train_test_split(reshaped.drop(columns=to_drop), y, test_size=0.2,random_state=42)"
   ]
  },
  {
   "cell_type": "code",
   "execution_count": 13,
   "metadata": {},
   "outputs": [
    {
     "name": "stdout",
     "output_type": "stream",
     "text": [
      "WARNING:tensorflow:`input_shape` is undefined or non-square, or `rows` is not in [128, 160, 192, 224]. Weights for input shape (224, 224) will be loaded as the default.\n"
     ]
    }
   ],
   "source": [
    "from tensorflow.keras.applications.mobilenet import MobileNet\n",
    "import tensorflow as tf\n",
    "from tensorflow import keras\n",
    "from tensorflow.keras.metrics import top_k_categorical_accuracy\n",
    "\n",
    "tf.config.experimental.set_memory_growth(tf.config.get_visible_devices('GPU')[0], True)\n",
    "\n",
    "CATEGORIES = len(reshaped['category'].unique())\n",
    "\n",
    "\n",
    "inputs = keras.layers.Input(shape=(RESIZED,))\n",
    "reshape = keras.layers.Reshape((56,56,3), input_shape=(RESIZED,))(inputs)\n",
    "rescale = keras.layers.experimental.preprocessing.Rescaling(scale=1./255.)(reshape)\n",
    "\n",
    "base_model = MobileNet(include_top=False,\n",
    "                       weights='imagenet',\n",
    "                       input_shape=(56, 56, 3),\n",
    "                       dropout=0.4,\n",
    "                       classes=CATEGORIES)(rescale)\n",
    "\n",
    "pool = tf.keras.layers.GlobalMaxPool2D()(base_model)\n",
    "\n",
    "predictions = tf.keras.layers.Dense(CATEGORIES, activation='softmax')(pool)\n",
    "\n",
    "model = tf.keras.Model(inputs=inputs, outputs=predictions)\n",
    "model.compile(optimizer='adam',\n",
    "              loss='sparse_categorical_crossentropy',\n",
    "              metrics=['accuracy'])\n",
    "\n",
    "hist = model.fit(X_train, y_train,epochs=10, batch_size=250, validation_data=(X_test, y_test))"
   ]
  },
  {
   "cell_type": "code",
   "execution_count": 12,
   "metadata": {},
   "outputs": [],
   "source": [
    "free([X_train, X_test, y_train, y_test, reshaped])"
   ]
  },
  {
   "cell_type": "markdown",
   "metadata": {},
   "source": [
    "### Попробовав mobilenet, mobilenetV2, efficientnet, resnet, Xeption было решено остановиться на mobilenet. Она показывала более стабильный результат. Некоторые модели за 2 эпохи переобучались до 0.6 на тренировочной выборке и 0.05 на тестовой"
   ]
  },
  {
   "cell_type": "code",
   "execution_count": 47,
   "metadata": {},
   "outputs": [
    {
     "data": {
      "image/png": "[encoded data removed]",
      "text/plain": [
       "<Figure size 432x288 with 1 Axes>"
      ]
     },
     "metadata": {
      "needs_background": "light"
     },
     "output_type": "display_data"
    },
    {
     "data": {
      "image/png": "[encoded data removed]",
      "text/plain": [
       "<Figure size 432x288 with 1 Axes>"
      ]
     },
     "metadata": {
      "needs_background": "light"
     },
     "output_type": "display_data"
    }
   ],
   "source": [
    "visualize(hist)"
   ]
  },
  {
   "cell_type": "code",
   "execution_count": 8,
   "metadata": {},
   "outputs": [
    {
     "data": {
      "image/png": "[encoded data removed]",
      "text/plain": [
       "<Figure size 432x288 with 1 Axes>"
      ]
     },
     "metadata": {
      "needs_background": "light"
     },
     "output_type": "display_data"
    },
    {
     "data": {
      "image/png": "[encoded data removed]",
      "text/plain": [
       "<Figure size 432x288 with 1 Axes>"
      ]
     },
     "metadata": {
      "needs_background": "light"
     },
     "output_type": "display_data"
    }
   ],
   "source": [
    "def visualize(history):\n",
    "    plt.plot(history.history['accuracy'])\n",
    "    plt.plot(history.history['val_accuracy'])\n",
    "    plt.title('model accuracy')\n",
    "    plt.ylabel('accuracy')\n",
    "    plt.xlabel('epoch')\n",
    "    plt.legend(['train', 'test'], loc='upper left')\n",
    "    plt.show()\n",
    "    plt.plot(history.history['loss'])\n",
    "    plt.plot(history.history['val_loss'])\n",
    "    plt.title('model loss')\n",
    "    plt.ylabel('loss')\n",
    "    plt.xlabel('epoch')\n",
    "    plt.legend(['train', 'test'], loc='upper left')\n",
    "    plt.show()\n",
    "\n",
    "visualize(hist)"
   ]
  },
  {
   "cell_type": "code",
   "execution_count": 15,
   "metadata": {},
   "outputs": [
    {
     "name": "stderr",
     "output_type": "stream",
     "text": [
      "\r",
      "  0%|          | 0/239 [00:00<?, ?it/s]"
     ]
    },
    {
     "name": "stdout",
     "output_type": "stream",
     "text": [
      "Epoch 1/6\n",
      "555/555 [==============================] - 22s 40ms/step - loss: 1.0715 - accuracy: 0.7237 - val_loss: 5.6831 - val_accuracy: 0.0029\n",
      "Epoch 2/6\n",
      "555/555 [==============================] - 22s 40ms/step - loss: 0.7142 - accuracy: 0.8044 - val_loss: 5.6835 - val_accuracy: 0.0029\n",
      "Epoch 3/6\n",
      "555/555 [==============================] - 22s 40ms/step - loss: 0.5312 - accuracy: 0.8492 - val_loss: 5.6838 - val_accuracy: 0.0029\n",
      "Epoch 4/6\n",
      "555/555 [==============================] - 22s 40ms/step - loss: 0.4081 - accuracy: 0.8814 - val_loss: 5.6841 - val_accuracy: 0.0029\n",
      "Epoch 5/6\n",
      "555/555 [==============================] - 22s 40ms/step - loss: 0.3275 - accuracy: 0.9031 - val_loss: 5.6843 - val_accuracy: 0.0029\n",
      "Epoch 6/6\n",
      "555/555 [==============================] - 22s 40ms/step - loss: 0.2713 - accuracy: 0.9187 - val_loss: 5.6845 - val_accuracy: 0.0029\n"
     ]
    },
    {
     "name": "stderr",
     "output_type": "stream",
     "text": [
      "  0%|          | 1/239 [05:34<22:07:07, 334.57s/it]"
     ]
    },
    {
     "name": "stdout",
     "output_type": "stream",
     "text": [
      "Stopped. Current bucket is 12\n"
     ]
    },
    {
     "name": "stderr",
     "output_type": "stream",
     "text": [
      "\n"
     ]
    }
   ],
   "source": [
    "file = 'F:\\\\doodles\\\\mobilenet'\n",
    "for i in tqdm(range(11, 250)):\n",
    "    try:\n",
    "        X_train, X_test, y_train, y_test = load_and_split(i, le)\n",
    "        hist = model.fit(X_train, y_train, epochs=6, batch_size=250, validation_data=(X_test, y_test))\n",
    "        \n",
    "        if i % 5 == 0:\n",
    "            model.save(file)  \n",
    "            \n",
    "        free([X_train, X_test, y_train, y_test])\n",
    "        \n",
    "    except KeyboardInterrupt:\n",
    "        print(\"Stopped. Current bucket is {}\".format(str(i)))\n",
    "        break"
   ]
  },
  {
   "cell_type": "markdown",
   "metadata": {},
   "source": [
    "### Примерно на 8 бакете произошел резкое падение точности на тестовой выборке почти до нуля. Изучив разные источники, возможной причиной может оказаться слишком высокий дропаут (По умолчанию он около 0.001, а я выставил на 0.4). Придется начать сначала умешнив значение."
   ]
  },
  {
   "cell_type": "markdown",
   "metadata": {},
   "source": [
    "### Попробовал еще раз с дефолтным дропаутом и то же самое. Возможно проблема в оптимизаторе или начальных весах."
   ]
  },
  {
   "cell_type": "code",
   "execution_count": 7,
   "metadata": {},
   "outputs": [],
   "source": [
    "from tensorflow.keras.applications.mobilenet import MobileNet\n",
    "import tensorflow as tf\n",
    "from tensorflow import keras\n",
    "from tensorflow.keras.metrics import top_k_categorical_accuracy\n",
    "\n",
    "tf.config.experimental.set_memory_growth(tf.config.get_visible_devices('GPU')[0], True)\n",
    "\n",
    "CATEGORIES = len(reshaped['category'].unique())\n",
    "\n",
    "\n",
    "inputs = keras.layers.Input(shape=(RESIZED,))\n",
    "reshape = keras.layers.Reshape((56,56,3), input_shape=(RESIZED,))(inputs)\n",
    "rescale = keras.layers.experimental.preprocessing.Rescaling(scale=1./255.)(reshape)\n",
    "\n",
    "base_model = MobileNet(include_top=False,\n",
    "                       weights=None,\n",
    "                       input_shape=(56, 56, 3),\n",
    "                       classes=CATEGORIES)(rescale)\n",
    "\n",
    "pool = tf.keras.layers.GlobalMaxPool2D()(base_model)\n",
    "\n",
    "predictions = tf.keras.layers.Dense(CATEGORIES, activation='softmax')(pool)\n",
    "\n",
    "model = tf.keras.Model(inputs=inputs, outputs=predictions)\n",
    "model.compile(optimizer='adam',\n",
    "              loss='sparse_categorical_crossentropy',\n",
    "              metrics=['accuracy'])"
   ]
  },
  {
   "cell_type": "code",
   "execution_count": 52,
   "metadata": {},
   "outputs": [],
   "source": [
    "import random\n",
    "from tensorflow.keras.applications.mobilenet import preprocess_input\n",
    "\n",
    "MAX_VALUE = 130_000\n",
    "MAX_FILE_NUM = 200\n",
    "FILEMANE_PATTERN = 'F:\\\\doodles\\\\bucket_{}.csv'\n",
    "\n",
    "def data_generator(encoder, batch_size=500):\n",
    "    while True:\n",
    "        file_num = random.randint(0, MAX_FILE_NUM)\n",
    "        skip = sorted(random.sample(range(1,MAX_VALUE), MAX_VALUE - batch_size))\n",
    "        df = pd.read_csv(FILEMANE_PATTERN.format(str(file_num)),\n",
    "                         skiprows=skip,\n",
    "                         nrows=batch_size,\n",
    "                         dtype=get_dtypes())\n",
    "        df.drop(columns=['Unnamed: 0'], inplace= True)\n",
    "        df = convert(df)\n",
    "        df[\"category_enc\"] = encoder.transform(df['category'])\n",
    "        y = df['category_enc']\n",
    "        to_drop = ['category', 'category_enc']\n",
    "        yield preprocess_input(df.drop(columns=to_drop)).values, y.values\n",
    "        \n",
    "gen = data_generator(le, batch_size=2000)"
   ]
  },
  {
   "cell_type": "code",
   "execution_count": 53,
   "metadata": {},
   "outputs": [
    {
     "data": {
      "text/plain": [
       "(array([[-1., -1., -1., ..., -1., -1., -1.],\n",
       "        [-1., -1., -1., ..., -1., -1., -1.],\n",
       "        [-1., -1., -1., ..., -1., -1., -1.],\n",
       "        ...,\n",
       "        [-1., -1., -1., ..., -1., -1., -1.],\n",
       "        [-1., -1., -1., ..., -1., -1., -1.],\n",
       "        [-1., -1., -1., ..., -1., -1., -1.]]),\n",
       " array([  0,   0,   0, ..., 218, 218, 218]))"
      ]
     },
     "execution_count": 53,
     "metadata": {},
     "output_type": "execute_result"
    }
   ],
   "source": [
    "next(gen)"
   ]
  },
  {
   "cell_type": "code",
   "execution_count": 20,
   "metadata": {},
   "outputs": [],
   "source": [
    "def get_val_data(encoder, i=249):\n",
    "    df = load_data(i, 1)\n",
    "    df[\"category_enc\"] = encoder.transform(df['category'])\n",
    "    y = df['category_enc']\n",
    "    to_drop = ['category', 'category_enc']\n",
    "    return df.drop(columns=to_drop), y\n",
    "\n",
    "X_val, y_val = get_val_data(le)"
   ]
  },
  {
   "cell_type": "code",
   "execution_count": 58,
   "metadata": {},
   "outputs": [
    {
     "ename": "MemoryError",
     "evalue": "Unable to allocate 144. MiB for an array with shape (9408, 2000) and data type float64",
     "output_type": "error",
     "traceback": [
      "\u001B[1;31m---------------------------------------------------------------------------\u001B[0m",
      "\u001B[1;31mMemoryError\u001B[0m                               Traceback (most recent call last)",
      "\u001B[1;32m<ipython-input-58-aaa88f2a9d1c>\u001B[0m in \u001B[0;36m<module>\u001B[1;34m\u001B[0m\n\u001B[0;32m      1\u001B[0m \u001B[1;32mtry\u001B[0m\u001B[1;33m:\u001B[0m\u001B[1;33m\u001B[0m\u001B[1;33m\u001B[0m\u001B[0m\n\u001B[1;32m----> 2\u001B[1;33m     hist = model.fit(x=gen,\n\u001B[0m\u001B[0;32m      3\u001B[0m                  \u001B[0mepochs\u001B[0m\u001B[1;33m=\u001B[0m\u001B[1;36m15\u001B[0m\u001B[1;33m,\u001B[0m\u001B[1;33m\u001B[0m\u001B[1;33m\u001B[0m\u001B[0m\n\u001B[0;32m      4\u001B[0m                  \u001B[0msteps_per_epoch\u001B[0m\u001B[1;33m=\u001B[0m\u001B[1;36m50\u001B[0m\u001B[1;33m,\u001B[0m\u001B[1;33m\u001B[0m\u001B[1;33m\u001B[0m\u001B[0m\n\u001B[0;32m      5\u001B[0m                  validation_data=(X_val, y_val))\n",
      "\u001B[1;32mc:\\users\\михаил\\pycharmprojects\\guess-draw\\venv\\lib\\site-packages\\tensorflow\\python\\keras\\engine\\training.py\u001B[0m in \u001B[0;36mfit\u001B[1;34m(self, x, y, batch_size, epochs, verbose, callbacks, validation_split, validation_data, shuffle, class_weight, sample_weight, initial_epoch, steps_per_epoch, validation_steps, validation_batch_size, validation_freq, max_queue_size, workers, use_multiprocessing)\u001B[0m\n\u001B[0;32m   1048\u001B[0m          \u001B[0mtraining_utils\u001B[0m\u001B[1;33m.\u001B[0m\u001B[0mRespectCompiledTrainableState\u001B[0m\u001B[1;33m(\u001B[0m\u001B[0mself\u001B[0m\u001B[1;33m)\u001B[0m\u001B[1;33m:\u001B[0m\u001B[1;33m\u001B[0m\u001B[1;33m\u001B[0m\u001B[0m\n\u001B[0;32m   1049\u001B[0m       \u001B[1;31m# Creates a `tf.data.Dataset` and handles batch and epoch iteration.\u001B[0m\u001B[1;33m\u001B[0m\u001B[1;33m\u001B[0m\u001B[1;33m\u001B[0m\u001B[0m\n\u001B[1;32m-> 1050\u001B[1;33m       data_handler = data_adapter.DataHandler(\n\u001B[0m\u001B[0;32m   1051\u001B[0m           \u001B[0mx\u001B[0m\u001B[1;33m=\u001B[0m\u001B[0mx\u001B[0m\u001B[1;33m,\u001B[0m\u001B[1;33m\u001B[0m\u001B[1;33m\u001B[0m\u001B[0m\n\u001B[0;32m   1052\u001B[0m           \u001B[0my\u001B[0m\u001B[1;33m=\u001B[0m\u001B[0my\u001B[0m\u001B[1;33m,\u001B[0m\u001B[1;33m\u001B[0m\u001B[1;33m\u001B[0m\u001B[0m\n",
      "\u001B[1;32mc:\\users\\михаил\\pycharmprojects\\guess-draw\\venv\\lib\\site-packages\\tensorflow\\python\\keras\\engine\\data_adapter.py\u001B[0m in \u001B[0;36m__init__\u001B[1;34m(self, x, y, sample_weight, batch_size, steps_per_epoch, initial_epoch, epochs, shuffle, class_weight, max_queue_size, workers, use_multiprocessing, model, steps_per_execution)\u001B[0m\n\u001B[0;32m   1098\u001B[0m \u001B[1;33m\u001B[0m\u001B[0m\n\u001B[0;32m   1099\u001B[0m     \u001B[0madapter_cls\u001B[0m \u001B[1;33m=\u001B[0m \u001B[0mselect_data_adapter\u001B[0m\u001B[1;33m(\u001B[0m\u001B[0mx\u001B[0m\u001B[1;33m,\u001B[0m \u001B[0my\u001B[0m\u001B[1;33m)\u001B[0m\u001B[1;33m\u001B[0m\u001B[1;33m\u001B[0m\u001B[0m\n\u001B[1;32m-> 1100\u001B[1;33m     self._adapter = adapter_cls(\n\u001B[0m\u001B[0;32m   1101\u001B[0m         \u001B[0mx\u001B[0m\u001B[1;33m,\u001B[0m\u001B[1;33m\u001B[0m\u001B[1;33m\u001B[0m\u001B[0m\n\u001B[0;32m   1102\u001B[0m         \u001B[0my\u001B[0m\u001B[1;33m,\u001B[0m\u001B[1;33m\u001B[0m\u001B[1;33m\u001B[0m\u001B[0m\n",
      "\u001B[1;32mc:\\users\\михаил\\pycharmprojects\\guess-draw\\venv\\lib\\site-packages\\tensorflow\\python\\keras\\engine\\data_adapter.py\u001B[0m in \u001B[0;36m__init__\u001B[1;34m(self, x, y, sample_weights, workers, use_multiprocessing, max_queue_size, model, **kwargs)\u001B[0m\n\u001B[0;32m    777\u001B[0m     \u001B[1;31m# Since we have to know the dtype of the python generator when we build the\u001B[0m\u001B[1;33m\u001B[0m\u001B[1;33m\u001B[0m\u001B[1;33m\u001B[0m\u001B[0m\n\u001B[0;32m    778\u001B[0m     \u001B[1;31m# dataset, we have to look at a batch to infer the structure.\u001B[0m\u001B[1;33m\u001B[0m\u001B[1;33m\u001B[0m\u001B[1;33m\u001B[0m\u001B[0m\n\u001B[1;32m--> 779\u001B[1;33m     \u001B[0mpeek\u001B[0m\u001B[1;33m,\u001B[0m \u001B[0mx\u001B[0m \u001B[1;33m=\u001B[0m \u001B[0mself\u001B[0m\u001B[1;33m.\u001B[0m\u001B[0m_peek_and_restore\u001B[0m\u001B[1;33m(\u001B[0m\u001B[0mx\u001B[0m\u001B[1;33m)\u001B[0m\u001B[1;33m\u001B[0m\u001B[1;33m\u001B[0m\u001B[0m\n\u001B[0m\u001B[0;32m    780\u001B[0m     \u001B[0mpeek\u001B[0m \u001B[1;33m=\u001B[0m \u001B[0mself\u001B[0m\u001B[1;33m.\u001B[0m\u001B[0m_standardize_batch\u001B[0m\u001B[1;33m(\u001B[0m\u001B[0mpeek\u001B[0m\u001B[1;33m)\u001B[0m\u001B[1;33m\u001B[0m\u001B[1;33m\u001B[0m\u001B[0m\n\u001B[0;32m    781\u001B[0m     \u001B[0mpeek\u001B[0m \u001B[1;33m=\u001B[0m \u001B[0m_process_tensorlike\u001B[0m\u001B[1;33m(\u001B[0m\u001B[0mpeek\u001B[0m\u001B[1;33m)\u001B[0m\u001B[1;33m\u001B[0m\u001B[1;33m\u001B[0m\u001B[0m\n",
      "\u001B[1;32mc:\\users\\михаил\\pycharmprojects\\guess-draw\\venv\\lib\\site-packages\\tensorflow\\python\\keras\\engine\\data_adapter.py\u001B[0m in \u001B[0;36m_peek_and_restore\u001B[1;34m(x)\u001B[0m\n\u001B[0;32m    834\u001B[0m   \u001B[1;33m@\u001B[0m\u001B[0mstaticmethod\u001B[0m\u001B[1;33m\u001B[0m\u001B[1;33m\u001B[0m\u001B[0m\n\u001B[0;32m    835\u001B[0m   \u001B[1;32mdef\u001B[0m \u001B[0m_peek_and_restore\u001B[0m\u001B[1;33m(\u001B[0m\u001B[0mx\u001B[0m\u001B[1;33m)\u001B[0m\u001B[1;33m:\u001B[0m\u001B[1;33m\u001B[0m\u001B[1;33m\u001B[0m\u001B[0m\n\u001B[1;32m--> 836\u001B[1;33m     \u001B[0mpeek\u001B[0m \u001B[1;33m=\u001B[0m \u001B[0mnext\u001B[0m\u001B[1;33m(\u001B[0m\u001B[0mx\u001B[0m\u001B[1;33m)\u001B[0m\u001B[1;33m\u001B[0m\u001B[1;33m\u001B[0m\u001B[0m\n\u001B[0m\u001B[0;32m    837\u001B[0m     \u001B[1;32mreturn\u001B[0m \u001B[0mpeek\u001B[0m\u001B[1;33m,\u001B[0m \u001B[0mitertools\u001B[0m\u001B[1;33m.\u001B[0m\u001B[0mchain\u001B[0m\u001B[1;33m(\u001B[0m\u001B[1;33m[\u001B[0m\u001B[0mpeek\u001B[0m\u001B[1;33m]\u001B[0m\u001B[1;33m,\u001B[0m \u001B[0mx\u001B[0m\u001B[1;33m)\u001B[0m\u001B[1;33m\u001B[0m\u001B[1;33m\u001B[0m\u001B[0m\n\u001B[0;32m    838\u001B[0m \u001B[1;33m\u001B[0m\u001B[0m\n",
      "\u001B[1;32m<ipython-input-52-c9789f472161>\u001B[0m in \u001B[0;36mdata_generator\u001B[1;34m(encoder, batch_size)\u001B[0m\n\u001B[0;32m     19\u001B[0m         \u001B[0my\u001B[0m \u001B[1;33m=\u001B[0m \u001B[0mdf\u001B[0m\u001B[1;33m[\u001B[0m\u001B[1;34m'category_enc'\u001B[0m\u001B[1;33m]\u001B[0m\u001B[1;33m\u001B[0m\u001B[1;33m\u001B[0m\u001B[0m\n\u001B[0;32m     20\u001B[0m         \u001B[0mto_drop\u001B[0m \u001B[1;33m=\u001B[0m \u001B[1;33m[\u001B[0m\u001B[1;34m'category'\u001B[0m\u001B[1;33m,\u001B[0m \u001B[1;34m'category_enc'\u001B[0m\u001B[1;33m]\u001B[0m\u001B[1;33m\u001B[0m\u001B[1;33m\u001B[0m\u001B[0m\n\u001B[1;32m---> 21\u001B[1;33m         \u001B[1;32myield\u001B[0m \u001B[0mpreprocess_input\u001B[0m\u001B[1;33m(\u001B[0m\u001B[0mdf\u001B[0m\u001B[1;33m.\u001B[0m\u001B[0mdrop\u001B[0m\u001B[1;33m(\u001B[0m\u001B[0mcolumns\u001B[0m\u001B[1;33m=\u001B[0m\u001B[0mto_drop\u001B[0m\u001B[1;33m)\u001B[0m\u001B[1;33m)\u001B[0m\u001B[1;33m.\u001B[0m\u001B[0mvalues\u001B[0m\u001B[1;33m,\u001B[0m \u001B[0my\u001B[0m\u001B[1;33m.\u001B[0m\u001B[0mvalues\u001B[0m\u001B[1;33m\u001B[0m\u001B[1;33m\u001B[0m\u001B[0m\n\u001B[0m\u001B[0;32m     22\u001B[0m \u001B[1;33m\u001B[0m\u001B[0m\n\u001B[0;32m     23\u001B[0m \u001B[0mgen\u001B[0m \u001B[1;33m=\u001B[0m \u001B[0mdata_generator\u001B[0m\u001B[1;33m(\u001B[0m\u001B[0mle\u001B[0m\u001B[1;33m,\u001B[0m \u001B[0mbatch_size\u001B[0m\u001B[1;33m=\u001B[0m\u001B[1;36m2000\u001B[0m\u001B[1;33m)\u001B[0m\u001B[1;33m\u001B[0m\u001B[1;33m\u001B[0m\u001B[0m\n",
      "\u001B[1;32mc:\\users\\михаил\\pycharmprojects\\guess-draw\\venv\\lib\\site-packages\\tensorflow\\python\\keras\\applications\\mobilenet.py\u001B[0m in \u001B[0;36mpreprocess_input\u001B[1;34m(x, data_format)\u001B[0m\n\u001B[0;32m    443\u001B[0m \u001B[1;33m@\u001B[0m\u001B[0mkeras_export\u001B[0m\u001B[1;33m(\u001B[0m\u001B[1;34m'keras.applications.mobilenet.preprocess_input'\u001B[0m\u001B[1;33m)\u001B[0m\u001B[1;33m\u001B[0m\u001B[1;33m\u001B[0m\u001B[0m\n\u001B[0;32m    444\u001B[0m \u001B[1;32mdef\u001B[0m \u001B[0mpreprocess_input\u001B[0m\u001B[1;33m(\u001B[0m\u001B[0mx\u001B[0m\u001B[1;33m,\u001B[0m \u001B[0mdata_format\u001B[0m\u001B[1;33m=\u001B[0m\u001B[1;32mNone\u001B[0m\u001B[1;33m)\u001B[0m\u001B[1;33m:\u001B[0m\u001B[1;33m\u001B[0m\u001B[1;33m\u001B[0m\u001B[0m\n\u001B[1;32m--> 445\u001B[1;33m   \u001B[1;32mreturn\u001B[0m \u001B[0mimagenet_utils\u001B[0m\u001B[1;33m.\u001B[0m\u001B[0mpreprocess_input\u001B[0m\u001B[1;33m(\u001B[0m\u001B[0mx\u001B[0m\u001B[1;33m,\u001B[0m \u001B[0mdata_format\u001B[0m\u001B[1;33m=\u001B[0m\u001B[0mdata_format\u001B[0m\u001B[1;33m,\u001B[0m \u001B[0mmode\u001B[0m\u001B[1;33m=\u001B[0m\u001B[1;34m'tf'\u001B[0m\u001B[1;33m)\u001B[0m\u001B[1;33m\u001B[0m\u001B[1;33m\u001B[0m\u001B[0m\n\u001B[0m\u001B[0;32m    446\u001B[0m \u001B[1;33m\u001B[0m\u001B[0m\n\u001B[0;32m    447\u001B[0m \u001B[1;33m\u001B[0m\u001B[0m\n",
      "\u001B[1;32mc:\\users\\михаил\\pycharmprojects\\guess-draw\\venv\\lib\\site-packages\\tensorflow\\python\\keras\\applications\\imagenet_utils.py\u001B[0m in \u001B[0;36mpreprocess_input\u001B[1;34m(x, data_format, mode)\u001B[0m\n\u001B[0;32m    116\u001B[0m         x, data_format=data_format, mode=mode)\n\u001B[0;32m    117\u001B[0m   \u001B[1;32melse\u001B[0m\u001B[1;33m:\u001B[0m\u001B[1;33m\u001B[0m\u001B[1;33m\u001B[0m\u001B[0m\n\u001B[1;32m--> 118\u001B[1;33m     return _preprocess_symbolic_input(\n\u001B[0m\u001B[0;32m    119\u001B[0m         x, data_format=data_format, mode=mode)\n\u001B[0;32m    120\u001B[0m \u001B[1;33m\u001B[0m\u001B[0m\n",
      "\u001B[1;32mc:\\users\\михаил\\pycharmprojects\\guess-draw\\venv\\lib\\site-packages\\tensorflow\\python\\keras\\applications\\imagenet_utils.py\u001B[0m in \u001B[0;36m_preprocess_symbolic_input\u001B[1;34m(x, data_format, mode)\u001B[0m\n\u001B[0;32m    261\u001B[0m   \"\"\"\n\u001B[0;32m    262\u001B[0m   \u001B[1;32mif\u001B[0m \u001B[0mmode\u001B[0m \u001B[1;33m==\u001B[0m \u001B[1;34m'tf'\u001B[0m\u001B[1;33m:\u001B[0m\u001B[1;33m\u001B[0m\u001B[1;33m\u001B[0m\u001B[0m\n\u001B[1;32m--> 263\u001B[1;33m     \u001B[0mx\u001B[0m \u001B[1;33m/=\u001B[0m \u001B[1;36m127.5\u001B[0m\u001B[1;33m\u001B[0m\u001B[1;33m\u001B[0m\u001B[0m\n\u001B[0m\u001B[0;32m    264\u001B[0m     \u001B[0mx\u001B[0m \u001B[1;33m-=\u001B[0m \u001B[1;36m1.\u001B[0m\u001B[1;33m\u001B[0m\u001B[1;33m\u001B[0m\u001B[0m\n\u001B[0;32m    265\u001B[0m     \u001B[1;32mreturn\u001B[0m \u001B[0mx\u001B[0m\u001B[1;33m\u001B[0m\u001B[1;33m\u001B[0m\u001B[0m\n",
      "\u001B[1;32mc:\\users\\михаил\\pycharmprojects\\guess-draw\\venv\\lib\\site-packages\\pandas\\core\\generic.py\u001B[0m in \u001B[0;36m__itruediv__\u001B[1;34m(self, other)\u001B[0m\n\u001B[0;32m  11329\u001B[0m \u001B[1;33m\u001B[0m\u001B[0m\n\u001B[0;32m  11330\u001B[0m     \u001B[1;32mdef\u001B[0m \u001B[0m__itruediv__\u001B[0m\u001B[1;33m(\u001B[0m\u001B[0mself\u001B[0m\u001B[1;33m,\u001B[0m \u001B[0mother\u001B[0m\u001B[1;33m)\u001B[0m\u001B[1;33m:\u001B[0m\u001B[1;33m\u001B[0m\u001B[1;33m\u001B[0m\u001B[0m\n\u001B[1;32m> 11331\u001B[1;33m         return self._inplace_method(\n\u001B[0m\u001B[0;32m  11332\u001B[0m             \u001B[0mother\u001B[0m\u001B[1;33m,\u001B[0m \u001B[0mtype\u001B[0m\u001B[1;33m(\u001B[0m\u001B[0mself\u001B[0m\u001B[1;33m)\u001B[0m\u001B[1;33m.\u001B[0m\u001B[0m__truediv__\u001B[0m  \u001B[1;31m# type: ignore[operator]\u001B[0m\u001B[1;33m\u001B[0m\u001B[1;33m\u001B[0m\u001B[0m\n\u001B[0;32m  11333\u001B[0m         )\n",
      "\u001B[1;32mc:\\users\\михаил\\pycharmprojects\\guess-draw\\venv\\lib\\site-packages\\pandas\\core\\generic.py\u001B[0m in \u001B[0;36m_inplace_method\u001B[1;34m(self, other, op)\u001B[0m\n\u001B[0;32m  11298\u001B[0m         \u001B[0mWrap\u001B[0m \u001B[0marithmetic\u001B[0m \u001B[0mmethod\u001B[0m \u001B[0mto\u001B[0m \u001B[0moperate\u001B[0m \u001B[0minplace\u001B[0m\u001B[1;33m.\u001B[0m\u001B[1;33m\u001B[0m\u001B[1;33m\u001B[0m\u001B[0m\n\u001B[0;32m  11299\u001B[0m         \"\"\"\n\u001B[1;32m> 11300\u001B[1;33m         \u001B[0mresult\u001B[0m \u001B[1;33m=\u001B[0m \u001B[0mop\u001B[0m\u001B[1;33m(\u001B[0m\u001B[0mself\u001B[0m\u001B[1;33m,\u001B[0m \u001B[0mother\u001B[0m\u001B[1;33m)\u001B[0m\u001B[1;33m\u001B[0m\u001B[1;33m\u001B[0m\u001B[0m\n\u001B[0m\u001B[0;32m  11301\u001B[0m \u001B[1;33m\u001B[0m\u001B[0m\n\u001B[0;32m  11302\u001B[0m         if (\n",
      "\u001B[1;32mc:\\users\\михаил\\pycharmprojects\\guess-draw\\venv\\lib\\site-packages\\pandas\\core\\ops\\common.py\u001B[0m in \u001B[0;36mnew_method\u001B[1;34m(self, other)\u001B[0m\n\u001B[0;32m     63\u001B[0m         \u001B[0mother\u001B[0m \u001B[1;33m=\u001B[0m \u001B[0mitem_from_zerodim\u001B[0m\u001B[1;33m(\u001B[0m\u001B[0mother\u001B[0m\u001B[1;33m)\u001B[0m\u001B[1;33m\u001B[0m\u001B[1;33m\u001B[0m\u001B[0m\n\u001B[0;32m     64\u001B[0m \u001B[1;33m\u001B[0m\u001B[0m\n\u001B[1;32m---> 65\u001B[1;33m         \u001B[1;32mreturn\u001B[0m \u001B[0mmethod\u001B[0m\u001B[1;33m(\u001B[0m\u001B[0mself\u001B[0m\u001B[1;33m,\u001B[0m \u001B[0mother\u001B[0m\u001B[1;33m)\u001B[0m\u001B[1;33m\u001B[0m\u001B[1;33m\u001B[0m\u001B[0m\n\u001B[0m\u001B[0;32m     66\u001B[0m \u001B[1;33m\u001B[0m\u001B[0m\n\u001B[0;32m     67\u001B[0m     \u001B[1;32mreturn\u001B[0m \u001B[0mnew_method\u001B[0m\u001B[1;33m\u001B[0m\u001B[1;33m\u001B[0m\u001B[0m\n",
      "\u001B[1;32mc:\\users\\михаил\\pycharmprojects\\guess-draw\\venv\\lib\\site-packages\\pandas\\core\\arraylike.py\u001B[0m in \u001B[0;36m__truediv__\u001B[1;34m(self, other)\u001B[0m\n\u001B[0;32m    111\u001B[0m     \u001B[1;33m@\u001B[0m\u001B[0munpack_zerodim_and_defer\u001B[0m\u001B[1;33m(\u001B[0m\u001B[1;34m\"__truediv__\"\u001B[0m\u001B[1;33m)\u001B[0m\u001B[1;33m\u001B[0m\u001B[1;33m\u001B[0m\u001B[0m\n\u001B[0;32m    112\u001B[0m     \u001B[1;32mdef\u001B[0m \u001B[0m__truediv__\u001B[0m\u001B[1;33m(\u001B[0m\u001B[0mself\u001B[0m\u001B[1;33m,\u001B[0m \u001B[0mother\u001B[0m\u001B[1;33m)\u001B[0m\u001B[1;33m:\u001B[0m\u001B[1;33m\u001B[0m\u001B[1;33m\u001B[0m\u001B[0m\n\u001B[1;32m--> 113\u001B[1;33m         \u001B[1;32mreturn\u001B[0m \u001B[0mself\u001B[0m\u001B[1;33m.\u001B[0m\u001B[0m_arith_method\u001B[0m\u001B[1;33m(\u001B[0m\u001B[0mother\u001B[0m\u001B[1;33m,\u001B[0m \u001B[0moperator\u001B[0m\u001B[1;33m.\u001B[0m\u001B[0mtruediv\u001B[0m\u001B[1;33m)\u001B[0m\u001B[1;33m\u001B[0m\u001B[1;33m\u001B[0m\u001B[0m\n\u001B[0m\u001B[0;32m    114\u001B[0m \u001B[1;33m\u001B[0m\u001B[0m\n\u001B[0;32m    115\u001B[0m     \u001B[1;33m@\u001B[0m\u001B[0munpack_zerodim_and_defer\u001B[0m\u001B[1;33m(\u001B[0m\u001B[1;34m\"__rtruediv__\"\u001B[0m\u001B[1;33m)\u001B[0m\u001B[1;33m\u001B[0m\u001B[1;33m\u001B[0m\u001B[0m\n",
      "\u001B[1;32mc:\\users\\михаил\\pycharmprojects\\guess-draw\\venv\\lib\\site-packages\\pandas\\core\\frame.py\u001B[0m in \u001B[0;36m_arith_method\u001B[1;34m(self, other, op)\u001B[0m\n\u001B[0;32m   5977\u001B[0m         \u001B[0mself\u001B[0m\u001B[1;33m,\u001B[0m \u001B[0mother\u001B[0m \u001B[1;33m=\u001B[0m \u001B[0mops\u001B[0m\u001B[1;33m.\u001B[0m\u001B[0malign_method_FRAME\u001B[0m\u001B[1;33m(\u001B[0m\u001B[0mself\u001B[0m\u001B[1;33m,\u001B[0m \u001B[0mother\u001B[0m\u001B[1;33m,\u001B[0m \u001B[0maxis\u001B[0m\u001B[1;33m,\u001B[0m \u001B[0mflex\u001B[0m\u001B[1;33m=\u001B[0m\u001B[1;32mTrue\u001B[0m\u001B[1;33m,\u001B[0m \u001B[0mlevel\u001B[0m\u001B[1;33m=\u001B[0m\u001B[1;32mNone\u001B[0m\u001B[1;33m)\u001B[0m\u001B[1;33m\u001B[0m\u001B[1;33m\u001B[0m\u001B[0m\n\u001B[0;32m   5978\u001B[0m \u001B[1;33m\u001B[0m\u001B[0m\n\u001B[1;32m-> 5979\u001B[1;33m         \u001B[0mnew_data\u001B[0m \u001B[1;33m=\u001B[0m \u001B[0mself\u001B[0m\u001B[1;33m.\u001B[0m\u001B[0m_dispatch_frame_op\u001B[0m\u001B[1;33m(\u001B[0m\u001B[0mother\u001B[0m\u001B[1;33m,\u001B[0m \u001B[0mop\u001B[0m\u001B[1;33m,\u001B[0m \u001B[0maxis\u001B[0m\u001B[1;33m=\u001B[0m\u001B[0maxis\u001B[0m\u001B[1;33m)\u001B[0m\u001B[1;33m\u001B[0m\u001B[1;33m\u001B[0m\u001B[0m\n\u001B[0m\u001B[0;32m   5980\u001B[0m         \u001B[1;32mreturn\u001B[0m \u001B[0mself\u001B[0m\u001B[1;33m.\u001B[0m\u001B[0m_construct_result\u001B[0m\u001B[1;33m(\u001B[0m\u001B[0mnew_data\u001B[0m\u001B[1;33m)\u001B[0m\u001B[1;33m\u001B[0m\u001B[1;33m\u001B[0m\u001B[0m\n\u001B[0;32m   5981\u001B[0m \u001B[1;33m\u001B[0m\u001B[0m\n",
      "\u001B[1;32mc:\\users\\михаил\\pycharmprojects\\guess-draw\\venv\\lib\\site-packages\\pandas\\core\\frame.py\u001B[0m in \u001B[0;36m_dispatch_frame_op\u001B[1;34m(self, right, func, axis)\u001B[0m\n\u001B[0;32m   6003\u001B[0m         \u001B[1;32mif\u001B[0m \u001B[1;32mnot\u001B[0m \u001B[0mis_list_like\u001B[0m\u001B[1;33m(\u001B[0m\u001B[0mright\u001B[0m\u001B[1;33m)\u001B[0m\u001B[1;33m:\u001B[0m\u001B[1;33m\u001B[0m\u001B[1;33m\u001B[0m\u001B[0m\n\u001B[0;32m   6004\u001B[0m             \u001B[1;31m# i.e. scalar, faster than checking np.ndim(right) == 0\u001B[0m\u001B[1;33m\u001B[0m\u001B[1;33m\u001B[0m\u001B[1;33m\u001B[0m\u001B[0m\n\u001B[1;32m-> 6005\u001B[1;33m             \u001B[0mbm\u001B[0m \u001B[1;33m=\u001B[0m \u001B[0mself\u001B[0m\u001B[1;33m.\u001B[0m\u001B[0m_mgr\u001B[0m\u001B[1;33m.\u001B[0m\u001B[0mapply\u001B[0m\u001B[1;33m(\u001B[0m\u001B[0marray_op\u001B[0m\u001B[1;33m,\u001B[0m \u001B[0mright\u001B[0m\u001B[1;33m=\u001B[0m\u001B[0mright\u001B[0m\u001B[1;33m)\u001B[0m\u001B[1;33m\u001B[0m\u001B[1;33m\u001B[0m\u001B[0m\n\u001B[0m\u001B[0;32m   6006\u001B[0m             \u001B[1;32mreturn\u001B[0m \u001B[0mtype\u001B[0m\u001B[1;33m(\u001B[0m\u001B[0mself\u001B[0m\u001B[1;33m)\u001B[0m\u001B[1;33m(\u001B[0m\u001B[0mbm\u001B[0m\u001B[1;33m)\u001B[0m\u001B[1;33m\u001B[0m\u001B[1;33m\u001B[0m\u001B[0m\n\u001B[0;32m   6007\u001B[0m \u001B[1;33m\u001B[0m\u001B[0m\n",
      "\u001B[1;32mc:\\users\\михаил\\pycharmprojects\\guess-draw\\venv\\lib\\site-packages\\pandas\\core\\internals\\managers.py\u001B[0m in \u001B[0;36mapply\u001B[1;34m(self, f, align_keys, ignore_failures, **kwargs)\u001B[0m\n\u001B[0;32m    423\u001B[0m             \u001B[1;32mtry\u001B[0m\u001B[1;33m:\u001B[0m\u001B[1;33m\u001B[0m\u001B[1;33m\u001B[0m\u001B[0m\n\u001B[0;32m    424\u001B[0m                 \u001B[1;32mif\u001B[0m \u001B[0mcallable\u001B[0m\u001B[1;33m(\u001B[0m\u001B[0mf\u001B[0m\u001B[1;33m)\u001B[0m\u001B[1;33m:\u001B[0m\u001B[1;33m\u001B[0m\u001B[1;33m\u001B[0m\u001B[0m\n\u001B[1;32m--> 425\u001B[1;33m                     \u001B[0mapplied\u001B[0m \u001B[1;33m=\u001B[0m \u001B[0mb\u001B[0m\u001B[1;33m.\u001B[0m\u001B[0mapply\u001B[0m\u001B[1;33m(\u001B[0m\u001B[0mf\u001B[0m\u001B[1;33m,\u001B[0m \u001B[1;33m**\u001B[0m\u001B[0mkwargs\u001B[0m\u001B[1;33m)\u001B[0m\u001B[1;33m\u001B[0m\u001B[1;33m\u001B[0m\u001B[0m\n\u001B[0m\u001B[0;32m    426\u001B[0m                 \u001B[1;32melse\u001B[0m\u001B[1;33m:\u001B[0m\u001B[1;33m\u001B[0m\u001B[1;33m\u001B[0m\u001B[0m\n\u001B[0;32m    427\u001B[0m                     \u001B[0mapplied\u001B[0m \u001B[1;33m=\u001B[0m \u001B[0mgetattr\u001B[0m\u001B[1;33m(\u001B[0m\u001B[0mb\u001B[0m\u001B[1;33m,\u001B[0m \u001B[0mf\u001B[0m\u001B[1;33m)\u001B[0m\u001B[1;33m(\u001B[0m\u001B[1;33m**\u001B[0m\u001B[0mkwargs\u001B[0m\u001B[1;33m)\u001B[0m\u001B[1;33m\u001B[0m\u001B[1;33m\u001B[0m\u001B[0m\n",
      "\u001B[1;32mc:\\users\\михаил\\pycharmprojects\\guess-draw\\venv\\lib\\site-packages\\pandas\\core\\internals\\blocks.py\u001B[0m in \u001B[0;36mapply\u001B[1;34m(self, func, **kwargs)\u001B[0m\n\u001B[0;32m    376\u001B[0m         \"\"\"\n\u001B[0;32m    377\u001B[0m         \u001B[1;32mwith\u001B[0m \u001B[0mnp\u001B[0m\u001B[1;33m.\u001B[0m\u001B[0merrstate\u001B[0m\u001B[1;33m(\u001B[0m\u001B[0mall\u001B[0m\u001B[1;33m=\u001B[0m\u001B[1;34m\"ignore\"\u001B[0m\u001B[1;33m)\u001B[0m\u001B[1;33m:\u001B[0m\u001B[1;33m\u001B[0m\u001B[1;33m\u001B[0m\u001B[0m\n\u001B[1;32m--> 378\u001B[1;33m             \u001B[0mresult\u001B[0m \u001B[1;33m=\u001B[0m \u001B[0mfunc\u001B[0m\u001B[1;33m(\u001B[0m\u001B[0mself\u001B[0m\u001B[1;33m.\u001B[0m\u001B[0mvalues\u001B[0m\u001B[1;33m,\u001B[0m \u001B[1;33m**\u001B[0m\u001B[0mkwargs\u001B[0m\u001B[1;33m)\u001B[0m\u001B[1;33m\u001B[0m\u001B[1;33m\u001B[0m\u001B[0m\n\u001B[0m\u001B[0;32m    379\u001B[0m \u001B[1;33m\u001B[0m\u001B[0m\n\u001B[0;32m    380\u001B[0m         \u001B[1;32mreturn\u001B[0m \u001B[0mself\u001B[0m\u001B[1;33m.\u001B[0m\u001B[0m_split_op_result\u001B[0m\u001B[1;33m(\u001B[0m\u001B[0mresult\u001B[0m\u001B[1;33m)\u001B[0m\u001B[1;33m\u001B[0m\u001B[1;33m\u001B[0m\u001B[0m\n",
      "\u001B[1;32mc:\\users\\михаил\\pycharmprojects\\guess-draw\\venv\\lib\\site-packages\\pandas\\core\\ops\\array_ops.py\u001B[0m in \u001B[0;36marithmetic_op\u001B[1;34m(left, right, op)\u001B[0m\n\u001B[0;32m    187\u001B[0m     \u001B[1;32melse\u001B[0m\u001B[1;33m:\u001B[0m\u001B[1;33m\u001B[0m\u001B[1;33m\u001B[0m\u001B[0m\n\u001B[0;32m    188\u001B[0m         \u001B[1;32mwith\u001B[0m \u001B[0mnp\u001B[0m\u001B[1;33m.\u001B[0m\u001B[0merrstate\u001B[0m\u001B[1;33m(\u001B[0m\u001B[0mall\u001B[0m\u001B[1;33m=\u001B[0m\u001B[1;34m\"ignore\"\u001B[0m\u001B[1;33m)\u001B[0m\u001B[1;33m:\u001B[0m\u001B[1;33m\u001B[0m\u001B[1;33m\u001B[0m\u001B[0m\n\u001B[1;32m--> 189\u001B[1;33m             \u001B[0mres_values\u001B[0m \u001B[1;33m=\u001B[0m \u001B[0m_na_arithmetic_op\u001B[0m\u001B[1;33m(\u001B[0m\u001B[0mlvalues\u001B[0m\u001B[1;33m,\u001B[0m \u001B[0mrvalues\u001B[0m\u001B[1;33m,\u001B[0m \u001B[0mop\u001B[0m\u001B[1;33m)\u001B[0m\u001B[1;33m\u001B[0m\u001B[1;33m\u001B[0m\u001B[0m\n\u001B[0m\u001B[0;32m    190\u001B[0m \u001B[1;33m\u001B[0m\u001B[0m\n\u001B[0;32m    191\u001B[0m     \u001B[1;32mreturn\u001B[0m \u001B[0mres_values\u001B[0m\u001B[1;33m\u001B[0m\u001B[1;33m\u001B[0m\u001B[0m\n",
      "\u001B[1;32mc:\\users\\михаил\\pycharmprojects\\guess-draw\\venv\\lib\\site-packages\\pandas\\core\\ops\\array_ops.py\u001B[0m in \u001B[0;36m_na_arithmetic_op\u001B[1;34m(left, right, op, is_cmp)\u001B[0m\n\u001B[0;32m    140\u001B[0m \u001B[1;33m\u001B[0m\u001B[0m\n\u001B[0;32m    141\u001B[0m     \u001B[1;32mtry\u001B[0m\u001B[1;33m:\u001B[0m\u001B[1;33m\u001B[0m\u001B[1;33m\u001B[0m\u001B[0m\n\u001B[1;32m--> 142\u001B[1;33m         \u001B[0mresult\u001B[0m \u001B[1;33m=\u001B[0m \u001B[0mexpressions\u001B[0m\u001B[1;33m.\u001B[0m\u001B[0mevaluate\u001B[0m\u001B[1;33m(\u001B[0m\u001B[0mop\u001B[0m\u001B[1;33m,\u001B[0m \u001B[0mleft\u001B[0m\u001B[1;33m,\u001B[0m \u001B[0mright\u001B[0m\u001B[1;33m)\u001B[0m\u001B[1;33m\u001B[0m\u001B[1;33m\u001B[0m\u001B[0m\n\u001B[0m\u001B[0;32m    143\u001B[0m     \u001B[1;32mexcept\u001B[0m \u001B[0mTypeError\u001B[0m\u001B[1;33m:\u001B[0m\u001B[1;33m\u001B[0m\u001B[1;33m\u001B[0m\u001B[0m\n\u001B[0;32m    144\u001B[0m         \u001B[1;32mif\u001B[0m \u001B[0mis_cmp\u001B[0m\u001B[1;33m:\u001B[0m\u001B[1;33m\u001B[0m\u001B[1;33m\u001B[0m\u001B[0m\n",
      "\u001B[1;32mc:\\users\\михаил\\pycharmprojects\\guess-draw\\venv\\lib\\site-packages\\pandas\\core\\computation\\expressions.py\u001B[0m in \u001B[0;36mevaluate\u001B[1;34m(op, a, b, use_numexpr)\u001B[0m\n\u001B[0;32m    233\u001B[0m         \u001B[1;32mif\u001B[0m \u001B[0muse_numexpr\u001B[0m\u001B[1;33m:\u001B[0m\u001B[1;33m\u001B[0m\u001B[1;33m\u001B[0m\u001B[0m\n\u001B[0;32m    234\u001B[0m             \u001B[1;31m# error: \"None\" not callable\u001B[0m\u001B[1;33m\u001B[0m\u001B[1;33m\u001B[0m\u001B[1;33m\u001B[0m\u001B[0m\n\u001B[1;32m--> 235\u001B[1;33m             \u001B[1;32mreturn\u001B[0m \u001B[0m_evaluate\u001B[0m\u001B[1;33m(\u001B[0m\u001B[0mop\u001B[0m\u001B[1;33m,\u001B[0m \u001B[0mop_str\u001B[0m\u001B[1;33m,\u001B[0m \u001B[0ma\u001B[0m\u001B[1;33m,\u001B[0m \u001B[0mb\u001B[0m\u001B[1;33m)\u001B[0m  \u001B[1;31m# type: ignore[misc]\u001B[0m\u001B[1;33m\u001B[0m\u001B[1;33m\u001B[0m\u001B[0m\n\u001B[0m\u001B[0;32m    236\u001B[0m     \u001B[1;32mreturn\u001B[0m \u001B[0m_evaluate_standard\u001B[0m\u001B[1;33m(\u001B[0m\u001B[0mop\u001B[0m\u001B[1;33m,\u001B[0m \u001B[0mop_str\u001B[0m\u001B[1;33m,\u001B[0m \u001B[0ma\u001B[0m\u001B[1;33m,\u001B[0m \u001B[0mb\u001B[0m\u001B[1;33m)\u001B[0m\u001B[1;33m\u001B[0m\u001B[1;33m\u001B[0m\u001B[0m\n\u001B[0;32m    237\u001B[0m \u001B[1;33m\u001B[0m\u001B[0m\n",
      "\u001B[1;32mc:\\users\\михаил\\pycharmprojects\\guess-draw\\venv\\lib\\site-packages\\pandas\\core\\computation\\expressions.py\u001B[0m in \u001B[0;36m_evaluate_standard\u001B[1;34m(op, op_str, a, b)\u001B[0m\n\u001B[0;32m     67\u001B[0m         \u001B[0m_store_test_result\u001B[0m\u001B[1;33m(\u001B[0m\u001B[1;32mFalse\u001B[0m\u001B[1;33m)\u001B[0m\u001B[1;33m\u001B[0m\u001B[1;33m\u001B[0m\u001B[0m\n\u001B[0;32m     68\u001B[0m     \u001B[1;32mwith\u001B[0m \u001B[0mnp\u001B[0m\u001B[1;33m.\u001B[0m\u001B[0merrstate\u001B[0m\u001B[1;33m(\u001B[0m\u001B[0mall\u001B[0m\u001B[1;33m=\u001B[0m\u001B[1;34m\"ignore\"\u001B[0m\u001B[1;33m)\u001B[0m\u001B[1;33m:\u001B[0m\u001B[1;33m\u001B[0m\u001B[1;33m\u001B[0m\u001B[0m\n\u001B[1;32m---> 69\u001B[1;33m         \u001B[1;32mreturn\u001B[0m \u001B[0mop\u001B[0m\u001B[1;33m(\u001B[0m\u001B[0ma\u001B[0m\u001B[1;33m,\u001B[0m \u001B[0mb\u001B[0m\u001B[1;33m)\u001B[0m\u001B[1;33m\u001B[0m\u001B[1;33m\u001B[0m\u001B[0m\n\u001B[0m\u001B[0;32m     70\u001B[0m \u001B[1;33m\u001B[0m\u001B[0m\n\u001B[0;32m     71\u001B[0m \u001B[1;33m\u001B[0m\u001B[0m\n",
      "\u001B[1;31mMemoryError\u001B[0m: Unable to allocate 144. MiB for an array with shape (9408, 2000) and data type float64"
     ]
    }
   ],
   "source": [
    "try:\n",
    "    hist = model.fit(x=gen,\n",
    "                 epochs=15,\n",
    "                 steps_per_epoch=50,\n",
    "                 validation_data=(X_val, y_val))\n",
    "except KeyboardInterrupt:\n",
    "    print(\"Stopped.\")\n",
    "        "
   ]
  },
  {
   "cell_type": "code",
   "execution_count": 57,
   "metadata": {},
   "outputs": [
    {
     "name": "stderr",
     "output_type": "stream",
     "text": [
      "  0%|          | 0/1 [00:04<?, ?it/s]\n"
     ]
    },
    {
     "ename": "MemoryError",
     "evalue": "Unable to allocate 1.00 KiB for an array with shape (1024,) and data type uint8",
     "output_type": "error",
     "traceback": [
      "\u001B[1;31m---------------------------------------------------------------------------\u001B[0m",
      "\u001B[1;31mMemoryError\u001B[0m                               Traceback (most recent call last)",
      "\u001B[1;32m<ipython-input-57-a1dfb09d43a9>\u001B[0m in \u001B[0;36m<module>\u001B[1;34m\u001B[0m\n\u001B[0;32m      3\u001B[0m \u001B[1;32mfor\u001B[0m \u001B[0mi\u001B[0m \u001B[1;32min\u001B[0m \u001B[0mtqdm\u001B[0m\u001B[1;33m(\u001B[0m\u001B[0mrange\u001B[0m\u001B[1;33m(\u001B[0m\u001B[1;36m1\u001B[0m\u001B[1;33m)\u001B[0m\u001B[1;33m)\u001B[0m\u001B[1;33m:\u001B[0m\u001B[1;33m\u001B[0m\u001B[1;33m\u001B[0m\u001B[0m\n\u001B[0;32m      4\u001B[0m     \u001B[1;32mtry\u001B[0m\u001B[1;33m:\u001B[0m\u001B[1;33m\u001B[0m\u001B[1;33m\u001B[0m\u001B[0m\n\u001B[1;32m----> 5\u001B[1;33m         \u001B[0mX_train\u001B[0m\u001B[1;33m,\u001B[0m \u001B[0mX_test\u001B[0m\u001B[1;33m,\u001B[0m \u001B[0my_train\u001B[0m\u001B[1;33m,\u001B[0m \u001B[0my_test\u001B[0m \u001B[1;33m=\u001B[0m \u001B[0mload_and_split\u001B[0m\u001B[1;33m(\u001B[0m\u001B[0mi\u001B[0m\u001B[1;33m,\u001B[0m \u001B[0mle\u001B[0m\u001B[1;33m)\u001B[0m\u001B[1;33m\u001B[0m\u001B[1;33m\u001B[0m\u001B[0m\n\u001B[0m\u001B[0;32m      6\u001B[0m         \u001B[0mhist\u001B[0m \u001B[1;33m=\u001B[0m \u001B[0mmodel\u001B[0m\u001B[1;33m.\u001B[0m\u001B[0mfit\u001B[0m\u001B[1;33m(\u001B[0m\u001B[0mX_train\u001B[0m\u001B[1;33m,\u001B[0m \u001B[0my_train\u001B[0m\u001B[1;33m,\u001B[0m \u001B[0mepochs\u001B[0m\u001B[1;33m=\u001B[0m\u001B[1;36m10\u001B[0m\u001B[1;33m,\u001B[0m \u001B[0mbatch_size\u001B[0m\u001B[1;33m=\u001B[0m\u001B[1;36m150\u001B[0m\u001B[1;33m,\u001B[0m \u001B[0mvalidation_data\u001B[0m\u001B[1;33m=\u001B[0m\u001B[1;33m(\u001B[0m\u001B[0mX_test\u001B[0m\u001B[1;33m,\u001B[0m \u001B[0my_test\u001B[0m\u001B[1;33m)\u001B[0m\u001B[1;33m)\u001B[0m\u001B[1;33m\u001B[0m\u001B[1;33m\u001B[0m\u001B[0m\n\u001B[0;32m      7\u001B[0m \u001B[1;33m\u001B[0m\u001B[0m\n",
      "\u001B[1;32m<ipython-input-3-e27b604f7253>\u001B[0m in \u001B[0;36mload_and_split\u001B[1;34m(i, encoder, test_size, num_of_batches)\u001B[0m\n\u001B[0;32m     38\u001B[0m \u001B[1;33m\u001B[0m\u001B[0m\n\u001B[0;32m     39\u001B[0m \u001B[1;32mdef\u001B[0m \u001B[0mload_and_split\u001B[0m\u001B[1;33m(\u001B[0m\u001B[0mi\u001B[0m\u001B[1;33m,\u001B[0m \u001B[0mencoder\u001B[0m\u001B[1;33m,\u001B[0m \u001B[0mtest_size\u001B[0m \u001B[1;33m=\u001B[0m \u001B[1;36m0.2\u001B[0m\u001B[1;33m,\u001B[0m \u001B[0mnum_of_batches\u001B[0m\u001B[1;33m=\u001B[0m\u001B[1;36m1\u001B[0m\u001B[1;33m)\u001B[0m\u001B[1;33m:\u001B[0m\u001B[1;33m\u001B[0m\u001B[1;33m\u001B[0m\u001B[0m\n\u001B[1;32m---> 40\u001B[1;33m     \u001B[0mdf\u001B[0m \u001B[1;33m=\u001B[0m \u001B[0mload_data\u001B[0m\u001B[1;33m(\u001B[0m\u001B[0mi\u001B[0m\u001B[1;33m,\u001B[0m \u001B[0mnum_of_batches\u001B[0m\u001B[1;33m)\u001B[0m\u001B[1;33m\u001B[0m\u001B[1;33m\u001B[0m\u001B[0m\n\u001B[0m\u001B[0;32m     41\u001B[0m     \u001B[0mdf\u001B[0m\u001B[1;33m[\u001B[0m\u001B[1;34m\"category_enc\"\u001B[0m\u001B[1;33m]\u001B[0m \u001B[1;33m=\u001B[0m \u001B[0mencoder\u001B[0m\u001B[1;33m.\u001B[0m\u001B[0mtransform\u001B[0m\u001B[1;33m(\u001B[0m\u001B[0mdf\u001B[0m\u001B[1;33m[\u001B[0m\u001B[1;34m'category'\u001B[0m\u001B[1;33m]\u001B[0m\u001B[1;33m)\u001B[0m\u001B[1;33m\u001B[0m\u001B[1;33m\u001B[0m\u001B[0m\n\u001B[0;32m     42\u001B[0m     \u001B[0my\u001B[0m \u001B[1;33m=\u001B[0m \u001B[0mdf\u001B[0m\u001B[1;33m[\u001B[0m\u001B[1;34m'category_enc'\u001B[0m\u001B[1;33m]\u001B[0m\u001B[1;33m\u001B[0m\u001B[1;33m\u001B[0m\u001B[0m\n",
      "\u001B[1;32m<ipython-input-3-e27b604f7253>\u001B[0m in \u001B[0;36mload_data\u001B[1;34m(i, num_of_batches)\u001B[0m\n\u001B[0;32m     30\u001B[0m \u001B[1;33m\u001B[0m\u001B[0m\n\u001B[0;32m     31\u001B[0m \u001B[1;32mdef\u001B[0m \u001B[0mload_data\u001B[0m\u001B[1;33m(\u001B[0m\u001B[0mi\u001B[0m\u001B[1;33m,\u001B[0m \u001B[0mnum_of_batches\u001B[0m\u001B[1;33m)\u001B[0m\u001B[1;33m:\u001B[0m\u001B[1;33m\u001B[0m\u001B[1;33m\u001B[0m\u001B[0m\n\u001B[1;32m---> 32\u001B[1;33m     \u001B[0mdf\u001B[0m \u001B[1;33m=\u001B[0m \u001B[0mpd\u001B[0m\u001B[1;33m.\u001B[0m\u001B[0mread_csv\u001B[0m\u001B[1;33m(\u001B[0m\u001B[0mFILEMANE_PATTERN\u001B[0m\u001B[1;33m.\u001B[0m\u001B[0mformat\u001B[0m\u001B[1;33m(\u001B[0m\u001B[0mstr\u001B[0m\u001B[1;33m(\u001B[0m\u001B[0mi\u001B[0m\u001B[1;33m)\u001B[0m\u001B[1;33m)\u001B[0m\u001B[1;33m,\u001B[0m \u001B[0mdtype\u001B[0m\u001B[1;33m=\u001B[0m\u001B[0mget_dtypes\u001B[0m\u001B[1;33m(\u001B[0m\u001B[1;33m)\u001B[0m\u001B[1;33m)\u001B[0m\u001B[1;33m\u001B[0m\u001B[1;33m\u001B[0m\u001B[0m\n\u001B[0m\u001B[0;32m     33\u001B[0m     \u001B[1;32mif\u001B[0m \u001B[0mnum_of_batches\u001B[0m \u001B[1;33m>\u001B[0m \u001B[1;36m1\u001B[0m\u001B[1;33m:\u001B[0m\u001B[1;33m\u001B[0m\u001B[1;33m\u001B[0m\u001B[0m\n\u001B[0;32m     34\u001B[0m         \u001B[1;32mfor\u001B[0m \u001B[0mj\u001B[0m \u001B[1;32min\u001B[0m \u001B[0mrange\u001B[0m\u001B[1;33m(\u001B[0m\u001B[0mi\u001B[0m\u001B[1;33m+\u001B[0m\u001B[1;36m1\u001B[0m\u001B[1;33m,\u001B[0m \u001B[0mi\u001B[0m\u001B[1;33m+\u001B[0m\u001B[0mnum_of_batches\u001B[0m\u001B[1;33m)\u001B[0m\u001B[1;33m:\u001B[0m\u001B[1;33m\u001B[0m\u001B[1;33m\u001B[0m\u001B[0m\n",
      "\u001B[1;32mc:\\users\\михаил\\pycharmprojects\\guess-draw\\venv\\lib\\site-packages\\pandas\\io\\parsers.py\u001B[0m in \u001B[0;36mread_csv\u001B[1;34m(filepath_or_buffer, sep, delimiter, header, names, index_col, usecols, squeeze, prefix, mangle_dupe_cols, dtype, engine, converters, true_values, false_values, skipinitialspace, skiprows, skipfooter, nrows, na_values, keep_default_na, na_filter, verbose, skip_blank_lines, parse_dates, infer_datetime_format, keep_date_col, date_parser, dayfirst, cache_dates, iterator, chunksize, compression, thousands, decimal, lineterminator, quotechar, quoting, doublequote, escapechar, comment, encoding, dialect, error_bad_lines, warn_bad_lines, delim_whitespace, low_memory, memory_map, float_precision, storage_options)\u001B[0m\n\u001B[0;32m    603\u001B[0m     \u001B[0mkwds\u001B[0m\u001B[1;33m.\u001B[0m\u001B[0mupdate\u001B[0m\u001B[1;33m(\u001B[0m\u001B[0mkwds_defaults\u001B[0m\u001B[1;33m)\u001B[0m\u001B[1;33m\u001B[0m\u001B[1;33m\u001B[0m\u001B[0m\n\u001B[0;32m    604\u001B[0m \u001B[1;33m\u001B[0m\u001B[0m\n\u001B[1;32m--> 605\u001B[1;33m     \u001B[1;32mreturn\u001B[0m \u001B[0m_read\u001B[0m\u001B[1;33m(\u001B[0m\u001B[0mfilepath_or_buffer\u001B[0m\u001B[1;33m,\u001B[0m \u001B[0mkwds\u001B[0m\u001B[1;33m)\u001B[0m\u001B[1;33m\u001B[0m\u001B[1;33m\u001B[0m\u001B[0m\n\u001B[0m\u001B[0;32m    606\u001B[0m \u001B[1;33m\u001B[0m\u001B[0m\n\u001B[0;32m    607\u001B[0m \u001B[1;33m\u001B[0m\u001B[0m\n",
      "\u001B[1;32mc:\\users\\михаил\\pycharmprojects\\guess-draw\\venv\\lib\\site-packages\\pandas\\io\\parsers.py\u001B[0m in \u001B[0;36m_read\u001B[1;34m(filepath_or_buffer, kwds)\u001B[0m\n\u001B[0;32m    461\u001B[0m \u001B[1;33m\u001B[0m\u001B[0m\n\u001B[0;32m    462\u001B[0m     \u001B[1;32mwith\u001B[0m \u001B[0mparser\u001B[0m\u001B[1;33m:\u001B[0m\u001B[1;33m\u001B[0m\u001B[1;33m\u001B[0m\u001B[0m\n\u001B[1;32m--> 463\u001B[1;33m         \u001B[1;32mreturn\u001B[0m \u001B[0mparser\u001B[0m\u001B[1;33m.\u001B[0m\u001B[0mread\u001B[0m\u001B[1;33m(\u001B[0m\u001B[0mnrows\u001B[0m\u001B[1;33m)\u001B[0m\u001B[1;33m\u001B[0m\u001B[1;33m\u001B[0m\u001B[0m\n\u001B[0m\u001B[0;32m    464\u001B[0m \u001B[1;33m\u001B[0m\u001B[0m\n\u001B[0;32m    465\u001B[0m \u001B[1;33m\u001B[0m\u001B[0m\n",
      "\u001B[1;32mc:\\users\\михаил\\pycharmprojects\\guess-draw\\venv\\lib\\site-packages\\pandas\\io\\parsers.py\u001B[0m in \u001B[0;36mread\u001B[1;34m(self, nrows)\u001B[0m\n\u001B[0;32m   1050\u001B[0m     \u001B[1;32mdef\u001B[0m \u001B[0mread\u001B[0m\u001B[1;33m(\u001B[0m\u001B[0mself\u001B[0m\u001B[1;33m,\u001B[0m \u001B[0mnrows\u001B[0m\u001B[1;33m=\u001B[0m\u001B[1;32mNone\u001B[0m\u001B[1;33m)\u001B[0m\u001B[1;33m:\u001B[0m\u001B[1;33m\u001B[0m\u001B[1;33m\u001B[0m\u001B[0m\n\u001B[0;32m   1051\u001B[0m         \u001B[0mnrows\u001B[0m \u001B[1;33m=\u001B[0m \u001B[0mvalidate_integer\u001B[0m\u001B[1;33m(\u001B[0m\u001B[1;34m\"nrows\"\u001B[0m\u001B[1;33m,\u001B[0m \u001B[0mnrows\u001B[0m\u001B[1;33m)\u001B[0m\u001B[1;33m\u001B[0m\u001B[1;33m\u001B[0m\u001B[0m\n\u001B[1;32m-> 1052\u001B[1;33m         \u001B[0mindex\u001B[0m\u001B[1;33m,\u001B[0m \u001B[0mcolumns\u001B[0m\u001B[1;33m,\u001B[0m \u001B[0mcol_dict\u001B[0m \u001B[1;33m=\u001B[0m \u001B[0mself\u001B[0m\u001B[1;33m.\u001B[0m\u001B[0m_engine\u001B[0m\u001B[1;33m.\u001B[0m\u001B[0mread\u001B[0m\u001B[1;33m(\u001B[0m\u001B[0mnrows\u001B[0m\u001B[1;33m)\u001B[0m\u001B[1;33m\u001B[0m\u001B[1;33m\u001B[0m\u001B[0m\n\u001B[0m\u001B[0;32m   1053\u001B[0m \u001B[1;33m\u001B[0m\u001B[0m\n\u001B[0;32m   1054\u001B[0m         \u001B[1;32mif\u001B[0m \u001B[0mindex\u001B[0m \u001B[1;32mis\u001B[0m \u001B[1;32mNone\u001B[0m\u001B[1;33m:\u001B[0m\u001B[1;33m\u001B[0m\u001B[1;33m\u001B[0m\u001B[0m\n",
      "\u001B[1;32mc:\\users\\михаил\\pycharmprojects\\guess-draw\\venv\\lib\\site-packages\\pandas\\io\\parsers.py\u001B[0m in \u001B[0;36mread\u001B[1;34m(self, nrows)\u001B[0m\n\u001B[0;32m   2054\u001B[0m     \u001B[1;32mdef\u001B[0m \u001B[0mread\u001B[0m\u001B[1;33m(\u001B[0m\u001B[0mself\u001B[0m\u001B[1;33m,\u001B[0m \u001B[0mnrows\u001B[0m\u001B[1;33m=\u001B[0m\u001B[1;32mNone\u001B[0m\u001B[1;33m)\u001B[0m\u001B[1;33m:\u001B[0m\u001B[1;33m\u001B[0m\u001B[1;33m\u001B[0m\u001B[0m\n\u001B[0;32m   2055\u001B[0m         \u001B[1;32mtry\u001B[0m\u001B[1;33m:\u001B[0m\u001B[1;33m\u001B[0m\u001B[1;33m\u001B[0m\u001B[0m\n\u001B[1;32m-> 2056\u001B[1;33m             \u001B[0mdata\u001B[0m \u001B[1;33m=\u001B[0m \u001B[0mself\u001B[0m\u001B[1;33m.\u001B[0m\u001B[0m_reader\u001B[0m\u001B[1;33m.\u001B[0m\u001B[0mread\u001B[0m\u001B[1;33m(\u001B[0m\u001B[0mnrows\u001B[0m\u001B[1;33m)\u001B[0m\u001B[1;33m\u001B[0m\u001B[1;33m\u001B[0m\u001B[0m\n\u001B[0m\u001B[0;32m   2057\u001B[0m         \u001B[1;32mexcept\u001B[0m \u001B[0mStopIteration\u001B[0m\u001B[1;33m:\u001B[0m\u001B[1;33m\u001B[0m\u001B[1;33m\u001B[0m\u001B[0m\n\u001B[0;32m   2058\u001B[0m             \u001B[1;32mif\u001B[0m \u001B[0mself\u001B[0m\u001B[1;33m.\u001B[0m\u001B[0m_first_chunk\u001B[0m\u001B[1;33m:\u001B[0m\u001B[1;33m\u001B[0m\u001B[1;33m\u001B[0m\u001B[0m\n",
      "\u001B[1;32mpandas\\_libs\\parsers.pyx\u001B[0m in \u001B[0;36mpandas._libs.parsers.TextReader.read\u001B[1;34m()\u001B[0m\n",
      "\u001B[1;32mpandas\\_libs\\parsers.pyx\u001B[0m in \u001B[0;36mpandas._libs.parsers.TextReader._read_low_memory\u001B[1;34m()\u001B[0m\n",
      "\u001B[1;32mpandas\\_libs\\parsers.pyx\u001B[0m in \u001B[0;36mpandas._libs.parsers.TextReader._read_rows\u001B[1;34m()\u001B[0m\n",
      "\u001B[1;32mpandas\\_libs\\parsers.pyx\u001B[0m in \u001B[0;36mpandas._libs.parsers.TextReader._convert_column_data\u001B[1;34m()\u001B[0m\n",
      "\u001B[1;32mpandas\\_libs\\parsers.pyx\u001B[0m in \u001B[0;36mpandas._libs.parsers.TextReader._convert_tokens\u001B[1;34m()\u001B[0m\n",
      "\u001B[1;32mpandas\\_libs\\parsers.pyx\u001B[0m in \u001B[0;36mpandas._libs.parsers.TextReader._convert_with_dtype\u001B[1;34m()\u001B[0m\n",
      "\u001B[1;31mMemoryError\u001B[0m: Unable to allocate 1.00 KiB for an array with shape (1024,) and data type uint8"
     ]
    }
   ],
   "source": [
    "file = 'F:\\\\doodles\\\\mobilenet'\n",
    "STEP = 2\n",
    "for i in tqdm(range(1)):\n",
    "    try:\n",
    "        X_train, X_test, y_train, y_test = load_and_split(i, le)\n",
    "        hist = model.fit(X_train, y_train, epochs=10, batch_size=150, validation_data=(X_test, y_test))\n",
    "        \n",
    "        if i % 5 == 0:\n",
    "            model.save(file)  \n",
    "            \n",
    "        free([X_train, X_test, y_train, y_test])\n",
    "        \n",
    "    except KeyboardInterrupt:\n",
    "        print(\"Stopped. Current bucket is {}\".format(str(i)))\n",
    "        break"
   ]
  }
 ],
 "metadata": {
  "kernelspec": {
   "display_name": "Python 3",
   "language": "python",
   "name": "python3"
  },
  "language_info": {
   "codemirror_mode": {
    "name": "ipython",
    "version": 3
   },
   "file_extension": ".py",
   "mimetype": "text/x-python",
   "name": "python",
   "nbconvert_exporter": "python",
   "pygments_lexer": "ipython3",
   "version": "3.8.7"
  }
 },
 "nbformat": 4,
 "nbformat_minor": 1
}