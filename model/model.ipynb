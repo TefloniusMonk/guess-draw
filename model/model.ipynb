{
 "cells": [
  {
   "cell_type": "code",
   "execution_count": 15,
   "metadata": {},
   "outputs": [],
   "source": [
    "import pandas as pd\n",
    "import numpy as np\n",
    "from matplotlib import pyplot as plt"
   ]
  },
  {
   "cell_type": "code",
   "execution_count": 3,
   "metadata": {
    "pycharm": {
     "name": "#%%\n"
    }
   },
   "outputs": [],
   "source": [
    "from os import walk\n",
    "import re\n",
    "from tqdm import tqdm\n",
    "import uuid\n",
    "\n",
    "\n",
    "# path = './data/'\n",
    "# _, _, filenames = next(walk(path))\n",
    "# dataframes = []\n",
    "# MAX_CATEGORIES = 10\n",
    "# print(\"Loading dataframes...\")\n",
    "# for filename in tqdm(filenames):\n",
    "#     data = np.load(file=path + filename)\n",
    "#     dataframe = pd.DataFrame(data)\n",
    "#     dataframe['category'] = re.search('full_numpy_bitmap_(.+?)\\.npy', filename).group(1)\n",
    "#     dataframe['id'] = dataframe[0].apply(lambda x: uuid.uuid4())\n",
    "#     dataframe.set_index('id', inplace=True)\n",
    "#     dataframes.append(dataframe)\n",
    "#     if len(dataframes) >= MAX_CATEGORIES:\n",
    "#         break\n",
    "# print(\"Merging...\")\n",
    "# df = pd.concat(dataframes)\n",
    "df = pd.read_csv('F:\\\\doodles\\\\bucket_31.csv')\n",
    "for i in range(32,35):\n",
    "    df = df.append(pd.read_csv('F:\\\\doodles\\\\bucket_{}.csv'.format(str(i))))\n",
    "df.drop(columns=['Unnamed: 0'], inplace= True)\n"
   ]
  },
  {
   "cell_type": "code",
   "execution_count": 4,
   "metadata": {
    "pycharm": {
     "name": "#%%\n"
    }
   },
   "outputs": [
    {
     "data": {
      "text/html": [
       "<div>\n",
       "<style scoped>\n",
       "    .dataframe tbody tr th:only-of-type {\n",
       "        vertical-align: middle;\n",
       "    }\n",
       "\n",
       "    .dataframe tbody tr th {\n",
       "        vertical-align: top;\n",
       "    }\n",
       "\n",
       "    .dataframe thead th {\n",
       "        text-align: right;\n",
       "    }\n",
       "</style>\n",
       "<table border=\"1\" class=\"dataframe\">\n",
       "  <thead>\n",
       "    <tr style=\"text-align: right;\">\n",
       "      <th></th>\n",
       "      <th>0</th>\n",
       "      <th>1</th>\n",
       "      <th>2</th>\n",
       "      <th>3</th>\n",
       "      <th>4</th>\n",
       "      <th>5</th>\n",
       "      <th>6</th>\n",
       "      <th>7</th>\n",
       "      <th>8</th>\n",
       "      <th>9</th>\n",
       "      <th>...</th>\n",
       "      <th>774</th>\n",
       "      <th>775</th>\n",
       "      <th>776</th>\n",
       "      <th>777</th>\n",
       "      <th>778</th>\n",
       "      <th>779</th>\n",
       "      <th>780</th>\n",
       "      <th>781</th>\n",
       "      <th>782</th>\n",
       "      <th>783</th>\n",
       "    </tr>\n",
       "    <tr>\n",
       "      <th>category</th>\n",
       "      <th></th>\n",
       "      <th></th>\n",
       "      <th></th>\n",
       "      <th></th>\n",
       "      <th></th>\n",
       "      <th></th>\n",
       "      <th></th>\n",
       "      <th></th>\n",
       "      <th></th>\n",
       "      <th></th>\n",
       "      <th></th>\n",
       "      <th></th>\n",
       "      <th></th>\n",
       "      <th></th>\n",
       "      <th></th>\n",
       "      <th></th>\n",
       "      <th></th>\n",
       "      <th></th>\n",
       "      <th></th>\n",
       "      <th></th>\n",
       "      <th></th>\n",
       "    </tr>\n",
       "  </thead>\n",
       "  <tbody>\n",
       "    <tr>\n",
       "      <th>airplane</th>\n",
       "      <td>3035</td>\n",
       "      <td>3035</td>\n",
       "      <td>3035</td>\n",
       "      <td>3035</td>\n",
       "      <td>3035</td>\n",
       "      <td>3035</td>\n",
       "      <td>3035</td>\n",
       "      <td>3035</td>\n",
       "      <td>3035</td>\n",
       "      <td>3035</td>\n",
       "      <td>...</td>\n",
       "      <td>3035</td>\n",
       "      <td>3035</td>\n",
       "      <td>3035</td>\n",
       "      <td>3035</td>\n",
       "      <td>3035</td>\n",
       "      <td>3035</td>\n",
       "      <td>3035</td>\n",
       "      <td>3035</td>\n",
       "      <td>3035</td>\n",
       "      <td>3035</td>\n",
       "    </tr>\n",
       "    <tr>\n",
       "      <th>ambulance</th>\n",
       "      <td>2960</td>\n",
       "      <td>2960</td>\n",
       "      <td>2960</td>\n",
       "      <td>2960</td>\n",
       "      <td>2960</td>\n",
       "      <td>2960</td>\n",
       "      <td>2960</td>\n",
       "      <td>2960</td>\n",
       "      <td>2960</td>\n",
       "      <td>2960</td>\n",
       "      <td>...</td>\n",
       "      <td>2960</td>\n",
       "      <td>2960</td>\n",
       "      <td>2960</td>\n",
       "      <td>2960</td>\n",
       "      <td>2960</td>\n",
       "      <td>2960</td>\n",
       "      <td>2960</td>\n",
       "      <td>2960</td>\n",
       "      <td>2960</td>\n",
       "      <td>2960</td>\n",
       "    </tr>\n",
       "    <tr>\n",
       "      <th>angel</th>\n",
       "      <td>2995</td>\n",
       "      <td>2995</td>\n",
       "      <td>2995</td>\n",
       "      <td>2995</td>\n",
       "      <td>2995</td>\n",
       "      <td>2995</td>\n",
       "      <td>2995</td>\n",
       "      <td>2995</td>\n",
       "      <td>2995</td>\n",
       "      <td>2995</td>\n",
       "      <td>...</td>\n",
       "      <td>2995</td>\n",
       "      <td>2995</td>\n",
       "      <td>2995</td>\n",
       "      <td>2995</td>\n",
       "      <td>2995</td>\n",
       "      <td>2995</td>\n",
       "      <td>2995</td>\n",
       "      <td>2995</td>\n",
       "      <td>2995</td>\n",
       "      <td>2995</td>\n",
       "    </tr>\n",
       "    <tr>\n",
       "      <th>ant</th>\n",
       "      <td>2495</td>\n",
       "      <td>2495</td>\n",
       "      <td>2495</td>\n",
       "      <td>2495</td>\n",
       "      <td>2495</td>\n",
       "      <td>2495</td>\n",
       "      <td>2495</td>\n",
       "      <td>2495</td>\n",
       "      <td>2495</td>\n",
       "      <td>2495</td>\n",
       "      <td>...</td>\n",
       "      <td>2495</td>\n",
       "      <td>2495</td>\n",
       "      <td>2495</td>\n",
       "      <td>2495</td>\n",
       "      <td>2495</td>\n",
       "      <td>2495</td>\n",
       "      <td>2495</td>\n",
       "      <td>2495</td>\n",
       "      <td>2495</td>\n",
       "      <td>2495</td>\n",
       "    </tr>\n",
       "    <tr>\n",
       "      <th>anvil</th>\n",
       "      <td>2525</td>\n",
       "      <td>2525</td>\n",
       "      <td>2525</td>\n",
       "      <td>2525</td>\n",
       "      <td>2525</td>\n",
       "      <td>2525</td>\n",
       "      <td>2525</td>\n",
       "      <td>2525</td>\n",
       "      <td>2525</td>\n",
       "      <td>2525</td>\n",
       "      <td>...</td>\n",
       "      <td>2525</td>\n",
       "      <td>2525</td>\n",
       "      <td>2525</td>\n",
       "      <td>2525</td>\n",
       "      <td>2525</td>\n",
       "      <td>2525</td>\n",
       "      <td>2525</td>\n",
       "      <td>2525</td>\n",
       "      <td>2525</td>\n",
       "      <td>2525</td>\n",
       "    </tr>\n",
       "    <tr>\n",
       "      <th>...</th>\n",
       "      <td>...</td>\n",
       "      <td>...</td>\n",
       "      <td>...</td>\n",
       "      <td>...</td>\n",
       "      <td>...</td>\n",
       "      <td>...</td>\n",
       "      <td>...</td>\n",
       "      <td>...</td>\n",
       "      <td>...</td>\n",
       "      <td>...</td>\n",
       "      <td>...</td>\n",
       "      <td>...</td>\n",
       "      <td>...</td>\n",
       "      <td>...</td>\n",
       "      <td>...</td>\n",
       "      <td>...</td>\n",
       "      <td>...</td>\n",
       "      <td>...</td>\n",
       "      <td>...</td>\n",
       "      <td>...</td>\n",
       "      <td>...</td>\n",
       "    </tr>\n",
       "    <tr>\n",
       "      <th>windmill</th>\n",
       "      <td>2415</td>\n",
       "      <td>2415</td>\n",
       "      <td>2415</td>\n",
       "      <td>2415</td>\n",
       "      <td>2415</td>\n",
       "      <td>2415</td>\n",
       "      <td>2415</td>\n",
       "      <td>2415</td>\n",
       "      <td>2415</td>\n",
       "      <td>2415</td>\n",
       "      <td>...</td>\n",
       "      <td>2415</td>\n",
       "      <td>2415</td>\n",
       "      <td>2415</td>\n",
       "      <td>2415</td>\n",
       "      <td>2415</td>\n",
       "      <td>2415</td>\n",
       "      <td>2415</td>\n",
       "      <td>2415</td>\n",
       "      <td>2415</td>\n",
       "      <td>2415</td>\n",
       "    </tr>\n",
       "    <tr>\n",
       "      <th>wristwatch</th>\n",
       "      <td>3255</td>\n",
       "      <td>3255</td>\n",
       "      <td>3255</td>\n",
       "      <td>3255</td>\n",
       "      <td>3255</td>\n",
       "      <td>3255</td>\n",
       "      <td>3255</td>\n",
       "      <td>3255</td>\n",
       "      <td>3255</td>\n",
       "      <td>3255</td>\n",
       "      <td>...</td>\n",
       "      <td>3255</td>\n",
       "      <td>3255</td>\n",
       "      <td>3255</td>\n",
       "      <td>3255</td>\n",
       "      <td>3255</td>\n",
       "      <td>3255</td>\n",
       "      <td>3255</td>\n",
       "      <td>3255</td>\n",
       "      <td>3255</td>\n",
       "      <td>3255</td>\n",
       "    </tr>\n",
       "    <tr>\n",
       "      <th>yoga</th>\n",
       "      <td>5610</td>\n",
       "      <td>5610</td>\n",
       "      <td>5610</td>\n",
       "      <td>5610</td>\n",
       "      <td>5610</td>\n",
       "      <td>5610</td>\n",
       "      <td>5610</td>\n",
       "      <td>5610</td>\n",
       "      <td>5610</td>\n",
       "      <td>5610</td>\n",
       "      <td>...</td>\n",
       "      <td>5610</td>\n",
       "      <td>5610</td>\n",
       "      <td>5610</td>\n",
       "      <td>5610</td>\n",
       "      <td>5610</td>\n",
       "      <td>5610</td>\n",
       "      <td>5610</td>\n",
       "      <td>5610</td>\n",
       "      <td>5610</td>\n",
       "      <td>5610</td>\n",
       "    </tr>\n",
       "    <tr>\n",
       "      <th>zebra</th>\n",
       "      <td>2895</td>\n",
       "      <td>2895</td>\n",
       "      <td>2895</td>\n",
       "      <td>2895</td>\n",
       "      <td>2895</td>\n",
       "      <td>2895</td>\n",
       "      <td>2895</td>\n",
       "      <td>2895</td>\n",
       "      <td>2895</td>\n",
       "      <td>2895</td>\n",
       "      <td>...</td>\n",
       "      <td>2895</td>\n",
       "      <td>2895</td>\n",
       "      <td>2895</td>\n",
       "      <td>2895</td>\n",
       "      <td>2895</td>\n",
       "      <td>2895</td>\n",
       "      <td>2895</td>\n",
       "      <td>2895</td>\n",
       "      <td>2895</td>\n",
       "      <td>2895</td>\n",
       "    </tr>\n",
       "    <tr>\n",
       "      <th>zigzag</th>\n",
       "      <td>2405</td>\n",
       "      <td>2405</td>\n",
       "      <td>2405</td>\n",
       "      <td>2405</td>\n",
       "      <td>2405</td>\n",
       "      <td>2405</td>\n",
       "      <td>2405</td>\n",
       "      <td>2405</td>\n",
       "      <td>2405</td>\n",
       "      <td>2405</td>\n",
       "      <td>...</td>\n",
       "      <td>2405</td>\n",
       "      <td>2405</td>\n",
       "      <td>2405</td>\n",
       "      <td>2405</td>\n",
       "      <td>2405</td>\n",
       "      <td>2405</td>\n",
       "      <td>2405</td>\n",
       "      <td>2405</td>\n",
       "      <td>2405</td>\n",
       "      <td>2405</td>\n",
       "    </tr>\n",
       "  </tbody>\n",
       "</table>\n",
       "<p>294 rows × 784 columns</p>\n",
       "</div>"
      ],
      "text/plain": [
       "               0     1     2     3     4     5     6     7     8     9  ...  \\\n",
       "category                                                                ...   \n",
       "airplane    3035  3035  3035  3035  3035  3035  3035  3035  3035  3035  ...   \n",
       "ambulance   2960  2960  2960  2960  2960  2960  2960  2960  2960  2960  ...   \n",
       "angel       2995  2995  2995  2995  2995  2995  2995  2995  2995  2995  ...   \n",
       "ant         2495  2495  2495  2495  2495  2495  2495  2495  2495  2495  ...   \n",
       "anvil       2525  2525  2525  2525  2525  2525  2525  2525  2525  2525  ...   \n",
       "...          ...   ...   ...   ...   ...   ...   ...   ...   ...   ...  ...   \n",
       "windmill    2415  2415  2415  2415  2415  2415  2415  2415  2415  2415  ...   \n",
       "wristwatch  3255  3255  3255  3255  3255  3255  3255  3255  3255  3255  ...   \n",
       "yoga        5610  5610  5610  5610  5610  5610  5610  5610  5610  5610  ...   \n",
       "zebra       2895  2895  2895  2895  2895  2895  2895  2895  2895  2895  ...   \n",
       "zigzag      2405  2405  2405  2405  2405  2405  2405  2405  2405  2405  ...   \n",
       "\n",
       "             774   775   776   777   778   779   780   781   782   783  \n",
       "category                                                                \n",
       "airplane    3035  3035  3035  3035  3035  3035  3035  3035  3035  3035  \n",
       "ambulance   2960  2960  2960  2960  2960  2960  2960  2960  2960  2960  \n",
       "angel       2995  2995  2995  2995  2995  2995  2995  2995  2995  2995  \n",
       "ant         2495  2495  2495  2495  2495  2495  2495  2495  2495  2495  \n",
       "anvil       2525  2525  2525  2525  2525  2525  2525  2525  2525  2525  \n",
       "...          ...   ...   ...   ...   ...   ...   ...   ...   ...   ...  \n",
       "windmill    2415  2415  2415  2415  2415  2415  2415  2415  2415  2415  \n",
       "wristwatch  3255  3255  3255  3255  3255  3255  3255  3255  3255  3255  \n",
       "yoga        5610  5610  5610  5610  5610  5610  5610  5610  5610  5610  \n",
       "zebra       2895  2895  2895  2895  2895  2895  2895  2895  2895  2895  \n",
       "zigzag      2405  2405  2405  2405  2405  2405  2405  2405  2405  2405  \n",
       "\n",
       "[294 rows x 784 columns]"
      ]
     },
     "execution_count": 4,
     "metadata": {},
     "output_type": "execute_result"
    }
   ],
   "source": [
    "df.groupby('category').count()"
   ]
  },
  {
   "cell_type": "code",
   "execution_count": 35,
   "metadata": {},
   "outputs": [
    {
     "data": {
      "image/png": "[encoded data removed]",
      "text/plain": [
       "<Figure size 432x288 with 1 Axes>"
      ]
     },
     "metadata": {
      "needs_background": "light"
     },
     "output_type": "display_data"
    },
    {
     "data": {
      "image/png": "[encoded data removed]",
      "text/plain": [
       "<Figure size 432x288 with 1 Axes>"
      ]
     },
     "metadata": {
      "needs_background": "light"
     },
     "output_type": "display_data"
    },
    {
     "data": {
      "image/png": "[encoded data removed]",
      "text/plain": [
       "<Figure size 432x288 with 1 Axes>"
      ]
     },
     "metadata": {
      "needs_background": "light"
     },
     "output_type": "display_data"
    },
    {
     "data": {
      "image/png": "[encoded data removed]",
      "text/plain": [
       "<Figure size 432x288 with 1 Axes>"
      ]
     },
     "metadata": {
      "needs_background": "light"
     },
     "output_type": "display_data"
    },
    {
     "data": {
      "image/png": "[encoded data removed]",
      "text/plain": [
       "<Figure size 432x288 with 1 Axes>"
      ]
     },
     "metadata": {
      "needs_background": "light"
     },
     "output_type": "display_data"
    }
   ],
   "source": [
    "categories = []\n",
    "for i in range(5):\n",
    "    sample = df.sample(1)\n",
    "    pixels = sample.drop(columns=['category', \"category_enc\"]).values.reshape((28, 28))\n",
    "    categories.append(sample['category'].values[0])\n",
    "    plt.imshow(pixels, cmap='gray')\n",
    "    plt.show()"
   ]
  },
  {
   "cell_type": "code",
   "execution_count": 36,
   "metadata": {},
   "outputs": [
    {
     "data": {
      "text/plain": [
       "['ant', 'suitcase', 'banana', 'drill', 'knee']"
      ]
     },
     "execution_count": 36,
     "metadata": {},
     "output_type": "execute_result"
    }
   ],
   "source": [
    "categories"
   ]
  },
  {
   "cell_type": "code",
   "execution_count": 34,
   "metadata": {},
   "outputs": [
    {
     "ename": "MemoryError",
     "evalue": "Unable to allocate 1.52 GiB for an array with shape (784, 260103) and data type int64",
     "output_type": "error",
     "traceback": [
      "\u001B[1;31m---------------------------------------------------------------------------\u001B[0m",
      "\u001B[1;31mMemoryError\u001B[0m                               Traceback (most recent call last)",
      "\u001B[1;32m<ipython-input-34-4049f736b7e6>\u001B[0m in \u001B[0;36m<module>\u001B[1;34m\u001B[0m\n\u001B[0;32m      7\u001B[0m \u001B[0my\u001B[0m \u001B[1;33m=\u001B[0m \u001B[0mdf\u001B[0m\u001B[1;33m[\u001B[0m\u001B[1;34m'category_enc'\u001B[0m\u001B[1;33m]\u001B[0m\u001B[1;33m\u001B[0m\u001B[1;33m\u001B[0m\u001B[0m\n\u001B[0;32m      8\u001B[0m \u001B[0mto_drop\u001B[0m \u001B[1;33m=\u001B[0m \u001B[1;33m[\u001B[0m\u001B[1;34m'category'\u001B[0m\u001B[1;33m,\u001B[0m \u001B[1;34m'category_enc'\u001B[0m\u001B[1;33m]\u001B[0m\u001B[1;33m\u001B[0m\u001B[1;33m\u001B[0m\u001B[0m\n\u001B[1;32m----> 9\u001B[1;33m \u001B[0mX_train\u001B[0m\u001B[1;33m,\u001B[0m \u001B[0mX_test\u001B[0m\u001B[1;33m,\u001B[0m \u001B[0my_train\u001B[0m\u001B[1;33m,\u001B[0m \u001B[0my_test\u001B[0m \u001B[1;33m=\u001B[0m \u001B[0mtrain_test_split\u001B[0m\u001B[1;33m(\u001B[0m\u001B[0mdf\u001B[0m\u001B[1;33m.\u001B[0m\u001B[0mdrop\u001B[0m\u001B[1;33m(\u001B[0m\u001B[0mcolumns\u001B[0m\u001B[1;33m=\u001B[0m\u001B[0mto_drop\u001B[0m\u001B[1;33m)\u001B[0m\u001B[1;33m,\u001B[0m \u001B[0my\u001B[0m\u001B[1;33m,\u001B[0m \u001B[0mtest_size\u001B[0m\u001B[1;33m=\u001B[0m\u001B[1;36m0.3\u001B[0m\u001B[1;33m,\u001B[0m\u001B[0mrandom_state\u001B[0m\u001B[1;33m=\u001B[0m\u001B[1;36m42\u001B[0m\u001B[1;33m)\u001B[0m\u001B[1;33m\u001B[0m\u001B[1;33m\u001B[0m\u001B[0m\n\u001B[0m",
      "\u001B[1;32mc:\\users\\михаил\\pycharmprojects\\guess-draw\\venv\\lib\\site-packages\\sklearn\\model_selection\\_split.py\u001B[0m in \u001B[0;36mtrain_test_split\u001B[1;34m(test_size, train_size, random_state, shuffle, stratify, *arrays)\u001B[0m\n\u001B[0;32m   2197\u001B[0m         \u001B[0mtrain\u001B[0m\u001B[1;33m,\u001B[0m \u001B[0mtest\u001B[0m \u001B[1;33m=\u001B[0m \u001B[0mnext\u001B[0m\u001B[1;33m(\u001B[0m\u001B[0mcv\u001B[0m\u001B[1;33m.\u001B[0m\u001B[0msplit\u001B[0m\u001B[1;33m(\u001B[0m\u001B[0mX\u001B[0m\u001B[1;33m=\u001B[0m\u001B[0marrays\u001B[0m\u001B[1;33m[\u001B[0m\u001B[1;36m0\u001B[0m\u001B[1;33m]\u001B[0m\u001B[1;33m,\u001B[0m \u001B[0my\u001B[0m\u001B[1;33m=\u001B[0m\u001B[0mstratify\u001B[0m\u001B[1;33m)\u001B[0m\u001B[1;33m)\u001B[0m\u001B[1;33m\u001B[0m\u001B[1;33m\u001B[0m\u001B[0m\n\u001B[0;32m   2198\u001B[0m \u001B[1;33m\u001B[0m\u001B[0m\n\u001B[1;32m-> 2199\u001B[1;33m     return list(chain.from_iterable((_safe_indexing(a, train),\n\u001B[0m\u001B[0;32m   2200\u001B[0m                                      _safe_indexing(a, test)) for a in arrays))\n\u001B[0;32m   2201\u001B[0m \u001B[1;33m\u001B[0m\u001B[0m\n",
      "\u001B[1;32mc:\\users\\михаил\\pycharmprojects\\guess-draw\\venv\\lib\\site-packages\\sklearn\\model_selection\\_split.py\u001B[0m in \u001B[0;36m<genexpr>\u001B[1;34m(.0)\u001B[0m\n\u001B[0;32m   2198\u001B[0m \u001B[1;33m\u001B[0m\u001B[0m\n\u001B[0;32m   2199\u001B[0m     return list(chain.from_iterable((_safe_indexing(a, train),\n\u001B[1;32m-> 2200\u001B[1;33m                                      _safe_indexing(a, test)) for a in arrays))\n\u001B[0m\u001B[0;32m   2201\u001B[0m \u001B[1;33m\u001B[0m\u001B[0m\n\u001B[0;32m   2202\u001B[0m \u001B[1;33m\u001B[0m\u001B[0m\n",
      "\u001B[1;32mc:\\users\\михаил\\pycharmprojects\\guess-draw\\venv\\lib\\site-packages\\sklearn\\utils\\__init__.py\u001B[0m in \u001B[0;36m_safe_indexing\u001B[1;34m(X, indices, axis)\u001B[0m\n\u001B[0;32m    340\u001B[0m \u001B[1;33m\u001B[0m\u001B[0m\n\u001B[0;32m    341\u001B[0m     \u001B[1;32mif\u001B[0m \u001B[0mhasattr\u001B[0m\u001B[1;33m(\u001B[0m\u001B[0mX\u001B[0m\u001B[1;33m,\u001B[0m \u001B[1;34m\"iloc\"\u001B[0m\u001B[1;33m)\u001B[0m\u001B[1;33m:\u001B[0m\u001B[1;33m\u001B[0m\u001B[1;33m\u001B[0m\u001B[0m\n\u001B[1;32m--> 342\u001B[1;33m         \u001B[1;32mreturn\u001B[0m \u001B[0m_pandas_indexing\u001B[0m\u001B[1;33m(\u001B[0m\u001B[0mX\u001B[0m\u001B[1;33m,\u001B[0m \u001B[0mindices\u001B[0m\u001B[1;33m,\u001B[0m \u001B[0mindices_dtype\u001B[0m\u001B[1;33m,\u001B[0m \u001B[0maxis\u001B[0m\u001B[1;33m=\u001B[0m\u001B[0maxis\u001B[0m\u001B[1;33m)\u001B[0m\u001B[1;33m\u001B[0m\u001B[1;33m\u001B[0m\u001B[0m\n\u001B[0m\u001B[0;32m    343\u001B[0m     \u001B[1;32melif\u001B[0m \u001B[0mhasattr\u001B[0m\u001B[1;33m(\u001B[0m\u001B[0mX\u001B[0m\u001B[1;33m,\u001B[0m \u001B[1;34m\"shape\"\u001B[0m\u001B[1;33m)\u001B[0m\u001B[1;33m:\u001B[0m\u001B[1;33m\u001B[0m\u001B[1;33m\u001B[0m\u001B[0m\n\u001B[0;32m    344\u001B[0m         \u001B[1;32mreturn\u001B[0m \u001B[0m_array_indexing\u001B[0m\u001B[1;33m(\u001B[0m\u001B[0mX\u001B[0m\u001B[1;33m,\u001B[0m \u001B[0mindices\u001B[0m\u001B[1;33m,\u001B[0m \u001B[0mindices_dtype\u001B[0m\u001B[1;33m,\u001B[0m \u001B[0maxis\u001B[0m\u001B[1;33m=\u001B[0m\u001B[0maxis\u001B[0m\u001B[1;33m)\u001B[0m\u001B[1;33m\u001B[0m\u001B[1;33m\u001B[0m\u001B[0m\n",
      "\u001B[1;32mc:\\users\\михаил\\pycharmprojects\\guess-draw\\venv\\lib\\site-packages\\sklearn\\utils\\__init__.py\u001B[0m in \u001B[0;36m_pandas_indexing\u001B[1;34m(X, key, key_dtype, axis)\u001B[0m\n\u001B[0;32m    191\u001B[0m     \u001B[1;31m# check whether we should index with loc or iloc\u001B[0m\u001B[1;33m\u001B[0m\u001B[1;33m\u001B[0m\u001B[1;33m\u001B[0m\u001B[0m\n\u001B[0;32m    192\u001B[0m     \u001B[0mindexer\u001B[0m \u001B[1;33m=\u001B[0m \u001B[0mX\u001B[0m\u001B[1;33m.\u001B[0m\u001B[0miloc\u001B[0m \u001B[1;32mif\u001B[0m \u001B[0mkey_dtype\u001B[0m \u001B[1;33m==\u001B[0m \u001B[1;34m'int'\u001B[0m \u001B[1;32melse\u001B[0m \u001B[0mX\u001B[0m\u001B[1;33m.\u001B[0m\u001B[0mloc\u001B[0m\u001B[1;33m\u001B[0m\u001B[1;33m\u001B[0m\u001B[0m\n\u001B[1;32m--> 193\u001B[1;33m     \u001B[1;32mreturn\u001B[0m \u001B[0mindexer\u001B[0m\u001B[1;33m[\u001B[0m\u001B[1;33m:\u001B[0m\u001B[1;33m,\u001B[0m \u001B[0mkey\u001B[0m\u001B[1;33m]\u001B[0m \u001B[1;32mif\u001B[0m \u001B[0maxis\u001B[0m \u001B[1;32melse\u001B[0m \u001B[0mindexer\u001B[0m\u001B[1;33m[\u001B[0m\u001B[0mkey\u001B[0m\u001B[1;33m]\u001B[0m\u001B[1;33m\u001B[0m\u001B[1;33m\u001B[0m\u001B[0m\n\u001B[0m\u001B[0;32m    194\u001B[0m \u001B[1;33m\u001B[0m\u001B[0m\n\u001B[0;32m    195\u001B[0m \u001B[1;33m\u001B[0m\u001B[0m\n",
      "\u001B[1;32mc:\\users\\михаил\\pycharmprojects\\guess-draw\\venv\\lib\\site-packages\\pandas\\core\\indexing.py\u001B[0m in \u001B[0;36m__getitem__\u001B[1;34m(self, key)\u001B[0m\n\u001B[0;32m    892\u001B[0m \u001B[1;33m\u001B[0m\u001B[0m\n\u001B[0;32m    893\u001B[0m             \u001B[0mmaybe_callable\u001B[0m \u001B[1;33m=\u001B[0m \u001B[0mcom\u001B[0m\u001B[1;33m.\u001B[0m\u001B[0mapply_if_callable\u001B[0m\u001B[1;33m(\u001B[0m\u001B[0mkey\u001B[0m\u001B[1;33m,\u001B[0m \u001B[0mself\u001B[0m\u001B[1;33m.\u001B[0m\u001B[0mobj\u001B[0m\u001B[1;33m)\u001B[0m\u001B[1;33m\u001B[0m\u001B[1;33m\u001B[0m\u001B[0m\n\u001B[1;32m--> 894\u001B[1;33m             \u001B[1;32mreturn\u001B[0m \u001B[0mself\u001B[0m\u001B[1;33m.\u001B[0m\u001B[0m_getitem_axis\u001B[0m\u001B[1;33m(\u001B[0m\u001B[0mmaybe_callable\u001B[0m\u001B[1;33m,\u001B[0m \u001B[0maxis\u001B[0m\u001B[1;33m=\u001B[0m\u001B[0maxis\u001B[0m\u001B[1;33m)\u001B[0m\u001B[1;33m\u001B[0m\u001B[1;33m\u001B[0m\u001B[0m\n\u001B[0m\u001B[0;32m    895\u001B[0m \u001B[1;33m\u001B[0m\u001B[0m\n\u001B[0;32m    896\u001B[0m     \u001B[1;32mdef\u001B[0m \u001B[0m_is_scalar_access\u001B[0m\u001B[1;33m(\u001B[0m\u001B[0mself\u001B[0m\u001B[1;33m,\u001B[0m \u001B[0mkey\u001B[0m\u001B[1;33m:\u001B[0m \u001B[0mTuple\u001B[0m\u001B[1;33m)\u001B[0m\u001B[1;33m:\u001B[0m\u001B[1;33m\u001B[0m\u001B[1;33m\u001B[0m\u001B[0m\n",
      "\u001B[1;32mc:\\users\\михаил\\pycharmprojects\\guess-draw\\venv\\lib\\site-packages\\pandas\\core\\indexing.py\u001B[0m in \u001B[0;36m_getitem_axis\u001B[1;34m(self, key, axis)\u001B[0m\n\u001B[0;32m   1489\u001B[0m         \u001B[1;31m# a list of integers\u001B[0m\u001B[1;33m\u001B[0m\u001B[1;33m\u001B[0m\u001B[1;33m\u001B[0m\u001B[0m\n\u001B[0;32m   1490\u001B[0m         \u001B[1;32melif\u001B[0m \u001B[0mis_list_like_indexer\u001B[0m\u001B[1;33m(\u001B[0m\u001B[0mkey\u001B[0m\u001B[1;33m)\u001B[0m\u001B[1;33m:\u001B[0m\u001B[1;33m\u001B[0m\u001B[1;33m\u001B[0m\u001B[0m\n\u001B[1;32m-> 1491\u001B[1;33m             \u001B[1;32mreturn\u001B[0m \u001B[0mself\u001B[0m\u001B[1;33m.\u001B[0m\u001B[0m_get_list_axis\u001B[0m\u001B[1;33m(\u001B[0m\u001B[0mkey\u001B[0m\u001B[1;33m,\u001B[0m \u001B[0maxis\u001B[0m\u001B[1;33m=\u001B[0m\u001B[0maxis\u001B[0m\u001B[1;33m)\u001B[0m\u001B[1;33m\u001B[0m\u001B[1;33m\u001B[0m\u001B[0m\n\u001B[0m\u001B[0;32m   1492\u001B[0m \u001B[1;33m\u001B[0m\u001B[0m\n\u001B[0;32m   1493\u001B[0m         \u001B[1;31m# a single integer\u001B[0m\u001B[1;33m\u001B[0m\u001B[1;33m\u001B[0m\u001B[1;33m\u001B[0m\u001B[0m\n",
      "\u001B[1;32mc:\\users\\михаил\\pycharmprojects\\guess-draw\\venv\\lib\\site-packages\\pandas\\core\\indexing.py\u001B[0m in \u001B[0;36m_get_list_axis\u001B[1;34m(self, key, axis)\u001B[0m\n\u001B[0;32m   1471\u001B[0m         \"\"\"\n\u001B[0;32m   1472\u001B[0m         \u001B[1;32mtry\u001B[0m\u001B[1;33m:\u001B[0m\u001B[1;33m\u001B[0m\u001B[1;33m\u001B[0m\u001B[0m\n\u001B[1;32m-> 1473\u001B[1;33m             \u001B[1;32mreturn\u001B[0m \u001B[0mself\u001B[0m\u001B[1;33m.\u001B[0m\u001B[0mobj\u001B[0m\u001B[1;33m.\u001B[0m\u001B[0m_take_with_is_copy\u001B[0m\u001B[1;33m(\u001B[0m\u001B[0mkey\u001B[0m\u001B[1;33m,\u001B[0m \u001B[0maxis\u001B[0m\u001B[1;33m=\u001B[0m\u001B[0maxis\u001B[0m\u001B[1;33m)\u001B[0m\u001B[1;33m\u001B[0m\u001B[1;33m\u001B[0m\u001B[0m\n\u001B[0m\u001B[0;32m   1474\u001B[0m         \u001B[1;32mexcept\u001B[0m \u001B[0mIndexError\u001B[0m \u001B[1;32mas\u001B[0m \u001B[0merr\u001B[0m\u001B[1;33m:\u001B[0m\u001B[1;33m\u001B[0m\u001B[1;33m\u001B[0m\u001B[0m\n\u001B[0;32m   1475\u001B[0m             \u001B[1;31m# re-raise with different error message\u001B[0m\u001B[1;33m\u001B[0m\u001B[1;33m\u001B[0m\u001B[1;33m\u001B[0m\u001B[0m\n",
      "\u001B[1;32mc:\\users\\михаил\\pycharmprojects\\guess-draw\\venv\\lib\\site-packages\\pandas\\core\\generic.py\u001B[0m in \u001B[0;36m_take_with_is_copy\u001B[1;34m(self, indices, axis)\u001B[0m\n\u001B[0;32m   3595\u001B[0m         \u001B[0mSee\u001B[0m \u001B[0mthe\u001B[0m \u001B[0mdocstring\u001B[0m \u001B[0mof\u001B[0m\u001B[0;31m \u001B[0m\u001B[0;31m`\u001B[0m\u001B[0mtake\u001B[0m\u001B[0;31m`\u001B[0m \u001B[1;32mfor\u001B[0m \u001B[0mfull\u001B[0m \u001B[0mexplanation\u001B[0m \u001B[0mof\u001B[0m \u001B[0mthe\u001B[0m \u001B[0mparameters\u001B[0m\u001B[1;33m.\u001B[0m\u001B[1;33m\u001B[0m\u001B[1;33m\u001B[0m\u001B[0m\n\u001B[0;32m   3596\u001B[0m         \"\"\"\n\u001B[1;32m-> 3597\u001B[1;33m         \u001B[0mresult\u001B[0m \u001B[1;33m=\u001B[0m \u001B[0mself\u001B[0m\u001B[1;33m.\u001B[0m\u001B[0mtake\u001B[0m\u001B[1;33m(\u001B[0m\u001B[0mindices\u001B[0m\u001B[1;33m=\u001B[0m\u001B[0mindices\u001B[0m\u001B[1;33m,\u001B[0m \u001B[0maxis\u001B[0m\u001B[1;33m=\u001B[0m\u001B[0maxis\u001B[0m\u001B[1;33m)\u001B[0m\u001B[1;33m\u001B[0m\u001B[1;33m\u001B[0m\u001B[0m\n\u001B[0m\u001B[0;32m   3598\u001B[0m         \u001B[1;31m# Maybe set copy if we didn't actually change the index.\u001B[0m\u001B[1;33m\u001B[0m\u001B[1;33m\u001B[0m\u001B[1;33m\u001B[0m\u001B[0m\n\u001B[0;32m   3599\u001B[0m         \u001B[1;32mif\u001B[0m \u001B[1;32mnot\u001B[0m \u001B[0mresult\u001B[0m\u001B[1;33m.\u001B[0m\u001B[0m_get_axis\u001B[0m\u001B[1;33m(\u001B[0m\u001B[0maxis\u001B[0m\u001B[1;33m)\u001B[0m\u001B[1;33m.\u001B[0m\u001B[0mequals\u001B[0m\u001B[1;33m(\u001B[0m\u001B[0mself\u001B[0m\u001B[1;33m.\u001B[0m\u001B[0m_get_axis\u001B[0m\u001B[1;33m(\u001B[0m\u001B[0maxis\u001B[0m\u001B[1;33m)\u001B[0m\u001B[1;33m)\u001B[0m\u001B[1;33m:\u001B[0m\u001B[1;33m\u001B[0m\u001B[1;33m\u001B[0m\u001B[0m\n",
      "\u001B[1;32mc:\\users\\михаил\\pycharmprojects\\guess-draw\\venv\\lib\\site-packages\\pandas\\core\\generic.py\u001B[0m in \u001B[0;36mtake\u001B[1;34m(self, indices, axis, is_copy, **kwargs)\u001B[0m\n\u001B[0;32m   3581\u001B[0m         \u001B[0mself\u001B[0m\u001B[1;33m.\u001B[0m\u001B[0m_consolidate_inplace\u001B[0m\u001B[1;33m(\u001B[0m\u001B[1;33m)\u001B[0m\u001B[1;33m\u001B[0m\u001B[1;33m\u001B[0m\u001B[0m\n\u001B[0;32m   3582\u001B[0m \u001B[1;33m\u001B[0m\u001B[0m\n\u001B[1;32m-> 3583\u001B[1;33m         new_data = self._mgr.take(\n\u001B[0m\u001B[0;32m   3584\u001B[0m             \u001B[0mindices\u001B[0m\u001B[1;33m,\u001B[0m \u001B[0maxis\u001B[0m\u001B[1;33m=\u001B[0m\u001B[0mself\u001B[0m\u001B[1;33m.\u001B[0m\u001B[0m_get_block_manager_axis\u001B[0m\u001B[1;33m(\u001B[0m\u001B[0maxis\u001B[0m\u001B[1;33m)\u001B[0m\u001B[1;33m,\u001B[0m \u001B[0mverify\u001B[0m\u001B[1;33m=\u001B[0m\u001B[1;32mTrue\u001B[0m\u001B[1;33m\u001B[0m\u001B[1;33m\u001B[0m\u001B[0m\n\u001B[0;32m   3585\u001B[0m         )\n",
      "\u001B[1;32mc:\\users\\михаил\\pycharmprojects\\guess-draw\\venv\\lib\\site-packages\\pandas\\core\\internals\\managers.py\u001B[0m in \u001B[0;36mtake\u001B[1;34m(self, indexer, axis, verify, convert)\u001B[0m\n\u001B[0;32m   1472\u001B[0m \u001B[1;33m\u001B[0m\u001B[0m\n\u001B[0;32m   1473\u001B[0m         \u001B[0mnew_labels\u001B[0m \u001B[1;33m=\u001B[0m \u001B[0mself\u001B[0m\u001B[1;33m.\u001B[0m\u001B[0maxes\u001B[0m\u001B[1;33m[\u001B[0m\u001B[0maxis\u001B[0m\u001B[1;33m]\u001B[0m\u001B[1;33m.\u001B[0m\u001B[0mtake\u001B[0m\u001B[1;33m(\u001B[0m\u001B[0mindexer\u001B[0m\u001B[1;33m)\u001B[0m\u001B[1;33m\u001B[0m\u001B[1;33m\u001B[0m\u001B[0m\n\u001B[1;32m-> 1474\u001B[1;33m         return self.reindex_indexer(\n\u001B[0m\u001B[0;32m   1475\u001B[0m             \u001B[0mnew_axis\u001B[0m\u001B[1;33m=\u001B[0m\u001B[0mnew_labels\u001B[0m\u001B[1;33m,\u001B[0m \u001B[0mindexer\u001B[0m\u001B[1;33m=\u001B[0m\u001B[0mindexer\u001B[0m\u001B[1;33m,\u001B[0m \u001B[0maxis\u001B[0m\u001B[1;33m=\u001B[0m\u001B[0maxis\u001B[0m\u001B[1;33m,\u001B[0m \u001B[0mallow_dups\u001B[0m\u001B[1;33m=\u001B[0m\u001B[1;32mTrue\u001B[0m\u001B[1;33m\u001B[0m\u001B[1;33m\u001B[0m\u001B[0m\n\u001B[0;32m   1476\u001B[0m         )\n",
      "\u001B[1;32mc:\\users\\михаил\\pycharmprojects\\guess-draw\\venv\\lib\\site-packages\\pandas\\core\\internals\\managers.py\u001B[0m in \u001B[0;36mreindex_indexer\u001B[1;34m(self, new_axis, indexer, axis, fill_value, allow_dups, copy, consolidate, only_slice)\u001B[0m\n\u001B[0;32m   1309\u001B[0m             )\n\u001B[0;32m   1310\u001B[0m         \u001B[1;32melse\u001B[0m\u001B[1;33m:\u001B[0m\u001B[1;33m\u001B[0m\u001B[1;33m\u001B[0m\u001B[0m\n\u001B[1;32m-> 1311\u001B[1;33m             new_blocks = [\n\u001B[0m\u001B[0;32m   1312\u001B[0m                 blk.take_nd(\n\u001B[0;32m   1313\u001B[0m                     \u001B[0mindexer\u001B[0m\u001B[1;33m,\u001B[0m\u001B[1;33m\u001B[0m\u001B[1;33m\u001B[0m\u001B[0m\n",
      "\u001B[1;32mc:\\users\\михаил\\pycharmprojects\\guess-draw\\venv\\lib\\site-packages\\pandas\\core\\internals\\managers.py\u001B[0m in \u001B[0;36m<listcomp>\u001B[1;34m(.0)\u001B[0m\n\u001B[0;32m   1310\u001B[0m         \u001B[1;32melse\u001B[0m\u001B[1;33m:\u001B[0m\u001B[1;33m\u001B[0m\u001B[1;33m\u001B[0m\u001B[0m\n\u001B[0;32m   1311\u001B[0m             new_blocks = [\n\u001B[1;32m-> 1312\u001B[1;33m                 blk.take_nd(\n\u001B[0m\u001B[0;32m   1313\u001B[0m                     \u001B[0mindexer\u001B[0m\u001B[1;33m,\u001B[0m\u001B[1;33m\u001B[0m\u001B[1;33m\u001B[0m\u001B[0m\n\u001B[0;32m   1314\u001B[0m                     \u001B[0maxis\u001B[0m\u001B[1;33m=\u001B[0m\u001B[0maxis\u001B[0m\u001B[1;33m,\u001B[0m\u001B[1;33m\u001B[0m\u001B[1;33m\u001B[0m\u001B[0m\n",
      "\u001B[1;32mc:\\users\\михаил\\pycharmprojects\\guess-draw\\venv\\lib\\site-packages\\pandas\\core\\internals\\blocks.py\u001B[0m in \u001B[0;36mtake_nd\u001B[1;34m(self, indexer, axis, new_mgr_locs, fill_value)\u001B[0m\n\u001B[0;32m   1383\u001B[0m             \u001B[0mallow_fill\u001B[0m \u001B[1;33m=\u001B[0m \u001B[1;32mTrue\u001B[0m\u001B[1;33m\u001B[0m\u001B[1;33m\u001B[0m\u001B[0m\n\u001B[0;32m   1384\u001B[0m \u001B[1;33m\u001B[0m\u001B[0m\n\u001B[1;32m-> 1385\u001B[1;33m         new_values = algos.take_nd(\n\u001B[0m\u001B[0;32m   1386\u001B[0m             \u001B[0mvalues\u001B[0m\u001B[1;33m,\u001B[0m \u001B[0mindexer\u001B[0m\u001B[1;33m,\u001B[0m \u001B[0maxis\u001B[0m\u001B[1;33m=\u001B[0m\u001B[0maxis\u001B[0m\u001B[1;33m,\u001B[0m \u001B[0mallow_fill\u001B[0m\u001B[1;33m=\u001B[0m\u001B[0mallow_fill\u001B[0m\u001B[1;33m,\u001B[0m \u001B[0mfill_value\u001B[0m\u001B[1;33m=\u001B[0m\u001B[0mfill_value\u001B[0m\u001B[1;33m\u001B[0m\u001B[1;33m\u001B[0m\u001B[0m\n\u001B[0;32m   1387\u001B[0m         )\n",
      "\u001B[1;32mc:\\users\\михаил\\pycharmprojects\\guess-draw\\venv\\lib\\site-packages\\pandas\\core\\algorithms.py\u001B[0m in \u001B[0;36mtake_nd\u001B[1;34m(arr, indexer, axis, out, fill_value, allow_fill)\u001B[0m\n\u001B[0;32m   1752\u001B[0m             \u001B[0mout\u001B[0m \u001B[1;33m=\u001B[0m \u001B[0mnp\u001B[0m\u001B[1;33m.\u001B[0m\u001B[0mempty\u001B[0m\u001B[1;33m(\u001B[0m\u001B[0mout_shape\u001B[0m\u001B[1;33m,\u001B[0m \u001B[0mdtype\u001B[0m\u001B[1;33m=\u001B[0m\u001B[0mdtype\u001B[0m\u001B[1;33m,\u001B[0m \u001B[0morder\u001B[0m\u001B[1;33m=\u001B[0m\u001B[1;34m\"F\"\u001B[0m\u001B[1;33m)\u001B[0m\u001B[1;33m\u001B[0m\u001B[1;33m\u001B[0m\u001B[0m\n\u001B[0;32m   1753\u001B[0m         \u001B[1;32melse\u001B[0m\u001B[1;33m:\u001B[0m\u001B[1;33m\u001B[0m\u001B[1;33m\u001B[0m\u001B[0m\n\u001B[1;32m-> 1754\u001B[1;33m             \u001B[0mout\u001B[0m \u001B[1;33m=\u001B[0m \u001B[0mnp\u001B[0m\u001B[1;33m.\u001B[0m\u001B[0mempty\u001B[0m\u001B[1;33m(\u001B[0m\u001B[0mout_shape\u001B[0m\u001B[1;33m,\u001B[0m \u001B[0mdtype\u001B[0m\u001B[1;33m=\u001B[0m\u001B[0mdtype\u001B[0m\u001B[1;33m)\u001B[0m\u001B[1;33m\u001B[0m\u001B[1;33m\u001B[0m\u001B[0m\n\u001B[0m\u001B[0;32m   1755\u001B[0m \u001B[1;33m\u001B[0m\u001B[0m\n\u001B[0;32m   1756\u001B[0m     func = _get_take_nd_function(\n",
      "\u001B[1;31mMemoryError\u001B[0m: Unable to allocate 1.52 GiB for an array with shape (784, 260103) and data type int64"
     ]
    }
   ],
   "source": [
    "from sklearn.model_selection import train_test_split\n",
    "from sklearn.preprocessing import LabelEncoder\n",
    "\n",
    "le = LabelEncoder()\n",
    "le.fit_transform(df['category'])\n",
    "df[\"category_enc\"] = le.transform(df['category'])\n",
    "y = df['category_enc']\n",
    "to_drop = ['category', 'category_enc']\n",
    "X_train, X_test, y_train, y_test = train_test_split(df.drop(columns=to_drop), y, test_size=0.3,random_state=42)"
   ]
  },
  {
   "cell_type": "code",
   "execution_count": null,
   "metadata": {},
   "outputs": [],
   "source": []
  },
  {
   "cell_type": "code",
   "execution_count": null,
   "metadata": {
    "pycharm": {
     "is_executing": true,
     "name": "#%%\n"
    }
   },
   "outputs": [
    {
     "name": "stdout",
     "output_type": "stream",
     "text": [
      "Learning rate set to 0.101068\n"
     ]
    }
   ],
   "source": [
    "# from catboost import CatBoostClassifier\n",
    "# \n",
    "# clf_cat = CatBoostClassifier()\n",
    "# clf_cat.fit(X_train, y_train)"
   ]
  },
  {
   "cell_type": "code",
   "execution_count": null,
   "metadata": {
    "pycharm": {
     "name": "#%%\n"
    }
   },
   "outputs": [],
   "source": [
    "# from sklearn.metrics import classification_report\n",
    "# \n",
    "# print(*enumerate(le.classes_))\n",
    "# print(classification_report(y_test, clf_cat.predict(X_test)))"
   ]
  },
  {
   "cell_type": "code",
   "execution_count": 13,
   "metadata": {
    "pycharm": {
     "is_executing": true,
     "name": "#%%\n"
    }
   },
   "outputs": [
    {
     "name": "stdout",
     "output_type": "stream",
     "text": [
      "Epoch 1/7\n",
      "3794/3794 [==============================] - 134s 35ms/step - loss: 10.6168 - accuracy: 0.0233 - val_loss: 10.7479 - val_accuracy: 0.1269\n",
      "Epoch 2/7\n",
      "3794/3794 [==============================] - 129s 34ms/step - loss: 7.4590 - accuracy: 0.0946 - val_loss: 7.0053 - val_accuracy: 0.1577\n",
      "Epoch 3/7\n",
      "3794/3794 [==============================] - 130s 34ms/step - loss: 6.0583 - accuracy: 0.0983 - val_loss: 18988.2246 - val_accuracy: 0.1402\n",
      "Epoch 4/7\n",
      "3794/3794 [==============================] - 130s 34ms/step - loss: 4.3805 - accuracy: 0.1412 - val_loss: 326.4281 - val_accuracy: 0.2633\n",
      "Epoch 5/7\n",
      "3794/3794 [==============================] - 130s 34ms/step - loss: 3.6130 - accuracy: 0.2151 - val_loss: 13897.9746 - val_accuracy: 0.3264\n",
      "Epoch 6/7\n",
      "3794/3794 [==============================] - 130s 34ms/step - loss: 3.4428 - accuracy: 0.2421 - val_loss: 961.6301 - val_accuracy: 0.3376\n",
      "Epoch 7/7\n",
      "3794/3794 [==============================] - 128s 34ms/step - loss: 3.2429 - accuracy: 0.2779 - val_loss: 1796.8673 - val_accuracy: 0.3470\n",
      "1626/1626 [==============================] - 9s 6ms/step - loss: 1796.8673 - accuracy: 0.3470\n",
      "Test acc: 0.3470262587070465\n"
     ]
    }
   ],
   "source": [
    "import tensorflow as tf\n",
    "from tensorflow import keras\n",
    "\n",
    "tf.config.experimental.set_memory_growth(tf.config.get_visible_devices('GPU')[0], True)\n",
    "DROP_OUT = 6\n",
    "KERNEL_SIZE = 3\n",
    "CATEGORIES = len(df['category'].unique())\n",
    "model = keras.Sequential([\n",
    "    keras.layers.Reshape((-1,28,28,1)),\n",
    "    keras.layers.experimental.preprocessing.Rescaling(scale=1./255.),\n",
    "\n",
    "    keras.layers.Conv2D(56, kernel_size=KERNEL_SIZE, activation='relu'),\n",
    "    keras.layers.BatchNormalization(),\n",
    "    keras.layers.Dropout(0.1 * DROP_OUT),\n",
    "\n",
    "    keras.layers.Conv2D(56, kernel_size=KERNEL_SIZE, activation='relu'),\n",
    "    keras.layers.BatchNormalization(),\n",
    "    keras.layers.Dropout(0.1 * DROP_OUT),\n",
    "\n",
    "    keras.layers.Conv2D(56, kernel_size=KERNEL_SIZE, activation='relu'),\n",
    "    keras.layers.BatchNormalization(),\n",
    "    keras.layers.Dropout(0.1 * DROP_OUT),\n",
    "    \n",
    "    keras.layers.Conv2D(56, kernel_size=KERNEL_SIZE, activation='relu'),\n",
    "    keras.layers.BatchNormalization(),\n",
    "    keras.layers.Dropout(0.1 * DROP_OUT),\n",
    "\n",
    "    keras.layers.Conv2D(56, kernel_size=KERNEL_SIZE, activation='relu'),\n",
    "    keras.layers.BatchNormalization(),\n",
    "    keras.layers.Dropout(0.1 * DROP_OUT),\n",
    "        \n",
    "    keras.layers.Conv2D(56, kernel_size=KERNEL_SIZE, activation='relu'),\n",
    "    keras.layers.BatchNormalization(),\n",
    "    keras.layers.Dropout(0.1 * DROP_OUT),\n",
    "\n",
    "    keras.layers.Conv2D(56, kernel_size=KERNEL_SIZE, activation='relu'),\n",
    "    keras.layers.BatchNormalization(),\n",
    "    keras.layers.Dropout(0.1 * DROP_OUT),\n",
    "    \n",
    "    keras.layers.Flatten(),\n",
    "\n",
    "    keras.layers.Dense(CATEGORIES * 10, activation = \"relu\"),\n",
    "    keras.layers.BatchNormalization(),\n",
    "    keras.layers.Dropout(0.1 * DROP_OUT),\n",
    "    \n",
    "    keras.layers.Dense(CATEGORIES * 30, activation = \"relu\"),\n",
    "    keras.layers.BatchNormalization(),\n",
    "    keras.layers.Dropout(0.1 * DROP_OUT),\n",
    "    \n",
    "    keras.layers.Dense(CATEGORIES * 30, activation = \"relu\"),\n",
    "    keras.layers.BatchNormalization(),\n",
    "    keras.layers.Dropout(0.1 * DROP_OUT),\n",
    "\n",
    "    keras.layers.Dense(CATEGORIES, activation='softmax')\n",
    "])\n",
    "model.compile(optimizer='adam',\n",
    "              loss='sparse_categorical_crossentropy',\n",
    "              metrics=['accuracy'])\n",
    "\n",
    "hist = model.fit(X_train, y_train, epochs=7, validation_data=(X_test, y_test))\n",
    "\n",
    "test_loss, test_acc = model.evaluate(X_test,  y_test, verbose=1)\n",
    "print(\"Test acc: {}\".format(test_acc ))\n",
    "\n"
   ]
  }
 ],
 "metadata": {
  "kernelspec": {
   "display_name": "Python 3",
   "language": "python",
   "name": "python3"
  },
  "language_info": {
   "codemirror_mode": {
    "name": "ipython",
    "version": 3
   },
   "file_extension": ".py",
   "mimetype": "text/x-python",
   "name": "python",
   "nbconvert_exporter": "python",
   "pygments_lexer": "ipython3",
   "version": "3.8.7"
  }
 },
 "nbformat": 4,
 "nbformat_minor": 1
}